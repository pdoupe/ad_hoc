{
 "cells": [
  {
   "cell_type": "markdown",
   "id": "41a7231b",
   "metadata": {},
   "source": [
    "# Current hierarichy performance\n",
    "\n",
    "## Problem\n",
    "\n",
    "We are launching a recommendation tool that identifies vendor cohorts and\n",
    "suggests performance improvements based on peer comparisons within those\n",
    "cohorts.  This ad hoc approach creates two risks for our MVP rollout: Weak\n",
    "statistical foundation: We haven't validated whether our cohorts actually group\n",
    "similar-performing vendors together Stakeholder confidence: Without a principled\n",
    "justification for cohort boundaries, leadership are questioning recommendation\n",
    "validity For more details, see [RFC - Reco cohort updating](https://docs.google.com/document/d/1N57UfysXpHLFVXMAi5htYw2L8hBySiKq9frPIBlvaPk/edit?tab=t.0#heading=h.wcy3kyozl6o0)\n",
    "\n",
    "## Current cohort rule\n",
    "\n",
    "Our current cohort rule uses a six-level nested hierarchy (Country → City → Area\n",
    "→ Price → Cuisine → Grade) that was designed primarily for explainability to\n",
    "account managers rather than analytical rigor. One shortcoming of the cohort\n",
    "rule is that when there are an insufficient number of chains in a cohort, the\n",
    "fallback is often to a broad “All” category. For example, 8% of vendors in the\n",
    "UAE are in a category with the following dimension values\n",
    "\n",
    "- Entity: tb_ae \n",
    "- City: All \n",
    "- Area: All \n",
    "- Priciness: All \n",
    "- Cuisine: All \n",
    "- Vendor Grade: All\n",
    "\n",
    "Why so many? Our belief is that this is due to the fallback logic. A fallback\n",
    "occurs when a proposed cohort has too few vendors for reliable comparison. In\n",
    "the current rule, we switch from a granular cohort to the broadest relevant\n",
    "cohort with the most chain ids.\n",
    "\n",
    "## This iteration\n",
    "\n",
    "- We provide a baseline estimate of the current cohort performance\n",
    "    - Focus on TB_AE for speedier development\n",
    "    - We drop around 1% of vendors due to complexity of implementing full fallback\n",
    "    - Inference also focused on one month, not necessarily predictive\n",
    "- We compare the baseline with some simple adjustments\n",
    "    - Removing the fallback hierarchy allows us to group vendors with similar revenue\n",
    "- We investigate the predictive performance of cohort dimensions\n",
    "    - Vendor grade is important\n",
    "    - We should to include Key Account sub categories\n",
    "\n",
    "## Recommendations \n",
    "\n",
    "One more cycle of development. Gun to my head recommendation for today: \n",
    "- ‘Hierarchical, no cuisine’ provides a boost to performance measure similarity\n",
    "over the current, while the largest, worst case cohorts are reduced to areas\n",
    "within a city rather than the whole market as with the current."
   ]
  },
  {
   "cell_type": "code",
   "execution_count": 1,
   "id": "9932cb79",
   "metadata": {},
   "outputs": [
    {
     "name": "stderr",
     "output_type": "stream",
     "text": [
      "/Users/patrick.doupe/DH/ad_hoc/cohorts/.venv/lib/python3.13/site-packages/google/cloud/bigquery/__init__.py:237: FutureWarning: %load_ext google.cloud.bigquery is deprecated. Install bigquery-magics package and use `%load_ext bigquery_magics`, instead.\n",
      "  warnings.warn(\n"
     ]
    }
   ],
   "source": [
    "from datetime import date\n",
    "from highlight_text import fig_text\n",
    "from functools import reduce, partial\n",
    "from itertools import permutations\n",
    "from scipy import stats\n",
    "from scipy.stats import kruskal, f_oneway\n",
    "from cohorts.calculating_cohort_statistics import get_groups, compare_outlier_methods\n",
    "\n",
    "import os\n",
    "import numpy as np\n",
    "import pandas as pd\n",
    "import pandas_gbq\n",
    "import seaborn as sns\n",
    "import matplotlib.pyplot as plt\n",
    "import bigframes.pandas as bpd\n",
    "import statsmodels.api as sm\n",
    "\n",
    "import warnings\n",
    "warnings.filterwarnings(action='once')\n",
    "\n",
    "%load_ext google.cloud.bigquery\n",
    "bpd.options.bigquery.project = \"dhh-ncr-stg\""
   ]
  },
  {
   "cell_type": "code",
   "execution_count": null,
   "id": "eac2017d",
   "metadata": {},
   "outputs": [],
   "source": [
    "TARGET_ENTITY = 'TB_AE'\n",
    "CREATED_MONTH = '2025-07-01'\n",
    "\n",
    "CURRENT_COHORT_PATH = 'dhh-ncr-stg.patrick_doupe.current_cohort_vendor_base'"
   ]
  },
  {
   "cell_type": "markdown",
   "id": "750d3a89",
   "metadata": {},
   "source": [
    "## Current cohort rule"
   ]
  },
  {
   "cell_type": "code",
   "execution_count": 3,
   "id": "b24f17e2",
   "metadata": {},
   "outputs": [
    {
     "name": "stderr",
     "output_type": "stream",
     "text": [
      "/Users/patrick.doupe/DH/ad_hoc/cohorts/.venv/lib/python3.13/site-packages/pandas_gbq/gbq_connector.py:461: PendingDeprecationWarning: In a future major release, the default delimiter will be changed to a `/` in accordance with RFC9110.\n",
      "  user_agent = create_user_agent(\n"
     ]
    },
    {
     "name": "stdout",
     "output_type": "stream",
     "text": [
      "Downloading: 100%|\u001b[32m██████████\u001b[0m|\n"
     ]
    }
   ],
   "source": [
    "base_query = \"SELECT * FROM `{path}` WHERE global_entity_id = '{target_entity}' AND DATE(created_month) = '{created_month}'\"\n",
    "\n",
    "df_current = pandas_gbq.read_gbq(base_query.format(path=CURRENT_COHORT_PATH, target_entity=TARGET_ENTITY, created_month=CREATED_MONTH))"
   ]
  },
  {
   "cell_type": "code",
   "execution_count": 4,
   "id": "7233dfc9",
   "metadata": {},
   "outputs": [
    {
     "name": "stdout",
     "output_type": "stream",
     "text": [
      "<class 'pandas.core.frame.DataFrame'>\n",
      "RangeIndex: 27709 entries, 0 to 27708\n",
      "Data columns (total 7 columns):\n",
      " #   Column            Non-Null Count  Dtype \n",
      "---  ------            --------------  ----- \n",
      " 0   global_entity_id  27709 non-null  object\n",
      " 1   vendor_id         27709 non-null  object\n",
      " 2   cohort_id         27709 non-null  Int64 \n",
      " 3   created_month     27709 non-null  dbdate\n",
      " 4   gmv               27709 non-null  object\n",
      " 5   customers         27709 non-null  Int64 \n",
      " 6   orders            27709 non-null  Int64 \n",
      "dtypes: Int64(3), dbdate(1), object(3)\n",
      "memory usage: 1.6+ MB\n"
     ]
    }
   ],
   "source": [
    "df_current.info()"
   ]
  },
  {
   "cell_type": "code",
   "execution_count": 5,
   "id": "37a9d503",
   "metadata": {},
   "outputs": [],
   "source": [
    "# convert gmv to float\n",
    "df_current['gmv'] = pd.to_numeric(df_current['gmv'], errors='coerce')\n",
    "assert df_current['gmv'].isna().sum() == 0, \"There are NaNs in the GMV column\""
   ]
  },
  {
   "cell_type": "markdown",
   "id": "4dcd58ef",
   "metadata": {},
   "source": [
    "Let's get some basic statistics and checks"
   ]
  },
  {
   "cell_type": "code",
   "execution_count": 6,
   "id": "9c33eb6f",
   "metadata": {},
   "outputs": [
    {
     "data": {
      "application/vnd.microsoft.datawrangler.viewer.v0+json": {
       "columns": [
        {
         "name": "index",
         "rawType": "object",
         "type": "string"
        },
        {
         "name": "cohort_id",
         "rawType": "Float64",
         "type": "float"
        },
        {
         "name": "gmv",
         "rawType": "float64",
         "type": "float"
        },
        {
         "name": "customers",
         "rawType": "Float64",
         "type": "float"
        },
        {
         "name": "orders",
         "rawType": "Float64",
         "type": "float"
        }
       ],
       "ref": "8c3693a8-b7f4-4ba3-82db-1846e70167ad",
       "rows": [
        [
         "count",
         "27709.0",
         "27709.0",
         "27709.0",
         "27709.0"
        ],
        [
         "mean",
         "85003.19315024",
         "292.5477404453427",
         "12.616189685661698",
         "19.328052257389295"
        ],
        [
         "std",
         "74612.04760350315",
         "719.2826014258106",
         "32.41302293478888",
         "47.303899112693735"
        ],
        [
         "min",
         "874.0",
         "0.0",
         "0.0",
         "0.0"
        ],
        [
         "25%",
         "66257.0",
         "0.0",
         "0.0",
         "0.0"
        ],
        [
         "50%",
         "81737.0",
         "47.62",
         "2.0",
         "4.0"
        ],
        [
         "75%",
         "102214.0",
         "253.25",
         "11.0",
         "17.0"
        ],
        [
         "max",
         "2002626.0",
         "13986.88",
         "727.0",
         "980.0"
        ]
       ],
       "shape": {
        "columns": 4,
        "rows": 8
       }
      },
      "text/html": [
       "<div>\n",
       "<style scoped>\n",
       "    .dataframe tbody tr th:only-of-type {\n",
       "        vertical-align: middle;\n",
       "    }\n",
       "\n",
       "    .dataframe tbody tr th {\n",
       "        vertical-align: top;\n",
       "    }\n",
       "\n",
       "    .dataframe thead th {\n",
       "        text-align: right;\n",
       "    }\n",
       "</style>\n",
       "<table border=\"1\" class=\"dataframe\">\n",
       "  <thead>\n",
       "    <tr style=\"text-align: right;\">\n",
       "      <th></th>\n",
       "      <th>cohort_id</th>\n",
       "      <th>gmv</th>\n",
       "      <th>customers</th>\n",
       "      <th>orders</th>\n",
       "    </tr>\n",
       "  </thead>\n",
       "  <tbody>\n",
       "    <tr>\n",
       "      <th>count</th>\n",
       "      <td>27709.0</td>\n",
       "      <td>27709.000000</td>\n",
       "      <td>27709.0</td>\n",
       "      <td>27709.0</td>\n",
       "    </tr>\n",
       "    <tr>\n",
       "      <th>mean</th>\n",
       "      <td>85003.19315</td>\n",
       "      <td>292.547740</td>\n",
       "      <td>12.61619</td>\n",
       "      <td>19.328052</td>\n",
       "    </tr>\n",
       "    <tr>\n",
       "      <th>std</th>\n",
       "      <td>74612.047604</td>\n",
       "      <td>719.282601</td>\n",
       "      <td>32.413023</td>\n",
       "      <td>47.303899</td>\n",
       "    </tr>\n",
       "    <tr>\n",
       "      <th>min</th>\n",
       "      <td>874.0</td>\n",
       "      <td>0.000000</td>\n",
       "      <td>0.0</td>\n",
       "      <td>0.0</td>\n",
       "    </tr>\n",
       "    <tr>\n",
       "      <th>25%</th>\n",
       "      <td>66257.0</td>\n",
       "      <td>0.000000</td>\n",
       "      <td>0.0</td>\n",
       "      <td>0.0</td>\n",
       "    </tr>\n",
       "    <tr>\n",
       "      <th>50%</th>\n",
       "      <td>81737.0</td>\n",
       "      <td>47.620000</td>\n",
       "      <td>2.0</td>\n",
       "      <td>4.0</td>\n",
       "    </tr>\n",
       "    <tr>\n",
       "      <th>75%</th>\n",
       "      <td>102214.0</td>\n",
       "      <td>253.250000</td>\n",
       "      <td>11.0</td>\n",
       "      <td>17.0</td>\n",
       "    </tr>\n",
       "    <tr>\n",
       "      <th>max</th>\n",
       "      <td>2002626.0</td>\n",
       "      <td>13986.880000</td>\n",
       "      <td>727.0</td>\n",
       "      <td>980.0</td>\n",
       "    </tr>\n",
       "  </tbody>\n",
       "</table>\n",
       "</div>"
      ],
      "text/plain": [
       "          cohort_id           gmv  customers     orders\n",
       "count       27709.0  27709.000000    27709.0    27709.0\n",
       "mean    85003.19315    292.547740   12.61619  19.328052\n",
       "std    74612.047604    719.282601  32.413023  47.303899\n",
       "min           874.0      0.000000        0.0        0.0\n",
       "25%         66257.0      0.000000        0.0        0.0\n",
       "50%         81737.0     47.620000        2.0        4.0\n",
       "75%        102214.0    253.250000       11.0       17.0\n",
       "max       2002626.0  13986.880000      727.0      980.0"
      ]
     },
     "execution_count": 6,
     "metadata": {},
     "output_type": "execute_result"
    }
   ],
   "source": [
    "df_current.describe()"
   ]
  },
  {
   "cell_type": "code",
   "execution_count": 7,
   "id": "e913d0b5",
   "metadata": {},
   "outputs": [
    {
     "data": {
      "application/vnd.microsoft.datawrangler.viewer.v0+json": {
       "columns": [
        {
         "name": "index",
         "rawType": "object",
         "type": "string"
        },
        {
         "name": "gmv",
         "rawType": "float64",
         "type": "float"
        },
        {
         "name": "customers",
         "rawType": "float64",
         "type": "float"
        },
        {
         "name": "orders",
         "rawType": "float64",
         "type": "float"
        }
       ],
       "ref": "0f9e5ed8-d766-4468-9719-e556ac589637",
       "rows": [
        [
         "gmv",
         "1.0",
         "0.9546080467783559",
         "0.9661494671492126"
        ],
        [
         "customers",
         "0.9546080467783559",
         "1.0",
         "0.9891389275111879"
        ],
        [
         "orders",
         "0.9661494671492126",
         "0.9891389275111879",
         "1.0"
        ]
       ],
       "shape": {
        "columns": 3,
        "rows": 3
       }
      },
      "text/html": [
       "<div>\n",
       "<style scoped>\n",
       "    .dataframe tbody tr th:only-of-type {\n",
       "        vertical-align: middle;\n",
       "    }\n",
       "\n",
       "    .dataframe tbody tr th {\n",
       "        vertical-align: top;\n",
       "    }\n",
       "\n",
       "    .dataframe thead th {\n",
       "        text-align: right;\n",
       "    }\n",
       "</style>\n",
       "<table border=\"1\" class=\"dataframe\">\n",
       "  <thead>\n",
       "    <tr style=\"text-align: right;\">\n",
       "      <th></th>\n",
       "      <th>gmv</th>\n",
       "      <th>customers</th>\n",
       "      <th>orders</th>\n",
       "    </tr>\n",
       "  </thead>\n",
       "  <tbody>\n",
       "    <tr>\n",
       "      <th>gmv</th>\n",
       "      <td>1.000000</td>\n",
       "      <td>0.954608</td>\n",
       "      <td>0.966149</td>\n",
       "    </tr>\n",
       "    <tr>\n",
       "      <th>customers</th>\n",
       "      <td>0.954608</td>\n",
       "      <td>1.000000</td>\n",
       "      <td>0.989139</td>\n",
       "    </tr>\n",
       "    <tr>\n",
       "      <th>orders</th>\n",
       "      <td>0.966149</td>\n",
       "      <td>0.989139</td>\n",
       "      <td>1.000000</td>\n",
       "    </tr>\n",
       "  </tbody>\n",
       "</table>\n",
       "</div>"
      ],
      "text/plain": [
       "                gmv  customers    orders\n",
       "gmv        1.000000   0.954608  0.966149\n",
       "customers  0.954608   1.000000  0.989139\n",
       "orders     0.966149   0.989139  1.000000"
      ]
     },
     "execution_count": 7,
     "metadata": {},
     "output_type": "execute_result"
    }
   ],
   "source": [
    "df_current[['gmv', 'customers', 'orders']].corr()"
   ]
  },
  {
   "cell_type": "markdown",
   "id": "dac453e6",
   "metadata": {},
   "source": [
    "The three outcome columns are all highly correlated, let's proceed with GMV but armed with knowledge that if we match for GMV we match for orders and customers"
   ]
  },
  {
   "cell_type": "code",
   "execution_count": 8,
   "id": "9330313b",
   "metadata": {},
   "outputs": [
    {
     "name": "stdout",
     "output_type": "stream",
     "text": [
      "The number of cohorts is 2684\n",
      "The number of cohorts with less than five vendors is is 0\n",
      "The number of cohorts with one vendor is 0\n"
     ]
    }
   ],
   "source": [
    "n_vendors = df_current.vendor_id.nunique()\n",
    "n_rows = df_current.shape[0]\n",
    "\n",
    "assert n_vendors == n_rows, f\"The numbers of rows {n_rows} differs from the number of vendors {n_vendors}\"\n",
    "\n",
    "n_cohorts = df_current.cohort_id.nunique()\n",
    "n_cohorts_lt5 = (df_current.groupby(\"cohort_id\")['vendor_id'].nunique() < 5).sum() \n",
    "n_cohorts_eq1 = (df_current.groupby(\"cohort_id\")['vendor_id'].nunique() ==1).sum() \n",
    "\n",
    "print(f\"The number of cohorts is {n_cohorts}\")\n",
    "print(f\"The number of cohorts with less than five vendors is is {n_cohorts_lt5}\")\n",
    "print(f\"The number of cohorts with one vendor is {n_cohorts_eq1}\")"
   ]
  },
  {
   "cell_type": "code",
   "execution_count": 9,
   "id": "4115b860",
   "metadata": {},
   "outputs": [
    {
     "data": {
      "application/vnd.microsoft.datawrangler.viewer.v0+json": {
       "columns": [
        {
         "name": "cohort_id",
         "rawType": "Int64",
         "type": "integer"
        },
        {
         "name": "vendor_id",
         "rawType": "int64",
         "type": "integer"
        }
       ],
       "ref": "35c979b5-84ed-4fb6-932e-f6349834d227",
       "rows": [
        [
         "70778",
         "2422"
        ],
        [
         "82329",
         "122"
        ],
        [
         "26704",
         "76"
        ],
        [
         "72173",
         "70"
        ],
        [
         "79490",
         "61"
        ]
       ],
       "shape": {
        "columns": 1,
        "rows": 5
       }
      },
      "text/plain": [
       "cohort_id\n",
       "70778    2422\n",
       "82329     122\n",
       "26704      76\n",
       "72173      70\n",
       "79490      61\n",
       "Name: vendor_id, dtype: int64"
      ]
     },
     "execution_count": 9,
     "metadata": {},
     "output_type": "execute_result"
    }
   ],
   "source": [
    "# what are the biggest cohorts? \n",
    "df_current.groupby('cohort_id')['vendor_id'].nunique().sort_values(ascending=False).head()"
   ]
  },
  {
   "cell_type": "markdown",
   "id": "7f13dd97",
   "metadata": {},
   "source": [
    "That large cohort is large"
   ]
  },
  {
   "cell_type": "code",
   "execution_count": 10,
   "id": "09ebf33d",
   "metadata": {},
   "outputs": [
    {
     "data": {
      "application/vnd.microsoft.datawrangler.viewer.v0+json": {
       "columns": [
        {
         "name": "index",
         "rawType": "int64",
         "type": "integer"
        },
        {
         "name": "global_entity_id",
         "rawType": "object",
         "type": "string"
        },
        {
         "name": "vendor_id",
         "rawType": "object",
         "type": "string"
        },
        {
         "name": "cohort_id",
         "rawType": "Int64",
         "type": "integer"
        },
        {
         "name": "created_month",
         "rawType": "dbdate",
         "type": "unknown"
        },
        {
         "name": "gmv",
         "rawType": "float64",
         "type": "float"
        },
        {
         "name": "customers",
         "rawType": "Int64",
         "type": "integer"
        },
        {
         "name": "orders",
         "rawType": "Int64",
         "type": "integer"
        }
       ],
       "ref": "acf165d0-c889-4289-a7cf-3f6c11356966",
       "rows": [
        [
         "0",
         "TB_AE",
         "23897",
         "874",
         "2025-07-01",
         "444.77",
         "33",
         "46"
        ],
        [
         "1",
         "TB_AE",
         "736377",
         "4228",
         "2025-07-01",
         "587.85",
         "29",
         "52"
        ],
        [
         "2",
         "TB_AE",
         "750314",
         "5843",
         "2025-07-01",
         "1190.04",
         "46",
         "84"
        ],
        [
         "3",
         "TB_AE",
         "709585",
         "8875",
         "2025-07-01",
         "789.36",
         "34",
         "54"
        ],
        [
         "4",
         "TB_AE",
         "733844",
         "10139",
         "2025-07-01",
         "2536.65",
         "94",
         "129"
        ],
        [
         "5",
         "TB_AE",
         "44678",
         "10140",
         "2025-07-01",
         "7524.12",
         "360",
         "580"
        ],
        [
         "6",
         "TB_AE",
         "748551",
         "10151",
         "2025-07-01",
         "566.25",
         "37",
         "58"
        ],
        [
         "7",
         "TB_AE",
         "679369",
         "10177",
         "2025-07-01",
         "651.22",
         "23",
         "43"
        ],
        [
         "8",
         "TB_AE",
         "663323",
         "10177",
         "2025-07-01",
         "1206.29",
         "55",
         "89"
        ],
        [
         "9",
         "TB_AE",
         "734027",
         "10184",
         "2025-07-01",
         "391.7",
         "22",
         "32"
        ],
        [
         "10",
         "TB_AE",
         "751560",
         "10329",
         "2025-07-01",
         "642.89",
         "45",
         "60"
        ],
        [
         "11",
         "TB_AE",
         "679061",
         "11009",
         "2025-07-01",
         "2017.9",
         "83",
         "130"
        ],
        [
         "12",
         "TB_AE",
         "689503",
         "11028",
         "2025-07-01",
         "5306.78",
         "315",
         "418"
        ],
        [
         "13",
         "TB_AE",
         "623875",
         "11081",
         "2025-07-01",
         "1135.7",
         "54",
         "94"
        ],
        [
         "14",
         "TB_AE",
         "681738",
         "12236",
         "2025-07-01",
         "636.86",
         "27",
         "37"
        ],
        [
         "15",
         "TB_AE",
         "34155",
         "12249",
         "2025-07-01",
         "1142.19",
         "42",
         "89"
        ],
        [
         "16",
         "TB_AE",
         "756807",
         "12315",
         "2025-07-01",
         "1066.05",
         "39",
         "65"
        ],
        [
         "17",
         "TB_AE",
         "719078",
         "12994",
         "2025-07-01",
         "718.47",
         "36",
         "47"
        ],
        [
         "18",
         "TB_AE",
         "699846",
         "13264",
         "2025-07-01",
         "1043.29",
         "35",
         "44"
        ],
        [
         "19",
         "TB_AE",
         "658192",
         "13264",
         "2025-07-01",
         "578.18",
         "25",
         "56"
        ],
        [
         "20",
         "TB_AE",
         "24391",
         "13264",
         "2025-07-01",
         "500.04",
         "21",
         "32"
        ],
        [
         "21",
         "TB_AE",
         "51912",
         "14263",
         "2025-07-01",
         "1910.7",
         "104",
         "180"
        ],
        [
         "22",
         "TB_AE",
         "741624",
         "15591",
         "2025-07-01",
         "290.56",
         "23",
         "31"
        ],
        [
         "23",
         "TB_AE",
         "744460",
         "16327",
         "2025-07-01",
         "341.72",
         "20",
         "30"
        ],
        [
         "24",
         "TB_AE",
         "762404",
         "16347",
         "2025-07-01",
         "595.29",
         "36",
         "46"
        ],
        [
         "25",
         "TB_AE",
         "739239",
         "16909",
         "2025-07-01",
         "934.69",
         "24",
         "43"
        ],
        [
         "26",
         "TB_AE",
         "25093",
         "18251",
         "2025-07-01",
         "975.9",
         "48",
         "67"
        ],
        [
         "27",
         "TB_AE",
         "632328",
         "18976",
         "2025-07-01",
         "1034.96",
         "38",
         "61"
        ],
        [
         "28",
         "TB_AE",
         "43942",
         "18976",
         "2025-07-01",
         "905.49",
         "35",
         "59"
        ],
        [
         "29",
         "TB_AE",
         "727136",
         "20016",
         "2025-07-01",
         "538.68",
         "28",
         "35"
        ],
        [
         "30",
         "TB_AE",
         "718824",
         "21352",
         "2025-07-01",
         "371.15",
         "25",
         "38"
        ],
        [
         "31",
         "TB_AE",
         "746191",
         "22272",
         "2025-07-01",
         "629.89",
         "31",
         "54"
        ],
        [
         "32",
         "TB_AE",
         "738203",
         "24823",
         "2025-07-01",
         "323.61",
         "17",
         "31"
        ],
        [
         "33",
         "TB_AE",
         "32310",
         "25837",
         "2025-07-01",
         "2763.26",
         "62",
         "105"
        ],
        [
         "34",
         "TB_AE",
         "751135",
         "26703",
         "2025-07-01",
         "509.8",
         "20",
         "36"
        ],
        [
         "35",
         "TB_AE",
         "643266",
         "28133",
         "2025-07-01",
         "943.47",
         "29",
         "44"
        ],
        [
         "36",
         "TB_AE",
         "22297",
         "28313",
         "2025-07-01",
         "1203.51",
         "53",
         "78"
        ],
        [
         "37",
         "TB_AE",
         "617341",
         "28680",
         "2025-07-01",
         "2732.84",
         "89",
         "158"
        ],
        [
         "38",
         "TB_AE",
         "734060",
         "28684",
         "2025-07-01",
         "854.33",
         "47",
         "72"
        ],
        [
         "39",
         "TB_AE",
         "40364",
         "32013",
         "2025-07-01",
         "675.52",
         "25",
         "32"
        ],
        [
         "40",
         "TB_AE",
         "754734",
         "32753",
         "2025-07-01",
         "272.81",
         "25",
         "33"
        ],
        [
         "41",
         "TB_AE",
         "43556",
         "33690",
         "2025-07-01",
         "732.89",
         "44",
         "71"
        ],
        [
         "42",
         "TB_AE",
         "715988",
         "33691",
         "2025-07-01",
         "636.56",
         "22",
         "38"
        ],
        [
         "43",
         "TB_AE",
         "711678",
         "33703",
         "2025-07-01",
         "429.53",
         "27",
         "36"
        ],
        [
         "44",
         "TB_AE",
         "681118",
         "34816",
         "2025-07-01",
         "1904.74",
         "136",
         "196"
        ],
        [
         "45",
         "TB_AE",
         "47715",
         "34818",
         "2025-07-01",
         "2314.93",
         "84",
         "103"
        ],
        [
         "46",
         "TB_AE",
         "611307",
         "36331",
         "2025-07-01",
         "2755.81",
         "53",
         "81"
        ],
        [
         "47",
         "TB_AE",
         "41147",
         "37673",
         "2025-07-01",
         "1526.4",
         "91",
         "123"
        ],
        [
         "48",
         "TB_AE",
         "734765",
         "37673",
         "2025-07-01",
         "1510.36",
         "115",
         "137"
        ],
        [
         "49",
         "TB_AE",
         "601005",
         "38506",
         "2025-07-01",
         "649.19",
         "24",
         "45"
        ]
       ],
       "shape": {
        "columns": 7,
        "rows": 27709
       }
      },
      "text/html": [
       "<div>\n",
       "<style scoped>\n",
       "    .dataframe tbody tr th:only-of-type {\n",
       "        vertical-align: middle;\n",
       "    }\n",
       "\n",
       "    .dataframe tbody tr th {\n",
       "        vertical-align: top;\n",
       "    }\n",
       "\n",
       "    .dataframe thead th {\n",
       "        text-align: right;\n",
       "    }\n",
       "</style>\n",
       "<table border=\"1\" class=\"dataframe\">\n",
       "  <thead>\n",
       "    <tr style=\"text-align: right;\">\n",
       "      <th></th>\n",
       "      <th>global_entity_id</th>\n",
       "      <th>vendor_id</th>\n",
       "      <th>cohort_id</th>\n",
       "      <th>created_month</th>\n",
       "      <th>gmv</th>\n",
       "      <th>customers</th>\n",
       "      <th>orders</th>\n",
       "    </tr>\n",
       "  </thead>\n",
       "  <tbody>\n",
       "    <tr>\n",
       "      <th>0</th>\n",
       "      <td>TB_AE</td>\n",
       "      <td>23897</td>\n",
       "      <td>874</td>\n",
       "      <td>2025-07-01</td>\n",
       "      <td>444.77</td>\n",
       "      <td>33</td>\n",
       "      <td>46</td>\n",
       "    </tr>\n",
       "    <tr>\n",
       "      <th>1</th>\n",
       "      <td>TB_AE</td>\n",
       "      <td>736377</td>\n",
       "      <td>4228</td>\n",
       "      <td>2025-07-01</td>\n",
       "      <td>587.85</td>\n",
       "      <td>29</td>\n",
       "      <td>52</td>\n",
       "    </tr>\n",
       "    <tr>\n",
       "      <th>2</th>\n",
       "      <td>TB_AE</td>\n",
       "      <td>750314</td>\n",
       "      <td>5843</td>\n",
       "      <td>2025-07-01</td>\n",
       "      <td>1190.04</td>\n",
       "      <td>46</td>\n",
       "      <td>84</td>\n",
       "    </tr>\n",
       "    <tr>\n",
       "      <th>3</th>\n",
       "      <td>TB_AE</td>\n",
       "      <td>709585</td>\n",
       "      <td>8875</td>\n",
       "      <td>2025-07-01</td>\n",
       "      <td>789.36</td>\n",
       "      <td>34</td>\n",
       "      <td>54</td>\n",
       "    </tr>\n",
       "    <tr>\n",
       "      <th>4</th>\n",
       "      <td>TB_AE</td>\n",
       "      <td>733844</td>\n",
       "      <td>10139</td>\n",
       "      <td>2025-07-01</td>\n",
       "      <td>2536.65</td>\n",
       "      <td>94</td>\n",
       "      <td>129</td>\n",
       "    </tr>\n",
       "    <tr>\n",
       "      <th>...</th>\n",
       "      <td>...</td>\n",
       "      <td>...</td>\n",
       "      <td>...</td>\n",
       "      <td>...</td>\n",
       "      <td>...</td>\n",
       "      <td>...</td>\n",
       "      <td>...</td>\n",
       "    </tr>\n",
       "    <tr>\n",
       "      <th>27704</th>\n",
       "      <td>TB_AE</td>\n",
       "      <td>645429</td>\n",
       "      <td>82221</td>\n",
       "      <td>2025-07-01</td>\n",
       "      <td>610.49</td>\n",
       "      <td>19</td>\n",
       "      <td>29</td>\n",
       "    </tr>\n",
       "    <tr>\n",
       "      <th>27705</th>\n",
       "      <td>TB_AE</td>\n",
       "      <td>41859</td>\n",
       "      <td>82357</td>\n",
       "      <td>2025-07-01</td>\n",
       "      <td>672.58</td>\n",
       "      <td>20</td>\n",
       "      <td>29</td>\n",
       "    </tr>\n",
       "    <tr>\n",
       "      <th>27706</th>\n",
       "      <td>TB_AE</td>\n",
       "      <td>729971</td>\n",
       "      <td>90434</td>\n",
       "      <td>2025-07-01</td>\n",
       "      <td>656.16</td>\n",
       "      <td>27</td>\n",
       "      <td>29</td>\n",
       "    </tr>\n",
       "    <tr>\n",
       "      <th>27707</th>\n",
       "      <td>TB_AE</td>\n",
       "      <td>734608</td>\n",
       "      <td>96920</td>\n",
       "      <td>2025-07-01</td>\n",
       "      <td>408.48</td>\n",
       "      <td>15</td>\n",
       "      <td>29</td>\n",
       "    </tr>\n",
       "    <tr>\n",
       "      <th>27708</th>\n",
       "      <td>TB_AE</td>\n",
       "      <td>761200</td>\n",
       "      <td>131157</td>\n",
       "      <td>2025-07-01</td>\n",
       "      <td>473.15</td>\n",
       "      <td>16</td>\n",
       "      <td>29</td>\n",
       "    </tr>\n",
       "  </tbody>\n",
       "</table>\n",
       "<p>27709 rows × 7 columns</p>\n",
       "</div>"
      ],
      "text/plain": [
       "      global_entity_id vendor_id  cohort_id created_month      gmv  customers  \\\n",
       "0                TB_AE     23897        874    2025-07-01   444.77         33   \n",
       "1                TB_AE    736377       4228    2025-07-01   587.85         29   \n",
       "2                TB_AE    750314       5843    2025-07-01  1190.04         46   \n",
       "3                TB_AE    709585       8875    2025-07-01   789.36         34   \n",
       "4                TB_AE    733844      10139    2025-07-01  2536.65         94   \n",
       "...                ...       ...        ...           ...      ...        ...   \n",
       "27704            TB_AE    645429      82221    2025-07-01   610.49         19   \n",
       "27705            TB_AE     41859      82357    2025-07-01   672.58         20   \n",
       "27706            TB_AE    729971      90434    2025-07-01   656.16         27   \n",
       "27707            TB_AE    734608      96920    2025-07-01   408.48         15   \n",
       "27708            TB_AE    761200     131157    2025-07-01   473.15         16   \n",
       "\n",
       "       orders  \n",
       "0          46  \n",
       "1          52  \n",
       "2          84  \n",
       "3          54  \n",
       "4         129  \n",
       "...       ...  \n",
       "27704      29  \n",
       "27705      29  \n",
       "27706      29  \n",
       "27707      29  \n",
       "27708      29  \n",
       "\n",
       "[27709 rows x 7 columns]"
      ]
     },
     "execution_count": 10,
     "metadata": {},
     "output_type": "execute_result"
    }
   ],
   "source": [
    "df_current"
   ]
  },
  {
   "cell_type": "markdown",
   "id": "990039f6",
   "metadata": {},
   "source": [
    "Let's get the multiple that defines the top 5% of the distribution"
   ]
  },
  {
   "cell_type": "code",
   "execution_count": 11,
   "id": "d14a5c29",
   "metadata": {},
   "outputs": [
    {
     "name": "stdout",
     "output_type": "stream",
     "text": [
      "The 95th quantile of vendor revenue is 4.8 times the mean\n"
     ]
    }
   ],
   "source": [
    "multiple_of_mean_top_five_pc = df_current.gmv.quantile(q=0.95) / df_current.gmv.mean()\n",
    "print(f\"The 95th quantile of vendor revenue is {round(multiple_of_mean_top_five_pc, 1)} times the mean\")"
   ]
  },
  {
   "cell_type": "markdown",
   "id": "9764e05c",
   "metadata": {},
   "source": [
    "Let's look at the distribution of GMV"
   ]
  },
  {
   "cell_type": "code",
   "execution_count": 12,
   "id": "66914f86",
   "metadata": {},
   "outputs": [
    {
     "data": {
      "image/png": "[encoded data removed]",
      "text/plain": [
       "<Figure size 1200x400 with 2 Axes>"
      ]
     },
     "metadata": {},
     "output_type": "display_data"
    }
   ],
   "source": [
    "plt.figure(figsize=(12, 4))\n",
    "\n",
    "# Histogram\n",
    "plt.subplot(1, 2, 1)\n",
    "plt.hist(df_current['gmv'], bins=50)\n",
    "plt.title(f'GMV Distribution')\n",
    "\n",
    "# Q-Q plot\n",
    "plt.subplot(1, 2, 2)\n",
    "stats.probplot(df_current['gmv'], dist=\"norm\", plot=plt)\n",
    "plt.title('Q-Q Plot')\n",
    "\n",
    "plt.show()"
   ]
  },
  {
   "cell_type": "markdown",
   "id": "c708ace6",
   "metadata": {},
   "source": [
    "Yep, that's (probably) a power law. Not Gaußian in any case"
   ]
  },
  {
   "cell_type": "code",
   "execution_count": 13,
   "id": "8ab2945a",
   "metadata": {},
   "outputs": [
    {
     "data": {
      "image/png": "[encoded data removed]",
      "text/plain": [
       "<Figure size 640x480 with 1 Axes>"
      ]
     },
     "metadata": {},
     "output_type": "display_data"
    }
   ],
   "source": [
    "# Box plot by cohort (sample a few cohorts)\n",
    "sample_cohorts = df_current['cohort_id'].value_counts().head(5).index\n",
    "df_current[df_current['cohort_id'].isin(sample_cohorts)].boxplot(column='gmv', by='cohort_id')\n",
    "plt.title('Distribution by Cohort')\n",
    "plt.show()"
   ]
  },
  {
   "cell_type": "markdown",
   "id": "45f36c85",
   "metadata": {},
   "source": [
    "Outliers are prevalent in cohorts for sure. Especially in cohort 70778.\n",
    "\n",
    "Does taking the log solve things?"
   ]
  },
  {
   "cell_type": "code",
   "execution_count": 14,
   "id": "a8703dec",
   "metadata": {},
   "outputs": [
    {
     "data": {
      "image/png": "[encoded data removed]",
      "text/plain": [
       "<Figure size 1200x400 with 2 Axes>"
      ]
     },
     "metadata": {},
     "output_type": "display_data"
    }
   ],
   "source": [
    "df_current['log_gmv'] = [np.log(1 + r) for r in df_current.gmv.values]\n",
    "\n",
    "plt.figure(figsize=(12, 4))\n",
    "# Histogram\n",
    "plt.subplot(1, 2, 1)\n",
    "plt.hist(df_current['log_gmv'], bins=50)\n",
    "plt.title(f'Log GMV Distribution')\n",
    "# Q-Q plot\n",
    "plt.subplot(1, 2, 2)\n",
    "stats.probplot(df_current['log_gmv'], dist=\"norm\", plot=plt)\n",
    "plt.title('Q-Q Plot')\n",
    "\n",
    "plt.show()"
   ]
  },
  {
   "cell_type": "markdown",
   "id": "c37f0c9b",
   "metadata": {},
   "source": [
    "Not really"
   ]
  },
  {
   "cell_type": "markdown",
   "id": "aca6b7d6",
   "metadata": {},
   "source": [
    "Let's get some basic statistics"
   ]
  },
  {
   "cell_type": "code",
   "execution_count": 15,
   "id": "e49eb988",
   "metadata": {},
   "outputs": [
    {
     "name": "stdout",
     "output_type": "stream",
     "text": [
      "The f-stat for the current grouping is 11.28\n",
      "The H-stat for the current grouping is 13624.55\n"
     ]
    }
   ],
   "source": [
    "cohort_groups_current = get_groups(df_current, performance_col='gmv', cohort_col='cohort_id')\n",
    "f_stat, _ = f_oneway(*cohort_groups_current)\n",
    "h_stat, _ = kruskal(*cohort_groups_current)\n",
    "\n",
    "print(f\"The f-stat for the current grouping is {f_stat:.2f}\")\n",
    "print(f\"The H-stat for the current grouping is {h_stat:.2f}\")"
   ]
  },
  {
   "cell_type": "code",
   "execution_count": 18,
   "id": "5cea7a45",
   "metadata": {},
   "outputs": [],
   "source": [
    "outlier_comparison = compare_outlier_methods(df_current, 'gmv', 'cohort_id')\n",
    "\n",
    "# Calculate summary statistics\n",
    "share_cohorts_with_outlier_IQR = np.mean([min(1, x) for x in outlier_comparison.iqr_outliers])\n",
    "share_cohorts_with_outlier_5x = np.mean([min(1, x) for x in outlier_comparison.mean_5x_outliers])\n",
    "\n",
    "iqr_total_outliers = outlier_comparison['iqr_outliers'].sum()\n",
    "mean_5x_total_outliers = outlier_comparison['mean_5x_outliers'].sum()\n",
    "overlap_total_vendors = outlier_comparison['overlap_iqr_mean'].sum()"
   ]
  },
  {
   "cell_type": "code",
   "execution_count": 19,
   "id": "b214a637",
   "metadata": {},
   "outputs": [
    {
     "name": "stdout",
     "output_type": "stream",
     "text": [
      "--- Outlier Analysis Summary ---\n",
      "Share of cohorts with IQR outliers: 0.286\n",
      "Share of cohorts with 5x Mean outliers: 0.149\n",
      "Total IQR outliers across all cohorts: 1053\n",
      "Total 5x Mean outliers across all cohorts: 544\n",
      "Total vendors with overlap in IQR and 5x Mean outliers: 522\n",
      "H-statistic: 13624.550\n",
      "F-statistic: 11.276 (Note: F-stat typically from ANOVA, ensure source is correct)\n"
     ]
    }
   ],
   "source": [
    "print(\"--- Outlier Analysis Summary ---\")\n",
    "print(f\"Share of cohorts with IQR outliers: {share_cohorts_with_outlier_IQR:.3f}\")\n",
    "print(f\"Share of cohorts with 5x Mean outliers: {share_cohorts_with_outlier_5x:.3f}\")\n",
    "print(f\"Total IQR outliers across all cohorts: {iqr_total_outliers}\")\n",
    "print(f\"Total 5x Mean outliers across all cohorts: {mean_5x_total_outliers}\")\n",
    "print(f\"Total vendors with overlap in IQR and 5x Mean outliers: {overlap_total_vendors}\")\n",
    "print(f\"H-statistic: {h_stat:.3f}\")\n",
    "print(f\"F-statistic: {f_stat:.3f} (Note: F-stat typically from ANOVA, ensure source is correct)\")"
   ]
  }
 ],
 "metadata": {
  "kernelspec": {
   "display_name": "cohorts-py3.13 (3.13.4)",
   "language": "python",
   "name": "python3"
  },
  "language_info": {
   "codemirror_mode": {
    "name": "ipython",
    "version": 3
   },
   "file_extension": ".py",
   "mimetype": "text/x-python",
   "name": "python",
   "nbconvert_exporter": "python",
   "pygments_lexer": "ipython3",
   "version": "3.13.4"
  }
 },
 "nbformat": 4,
 "nbformat_minor": 5
}
