{
 "cells": [
  {
   "cell_type": "markdown",
   "id": "41a7231b",
   "metadata": {},
   "source": [
    "# Current hierarichy performance\n",
    "\n",
    "## Problem\n",
    "\n",
    "We are launching a recommendation tool that identifies vendor cohorts and\n",
    "suggests performance improvements based on peer comparisons within those\n",
    "cohorts.  This ad hoc approach creates two risks for our MVP rollout: Weak\n",
    "statistical foundation: We haven't validated whether our cohorts actually group\n",
    "similar-performing vendors together Stakeholder confidence: Without a principled\n",
    "justification for cohort boundaries, leadership are questioning recommendation\n",
    "validity For more details, see [RFC - Reco cohort updating](https://docs.google.com/document/d/1N57UfysXpHLFVXMAi5htYw2L8hBySiKq9frPIBlvaPk/edit?tab=t.0#heading=h.wcy3kyozl6o0)\n",
    "\n",
    "## Current cohort rule\n",
    "\n",
    "Our current cohort rule uses a six-level nested hierarchy (Country → City → Area\n",
    "→ Price → Cuisine → Grade) that was designed primarily for explainability to\n",
    "account managers rather than analytical rigor. One shortcoming of the cohort\n",
    "rule is that when there are an insufficient number of chains in a cohort, the\n",
    "fallback is often to a broad “All” category. For example, 8% of vendors in the\n",
    "UAE are in a category with the following dimension values\n",
    "\n",
    "- Entity: tb_ae \n",
    "- City: All \n",
    "- Area: All \n",
    "- Priciness: All \n",
    "- Cuisine: All \n",
    "- Vendor Grade: All\n",
    "\n",
    "Why so many? Our belief is that this is due to the fallback logic. A fallback\n",
    "occurs when a proposed cohort has too few vendors for reliable comparison. In\n",
    "the current rule, we switch from a granular cohort to the broadest relevant\n",
    "cohort with the most chain ids.\n",
    "\n",
    "## This iteration\n",
    "\n",
    "- We provide a baseline estimate of the current cohort performance\n",
    "    - Focus on TB_AE for speedier development\n",
    "    - We drop around 1% of vendors due to complexity of implementing full fallback\n",
    "    - Inference also focused on one month, not necessarily predictive\n",
    "- We compare the baseline with some simple adjustments\n",
    "    - Removing the fallback hierarchy allows us to group vendors with similar revenue\n",
    "- We investigate the predictive performance of cohort dimensions\n",
    "    - Vendor grade is important\n",
    "    - We should to include Key Account sub categories\n",
    "\n",
    "## Recommendations \n",
    "\n",
    "One more cycle of development. Gun to my head recommendation for today: \n",
    "- ‘Hierarchical, no cuisine’ provides a boost to performance measure similarity\n",
    "over the current, while the largest, worst case cohorts are reduced to areas\n",
    "within a city rather than the whole market as with the current.\n",
    "\n",
    "Update: after some discussion with Devin and Istiak, we've settled on basic\n",
    "match and basic match no cuisine as the two best options. The reason is that we\n",
    "want to focus on the variance within cohorts.\n"
   ]
  },
  {
   "cell_type": "code",
   "execution_count": 2,
   "id": "9932cb79",
   "metadata": {},
   "outputs": [
    {
     "name": "stderr",
     "output_type": "stream",
     "text": [
      "/Users/patrick.doupe/DH/ad_hoc/cohorts/.venv/lib/python3.13/site-packages/google/cloud/bigquery/__init__.py:237: FutureWarning: %load_ext google.cloud.bigquery is deprecated. Install bigquery-magics package and use `%load_ext bigquery_magics`, instead.\n",
      "  warnings.warn(\n"
     ]
    }
   ],
   "source": [
    "from pathlib import Path\n",
    "from cohorts.cohort_statistics import (\n",
    "    compare_outlier_methods, \n",
    "    process_dataframes_for_outliers, \n",
    "    process_dataframes_with_gmv,\n",
    "    plot_figure_wrapper,\n",
    "    pretty_print_output,\n",
    "    get_top_cohort_items\n",
    "    )\n",
    "\n",
    "import os\n",
    "import warnings\n",
    "import numpy as np\n",
    "import pandas as pd\n",
    "import pandas_gbq\n",
    "import bigframes.pandas as bpd\n",
    "\n",
    "%load_ext google.cloud.bigquery\n",
    "bpd.options.bigquery.project = \"dhh-ncr-stg\"\n",
    "\n",
    "# where to save plots\n",
    "CURRENT_DIR = Path(os.getcwd())\n",
    "BASE_PLOT_PATH = CURRENT_DIR.parent / \"figures\" "
   ]
  },
  {
   "cell_type": "code",
   "execution_count": 3,
   "id": "eac2017d",
   "metadata": {},
   "outputs": [],
   "source": [
    "# new cohort rules\n",
    "BASIC = 'logistics-vendor-production.pa_staging.smart_reco_active_cohorts_hierarchical_most_in_common_v1'\n",
    "HIERARCHICAL = 'logistics-vendor-production.pa_staging.smart_reco_active_cohorts_hierarchical_most_in_common_v2'\n",
    "BASIC_NO_CUISINE = 'logistics-vendor-production.pa_staging.smart_reco_active_cohorts_hierarchical_most_in_common_v1_cuisine'\n",
    "HIERARCHICAL_NO_CUISINE = 'logistics-vendor-production.pa_staging.smart_reco_active_cohorts_hierarchical_most_in_common_v2_cusine'\n",
    "BASIC_MIN10 = 'logistics-vendor-production.pa_staging.smart_reco_active_cohorts_hierarchical_most_in_common_v1_10'"
   ]
  },
  {
   "cell_type": "code",
   "execution_count": 6,
   "id": "19608d7f",
   "metadata": {},
   "outputs": [],
   "source": [
    "base_sql_query = \"\"\"\n",
    "select * from (\n",
    "select\n",
    "*,\n",
    "count(distinct concat(entity_id,vendor_code)) over (partition by cohort_id) as vendors,\n",
    "from `{table_path}`\n",
    ") where vendors>=5\n",
    "\"\"\""
   ]
  },
  {
   "cell_type": "code",
   "execution_count": 7,
   "id": "f3030ae9",
   "metadata": {},
   "outputs": [],
   "source": [
    "# For current cohort rules \n",
    "TARGET_ENTITY = 'TB_AE'\n",
    "CREATED_MONTH = '2025-07-01'\n",
    "CURRENT_COHORT_PATH = 'dhh-ncr-stg.patrick_doupe.current_cohort_vendor_base'\n",
    "\n",
    "NEW_SUMMARY_TABLE_ID = 'patrick_doupe.cohort_basic_hierarchy_statistics'\n",
    "PROJECT_ID = 'dhh-ncr-stg'\n",
    "\n",
    "current_query = \"\"\"\n",
    "    SELECT \n",
    "        global_entity_id AS entity_id,\n",
    "        vendor_id AS vendor_code,\n",
    "        cohort_id,\n",
    "        COALESCE(gmv, 0) AS gmv \n",
    "    FROM `{path}` WHERE global_entity_id = '{target_entity}' AND DATE(created_month) = '{created_month}' \n",
    "\"\"\""
   ]
  },
  {
   "cell_type": "code",
   "execution_count": 8,
   "id": "01594617",
   "metadata": {},
   "outputs": [
    {
     "name": "stdout",
     "output_type": "stream",
     "text": [
      "Downloading: 100%|\u001b[32m██████████\u001b[0m|\n",
      "Downloading: 100%|\u001b[32m██████████\u001b[0m|\n",
      "Downloading: 100%|\u001b[32m██████████\u001b[0m|\n",
      "Downloading: 100%|\u001b[32m██████████\u001b[0m|\n",
      "Downloading: 100%|\u001b[32m██████████\u001b[0m|\n",
      "Downloading: 100%|\u001b[32m██████████\u001b[0m|\n"
     ]
    }
   ],
   "source": [
    "df_basic = pandas_gbq.read_gbq(base_sql_query.format(table_path=BASIC))\n",
    "df_h = pandas_gbq.read_gbq(base_sql_query.format(table_path=HIERARCHICAL))\n",
    "df_basic_no_cuisine = pandas_gbq.read_gbq(base_sql_query.format(table_path=BASIC_NO_CUISINE))\n",
    "df_h_no_cuisine = pandas_gbq.read_gbq(base_sql_query.format(table_path=HIERARCHICAL_NO_CUISINE))\n",
    "df_basic_min10 = pandas_gbq.read_gbq(base_sql_query.format(table_path=BASIC_MIN10))\n",
    "\n",
    "df_current = pandas_gbq.read_gbq(current_query.format(path=CURRENT_COHORT_PATH, target_entity=TARGET_ENTITY, created_month=CREATED_MONTH))"
   ]
  },
  {
   "cell_type": "code",
   "execution_count": 7,
   "id": "35f92b56",
   "metadata": {},
   "outputs": [
    {
     "name": "stdout",
     "output_type": "stream",
     "text": [
      "<class 'pandas.core.frame.DataFrame'>\n",
      "RangeIndex: 27709 entries, 0 to 27708\n",
      "Data columns (total 4 columns):\n",
      " #   Column       Non-Null Count  Dtype \n",
      "---  ------       --------------  ----- \n",
      " 0   entity_id    27709 non-null  object\n",
      " 1   vendor_code  27709 non-null  object\n",
      " 2   cohort_id    27709 non-null  Int64 \n",
      " 3   gmv          27709 non-null  object\n",
      "dtypes: Int64(1), object(3)\n",
      "memory usage: 893.1+ KB\n"
     ]
    }
   ],
   "source": [
    "df_current.info()"
   ]
  },
  {
   "cell_type": "code",
   "execution_count": 8,
   "id": "db8cdb5e",
   "metadata": {},
   "outputs": [],
   "source": [
    "df_current['gmv'] = pd.to_numeric(df_current['gmv'], errors='coerce')\n",
    "\n",
    "df_list_mapping = {\n",
    "    'basic': df_basic,\n",
    "    'basic_min10': df_basic_min10,\n",
    "    'basic_no_c': df_basic_no_cuisine,\n",
    "    'hierarchy': df_h,\n",
    "    'hierarchy_no_cuisine': df_h_no_cuisine\n",
    "}"
   ]
  },
  {
   "cell_type": "code",
   "execution_count": 9,
   "id": "f830f88c",
   "metadata": {},
   "outputs": [
    {
     "name": "stdout",
     "output_type": "stream",
     "text": [
      "Starting GMV processing for 5 dataframes...\n",
      "  853 vendors from 'basic' were not found in GMV source.\n",
      "  854 vendors from 'basic_min10' were not found in GMV source.\n",
      "  856 vendors from 'basic_no_c' were not found in GMV source.\n",
      "  837 vendors from 'hierarchy' were not found in GMV source.\n",
      "  855 vendors from 'hierarchy_no_cuisine' were not found in GMV source.\n",
      "\n",
      "GMV processing complete.\n"
     ]
    }
   ],
   "source": [
    "with warnings.catch_warnings():\n",
    "    warnings.simplefilter(\"ignore\", category=PendingDeprecationWarning)\n",
    "    processed_dfs = process_dataframes_with_gmv(\n",
    "        original_df=df_current,\n",
    "        dataframes_to_process=df_list_mapping,\n",
    "    )"
   ]
  },
  {
   "cell_type": "code",
   "execution_count": 10,
   "id": "0eadd385",
   "metadata": {},
   "outputs": [
    {
     "data": {
      "application/vnd.microsoft.datawrangler.viewer.v0+json": {
       "columns": [
        {
         "name": "index",
         "rawType": "int64",
         "type": "integer"
        },
        {
         "name": "created_date",
         "rawType": "dbdate",
         "type": "unknown"
        },
        {
         "name": "region",
         "rawType": "object",
         "type": "string"
        },
        {
         "name": "entity_id",
         "rawType": "object",
         "type": "string"
        },
        {
         "name": "vendor_code",
         "rawType": "object",
         "type": "string"
        },
        {
         "name": "cohort_id",
         "rawType": "Int64",
         "type": "integer"
        },
        {
         "name": "is_valid_cohort",
         "rawType": "boolean",
         "type": "boolean"
        },
        {
         "name": "cohort_features",
         "rawType": "object",
         "type": "string"
        },
        {
         "name": "granularity_rank",
         "rawType": "Int64",
         "type": "integer"
        },
        {
         "name": "cohort_rank",
         "rawType": "Int64",
         "type": "integer"
        },
        {
         "name": "cohort_success",
         "rawType": "object",
         "type": "unknown"
        },
        {
         "name": "updated_at",
         "rawType": "datetime64[us, UTC]",
         "type": "unknown"
        },
        {
         "name": "real_cohort_vendor_numbers",
         "rawType": "Int64",
         "type": "integer"
        },
        {
         "name": "segment",
         "rawType": "object",
         "type": "string"
        },
        {
         "name": "real_cohort_vendor_numbers_u",
         "rawType": "Int64",
         "type": "integer"
        },
        {
         "name": "vendors",
         "rawType": "Int64",
         "type": "integer"
        },
        {
         "name": "gmv",
         "rawType": "float64",
         "type": "float"
        },
        {
         "name": "_merge",
         "rawType": "category",
         "type": "unknown"
        }
       ],
       "ref": "fbf0a94b-2fe4-4321-8a41-188704f79938",
       "rows": [
        [
         "0",
         "2025-07-02",
         "MENA",
         "TB_AE",
         "711110",
         "20785",
         "True",
         "{\"area\":\"Al Hosn\",\"budget\":\"All\",\"city\":\"abu dhabi\",\"cuisine\":\"All\",\"entity\":\"tb_ae\",\"vendor_grade\":\"D\"}",
         "2",
         "2",
         "{'successful_vendors_in_cohort': 51, 'successful_chains_in_cohort': 51, 'successful_chain_names_in_cohort': 51}",
         "2025-07-02 22:37:52.544840+00:00",
         "36",
         "best_match",
         "15",
         "15",
         "90.31",
         "both"
        ],
        [
         "1",
         "2025-07-02",
         "MENA",
         "TB_AE",
         "49427",
         "20785",
         "True",
         "{\"area\":\"Al Hosn\",\"budget\":\"All\",\"city\":\"abu dhabi\",\"cuisine\":\"All\",\"entity\":\"tb_ae\",\"vendor_grade\":\"D\"}",
         "2",
         "2",
         "{'successful_vendors_in_cohort': 51, 'successful_chains_in_cohort': 51, 'successful_chain_names_in_cohort': 51}",
         "2025-07-02 22:37:52.544840+00:00",
         "36",
         "best_match",
         "15",
         "15",
         "277.42",
         "both"
        ],
        [
         "2",
         "2025-07-02",
         "MENA",
         "TB_AE",
         "679575",
         "20785",
         "True",
         "{\"area\":\"Al Hosn\",\"budget\":\"All\",\"city\":\"abu dhabi\",\"cuisine\":\"All\",\"entity\":\"tb_ae\",\"vendor_grade\":\"D\"}",
         "2",
         "2",
         "{'successful_vendors_in_cohort': 51, 'successful_chains_in_cohort': 51, 'successful_chain_names_in_cohort': 51}",
         "2025-07-02 22:37:52.544840+00:00",
         "36",
         "best_match",
         "15",
         "15",
         "164.74",
         "both"
        ],
        [
         "3",
         "2025-07-02",
         "MENA",
         "TB_AE",
         "34786",
         "20785",
         "True",
         "{\"area\":\"Al Hosn\",\"budget\":\"All\",\"city\":\"abu dhabi\",\"cuisine\":\"All\",\"entity\":\"tb_ae\",\"vendor_grade\":\"D\"}",
         "2",
         "2",
         "{'successful_vendors_in_cohort': 51, 'successful_chains_in_cohort': 51, 'successful_chain_names_in_cohort': 51}",
         "2025-07-02 22:37:52.544840+00:00",
         "36",
         "best_match",
         "15",
         "15",
         "78.33",
         "both"
        ],
        [
         "4",
         "2025-07-02",
         "MENA",
         "TB_AE",
         "761272",
         "20785",
         "True",
         "{\"area\":\"Al Hosn\",\"budget\":\"All\",\"city\":\"abu dhabi\",\"cuisine\":\"All\",\"entity\":\"tb_ae\",\"vendor_grade\":\"D\"}",
         "2",
         "2",
         "{'successful_vendors_in_cohort': 51, 'successful_chains_in_cohort': 51, 'successful_chain_names_in_cohort': 51}",
         "2025-07-02 22:37:52.544840+00:00",
         "36",
         "best_match",
         "15",
         "15",
         "140.06",
         "both"
        ]
       ],
       "shape": {
        "columns": 17,
        "rows": 5
       }
      },
      "text/html": [
       "<div>\n",
       "<style scoped>\n",
       "    .dataframe tbody tr th:only-of-type {\n",
       "        vertical-align: middle;\n",
       "    }\n",
       "\n",
       "    .dataframe tbody tr th {\n",
       "        vertical-align: top;\n",
       "    }\n",
       "\n",
       "    .dataframe thead th {\n",
       "        text-align: right;\n",
       "    }\n",
       "</style>\n",
       "<table border=\"1\" class=\"dataframe\">\n",
       "  <thead>\n",
       "    <tr style=\"text-align: right;\">\n",
       "      <th></th>\n",
       "      <th>created_date</th>\n",
       "      <th>region</th>\n",
       "      <th>entity_id</th>\n",
       "      <th>vendor_code</th>\n",
       "      <th>cohort_id</th>\n",
       "      <th>is_valid_cohort</th>\n",
       "      <th>cohort_features</th>\n",
       "      <th>granularity_rank</th>\n",
       "      <th>cohort_rank</th>\n",
       "      <th>cohort_success</th>\n",
       "      <th>updated_at</th>\n",
       "      <th>real_cohort_vendor_numbers</th>\n",
       "      <th>segment</th>\n",
       "      <th>real_cohort_vendor_numbers_u</th>\n",
       "      <th>vendors</th>\n",
       "      <th>gmv</th>\n",
       "      <th>_merge</th>\n",
       "    </tr>\n",
       "  </thead>\n",
       "  <tbody>\n",
       "    <tr>\n",
       "      <th>0</th>\n",
       "      <td>2025-07-02</td>\n",
       "      <td>MENA</td>\n",
       "      <td>TB_AE</td>\n",
       "      <td>711110</td>\n",
       "      <td>20785</td>\n",
       "      <td>True</td>\n",
       "      <td>{\"area\":\"Al Hosn\",\"budget\":\"All\",\"city\":\"abu d...</td>\n",
       "      <td>2</td>\n",
       "      <td>2</td>\n",
       "      <td>{'successful_vendors_in_cohort': 51, 'successf...</td>\n",
       "      <td>2025-07-02 22:37:52.544840+00:00</td>\n",
       "      <td>36</td>\n",
       "      <td>best_match</td>\n",
       "      <td>15</td>\n",
       "      <td>15</td>\n",
       "      <td>90.31</td>\n",
       "      <td>both</td>\n",
       "    </tr>\n",
       "    <tr>\n",
       "      <th>1</th>\n",
       "      <td>2025-07-02</td>\n",
       "      <td>MENA</td>\n",
       "      <td>TB_AE</td>\n",
       "      <td>49427</td>\n",
       "      <td>20785</td>\n",
       "      <td>True</td>\n",
       "      <td>{\"area\":\"Al Hosn\",\"budget\":\"All\",\"city\":\"abu d...</td>\n",
       "      <td>2</td>\n",
       "      <td>2</td>\n",
       "      <td>{'successful_vendors_in_cohort': 51, 'successf...</td>\n",
       "      <td>2025-07-02 22:37:52.544840+00:00</td>\n",
       "      <td>36</td>\n",
       "      <td>best_match</td>\n",
       "      <td>15</td>\n",
       "      <td>15</td>\n",
       "      <td>277.42</td>\n",
       "      <td>both</td>\n",
       "    </tr>\n",
       "    <tr>\n",
       "      <th>2</th>\n",
       "      <td>2025-07-02</td>\n",
       "      <td>MENA</td>\n",
       "      <td>TB_AE</td>\n",
       "      <td>679575</td>\n",
       "      <td>20785</td>\n",
       "      <td>True</td>\n",
       "      <td>{\"area\":\"Al Hosn\",\"budget\":\"All\",\"city\":\"abu d...</td>\n",
       "      <td>2</td>\n",
       "      <td>2</td>\n",
       "      <td>{'successful_vendors_in_cohort': 51, 'successf...</td>\n",
       "      <td>2025-07-02 22:37:52.544840+00:00</td>\n",
       "      <td>36</td>\n",
       "      <td>best_match</td>\n",
       "      <td>15</td>\n",
       "      <td>15</td>\n",
       "      <td>164.74</td>\n",
       "      <td>both</td>\n",
       "    </tr>\n",
       "    <tr>\n",
       "      <th>3</th>\n",
       "      <td>2025-07-02</td>\n",
       "      <td>MENA</td>\n",
       "      <td>TB_AE</td>\n",
       "      <td>34786</td>\n",
       "      <td>20785</td>\n",
       "      <td>True</td>\n",
       "      <td>{\"area\":\"Al Hosn\",\"budget\":\"All\",\"city\":\"abu d...</td>\n",
       "      <td>2</td>\n",
       "      <td>2</td>\n",
       "      <td>{'successful_vendors_in_cohort': 51, 'successf...</td>\n",
       "      <td>2025-07-02 22:37:52.544840+00:00</td>\n",
       "      <td>36</td>\n",
       "      <td>best_match</td>\n",
       "      <td>15</td>\n",
       "      <td>15</td>\n",
       "      <td>78.33</td>\n",
       "      <td>both</td>\n",
       "    </tr>\n",
       "    <tr>\n",
       "      <th>4</th>\n",
       "      <td>2025-07-02</td>\n",
       "      <td>MENA</td>\n",
       "      <td>TB_AE</td>\n",
       "      <td>761272</td>\n",
       "      <td>20785</td>\n",
       "      <td>True</td>\n",
       "      <td>{\"area\":\"Al Hosn\",\"budget\":\"All\",\"city\":\"abu d...</td>\n",
       "      <td>2</td>\n",
       "      <td>2</td>\n",
       "      <td>{'successful_vendors_in_cohort': 51, 'successf...</td>\n",
       "      <td>2025-07-02 22:37:52.544840+00:00</td>\n",
       "      <td>36</td>\n",
       "      <td>best_match</td>\n",
       "      <td>15</td>\n",
       "      <td>15</td>\n",
       "      <td>140.06</td>\n",
       "      <td>both</td>\n",
       "    </tr>\n",
       "  </tbody>\n",
       "</table>\n",
       "</div>"
      ],
      "text/plain": [
       "  created_date region entity_id vendor_code  cohort_id  is_valid_cohort  \\\n",
       "0   2025-07-02   MENA     TB_AE      711110      20785             True   \n",
       "1   2025-07-02   MENA     TB_AE       49427      20785             True   \n",
       "2   2025-07-02   MENA     TB_AE      679575      20785             True   \n",
       "3   2025-07-02   MENA     TB_AE       34786      20785             True   \n",
       "4   2025-07-02   MENA     TB_AE      761272      20785             True   \n",
       "\n",
       "                                     cohort_features  granularity_rank  \\\n",
       "0  {\"area\":\"Al Hosn\",\"budget\":\"All\",\"city\":\"abu d...                 2   \n",
       "1  {\"area\":\"Al Hosn\",\"budget\":\"All\",\"city\":\"abu d...                 2   \n",
       "2  {\"area\":\"Al Hosn\",\"budget\":\"All\",\"city\":\"abu d...                 2   \n",
       "3  {\"area\":\"Al Hosn\",\"budget\":\"All\",\"city\":\"abu d...                 2   \n",
       "4  {\"area\":\"Al Hosn\",\"budget\":\"All\",\"city\":\"abu d...                 2   \n",
       "\n",
       "   cohort_rank                                     cohort_success  \\\n",
       "0            2  {'successful_vendors_in_cohort': 51, 'successf...   \n",
       "1            2  {'successful_vendors_in_cohort': 51, 'successf...   \n",
       "2            2  {'successful_vendors_in_cohort': 51, 'successf...   \n",
       "3            2  {'successful_vendors_in_cohort': 51, 'successf...   \n",
       "4            2  {'successful_vendors_in_cohort': 51, 'successf...   \n",
       "\n",
       "                        updated_at  real_cohort_vendor_numbers     segment  \\\n",
       "0 2025-07-02 22:37:52.544840+00:00                          36  best_match   \n",
       "1 2025-07-02 22:37:52.544840+00:00                          36  best_match   \n",
       "2 2025-07-02 22:37:52.544840+00:00                          36  best_match   \n",
       "3 2025-07-02 22:37:52.544840+00:00                          36  best_match   \n",
       "4 2025-07-02 22:37:52.544840+00:00                          36  best_match   \n",
       "\n",
       "   real_cohort_vendor_numbers_u  vendors     gmv _merge  \n",
       "0                            15       15   90.31   both  \n",
       "1                            15       15  277.42   both  \n",
       "2                            15       15  164.74   both  \n",
       "3                            15       15   78.33   both  \n",
       "4                            15       15  140.06   both  "
      ]
     },
     "execution_count": 10,
     "metadata": {},
     "output_type": "execute_result"
    }
   ],
   "source": [
    "test = processed_dfs['basic'].copy()\n",
    "test.head()"
   ]
  },
  {
   "cell_type": "code",
   "execution_count": 11,
   "id": "92df5562",
   "metadata": {},
   "outputs": [
    {
     "data": {
      "application/vnd.microsoft.datawrangler.viewer.v0+json": {
       "columns": [
        {
         "name": "index",
         "rawType": "int64",
         "type": "integer"
        },
        {
         "name": "created_date",
         "rawType": "dbdate",
         "type": "unknown"
        },
        {
         "name": "region",
         "rawType": "object",
         "type": "string"
        },
        {
         "name": "entity_id",
         "rawType": "object",
         "type": "string"
        },
        {
         "name": "vendor_code",
         "rawType": "object",
         "type": "string"
        },
        {
         "name": "cohort_id",
         "rawType": "Int64",
         "type": "integer"
        },
        {
         "name": "is_valid_cohort",
         "rawType": "boolean",
         "type": "boolean"
        },
        {
         "name": "cohort_features",
         "rawType": "object",
         "type": "string"
        },
        {
         "name": "granularity_rank",
         "rawType": "Int64",
         "type": "integer"
        },
        {
         "name": "cohort_rank",
         "rawType": "Int64",
         "type": "integer"
        },
        {
         "name": "cohort_success",
         "rawType": "object",
         "type": "unknown"
        },
        {
         "name": "updated_at",
         "rawType": "datetime64[us, UTC]",
         "type": "unknown"
        },
        {
         "name": "real_cohort_vendor_numbers",
         "rawType": "Int64",
         "type": "integer"
        },
        {
         "name": "segment",
         "rawType": "object",
         "type": "string"
        },
        {
         "name": "real_cohort_vendor_numbers_u",
         "rawType": "Int64",
         "type": "integer"
        },
        {
         "name": "vendors",
         "rawType": "Int64",
         "type": "integer"
        },
        {
         "name": "gmv",
         "rawType": "float64",
         "type": "float"
        },
        {
         "name": "_merge",
         "rawType": "category",
         "type": "unknown"
        }
       ],
       "ref": "677284d2-cc7b-4d90-bba2-a12d3453b9e7",
       "rows": [
        [
         "169",
         "2025-07-02",
         "MENA",
         "TB_AE",
         "43227",
         "75631",
         "True",
         "{\"area\":\"All\",\"budget\":\"All\",\"city\":\"fujairah\",\"cuisine\":\"All\",\"entity\":\"tb_ae\",\"vendor_grade\":\"C\"}",
         "3",
         "2",
         "{'successful_vendors_in_cohort': 214, 'successful_chains_in_cohort': 191, 'successful_chain_names_in_cohort': 186}",
         "2025-07-02 22:37:52.544840+00:00",
         "16",
         "second_match",
         "38",
         "38",
         "0.0",
         "left_only"
        ],
        [
         "195",
         "2025-07-02",
         "MENA",
         "TB_AE",
         "765633",
         "75631",
         "True",
         "{\"area\":\"All\",\"budget\":\"All\",\"city\":\"fujairah\",\"cuisine\":\"All\",\"entity\":\"tb_ae\",\"vendor_grade\":\"C\"}",
         "3",
         "5",
         "{'successful_vendors_in_cohort': 214, 'successful_chains_in_cohort': 191, 'successful_chain_names_in_cohort': 186}",
         "2025-07-02 22:37:52.544840+00:00",
         "22",
         "best_match",
         "38",
         "38",
         "0.0",
         "left_only"
        ],
        [
         "252",
         "2025-07-02",
         "MENA",
         "TB_AE",
         "46156",
         "126174",
         "True",
         "{\"area\":\"Jumeirah 1\",\"budget\":\"All\",\"city\":\"dubai\",\"cuisine\":\"Desserts\",\"entity\":\"tb_ae\",\"vendor_grade\":\"D\"}",
         "1",
         "1",
         "{'successful_vendors_in_cohort': 12, 'successful_chains_in_cohort': 11, 'successful_chain_names_in_cohort': 11}",
         "2025-07-02 22:37:52.544840+00:00",
         "12",
         "best_match",
         "12",
         "12",
         "0.0",
         "left_only"
        ],
        [
         "323",
         "2025-07-02",
         "MENA",
         "TB_AE",
         "765049",
         "128348",
         "True",
         "{\"area\":\"Jumeirah Lakes Towers - JLT\",\"budget\":\"All\",\"city\":\"dubai\",\"cuisine\":\"All\",\"entity\":\"tb_ae\",\"vendor_grade\":\"D\"}",
         "2",
         "2",
         "{'successful_vendors_in_cohort': 349, 'successful_chains_in_cohort': 348, 'successful_chain_names_in_cohort': 348}",
         "2025-07-02 22:37:52.544840+00:00",
         "81",
         "best_match",
         "71",
         "71",
         "0.0",
         "left_only"
        ],
        [
         "333",
         "2025-07-02",
         "MENA",
         "TB_AE",
         "737611",
         "147106",
         "True",
         "{\"area\":\"Muwaileh Commercial\",\"budget\":\"All\",\"city\":\"sharjah\",\"cuisine\":\"All\",\"entity\":\"tb_ae\",\"vendor_grade\":\"A\"}",
         "2",
         "2",
         "{'successful_vendors_in_cohort': 44, 'successful_chains_in_cohort': 44, 'successful_chain_names_in_cohort': 44}",
         "2025-07-02 22:37:52.544840+00:00",
         "26",
         "best_match",
         "26",
         "26",
         "0.0",
         "left_only"
        ]
       ],
       "shape": {
        "columns": 17,
        "rows": 5
       }
      },
      "text/html": [
       "<div>\n",
       "<style scoped>\n",
       "    .dataframe tbody tr th:only-of-type {\n",
       "        vertical-align: middle;\n",
       "    }\n",
       "\n",
       "    .dataframe tbody tr th {\n",
       "        vertical-align: top;\n",
       "    }\n",
       "\n",
       "    .dataframe thead th {\n",
       "        text-align: right;\n",
       "    }\n",
       "</style>\n",
       "<table border=\"1\" class=\"dataframe\">\n",
       "  <thead>\n",
       "    <tr style=\"text-align: right;\">\n",
       "      <th></th>\n",
       "      <th>created_date</th>\n",
       "      <th>region</th>\n",
       "      <th>entity_id</th>\n",
       "      <th>vendor_code</th>\n",
       "      <th>cohort_id</th>\n",
       "      <th>is_valid_cohort</th>\n",
       "      <th>cohort_features</th>\n",
       "      <th>granularity_rank</th>\n",
       "      <th>cohort_rank</th>\n",
       "      <th>cohort_success</th>\n",
       "      <th>updated_at</th>\n",
       "      <th>real_cohort_vendor_numbers</th>\n",
       "      <th>segment</th>\n",
       "      <th>real_cohort_vendor_numbers_u</th>\n",
       "      <th>vendors</th>\n",
       "      <th>gmv</th>\n",
       "      <th>_merge</th>\n",
       "    </tr>\n",
       "  </thead>\n",
       "  <tbody>\n",
       "    <tr>\n",
       "      <th>169</th>\n",
       "      <td>2025-07-02</td>\n",
       "      <td>MENA</td>\n",
       "      <td>TB_AE</td>\n",
       "      <td>43227</td>\n",
       "      <td>75631</td>\n",
       "      <td>True</td>\n",
       "      <td>{\"area\":\"All\",\"budget\":\"All\",\"city\":\"fujairah\"...</td>\n",
       "      <td>3</td>\n",
       "      <td>2</td>\n",
       "      <td>{'successful_vendors_in_cohort': 214, 'success...</td>\n",
       "      <td>2025-07-02 22:37:52.544840+00:00</td>\n",
       "      <td>16</td>\n",
       "      <td>second_match</td>\n",
       "      <td>38</td>\n",
       "      <td>38</td>\n",
       "      <td>0.0</td>\n",
       "      <td>left_only</td>\n",
       "    </tr>\n",
       "    <tr>\n",
       "      <th>195</th>\n",
       "      <td>2025-07-02</td>\n",
       "      <td>MENA</td>\n",
       "      <td>TB_AE</td>\n",
       "      <td>765633</td>\n",
       "      <td>75631</td>\n",
       "      <td>True</td>\n",
       "      <td>{\"area\":\"All\",\"budget\":\"All\",\"city\":\"fujairah\"...</td>\n",
       "      <td>3</td>\n",
       "      <td>5</td>\n",
       "      <td>{'successful_vendors_in_cohort': 214, 'success...</td>\n",
       "      <td>2025-07-02 22:37:52.544840+00:00</td>\n",
       "      <td>22</td>\n",
       "      <td>best_match</td>\n",
       "      <td>38</td>\n",
       "      <td>38</td>\n",
       "      <td>0.0</td>\n",
       "      <td>left_only</td>\n",
       "    </tr>\n",
       "    <tr>\n",
       "      <th>252</th>\n",
       "      <td>2025-07-02</td>\n",
       "      <td>MENA</td>\n",
       "      <td>TB_AE</td>\n",
       "      <td>46156</td>\n",
       "      <td>126174</td>\n",
       "      <td>True</td>\n",
       "      <td>{\"area\":\"Jumeirah 1\",\"budget\":\"All\",\"city\":\"du...</td>\n",
       "      <td>1</td>\n",
       "      <td>1</td>\n",
       "      <td>{'successful_vendors_in_cohort': 12, 'successf...</td>\n",
       "      <td>2025-07-02 22:37:52.544840+00:00</td>\n",
       "      <td>12</td>\n",
       "      <td>best_match</td>\n",
       "      <td>12</td>\n",
       "      <td>12</td>\n",
       "      <td>0.0</td>\n",
       "      <td>left_only</td>\n",
       "    </tr>\n",
       "    <tr>\n",
       "      <th>323</th>\n",
       "      <td>2025-07-02</td>\n",
       "      <td>MENA</td>\n",
       "      <td>TB_AE</td>\n",
       "      <td>765049</td>\n",
       "      <td>128348</td>\n",
       "      <td>True</td>\n",
       "      <td>{\"area\":\"Jumeirah Lakes Towers - JLT\",\"budget\"...</td>\n",
       "      <td>2</td>\n",
       "      <td>2</td>\n",
       "      <td>{'successful_vendors_in_cohort': 349, 'success...</td>\n",
       "      <td>2025-07-02 22:37:52.544840+00:00</td>\n",
       "      <td>81</td>\n",
       "      <td>best_match</td>\n",
       "      <td>71</td>\n",
       "      <td>71</td>\n",
       "      <td>0.0</td>\n",
       "      <td>left_only</td>\n",
       "    </tr>\n",
       "    <tr>\n",
       "      <th>333</th>\n",
       "      <td>2025-07-02</td>\n",
       "      <td>MENA</td>\n",
       "      <td>TB_AE</td>\n",
       "      <td>737611</td>\n",
       "      <td>147106</td>\n",
       "      <td>True</td>\n",
       "      <td>{\"area\":\"Muwaileh Commercial\",\"budget\":\"All\",\"...</td>\n",
       "      <td>2</td>\n",
       "      <td>2</td>\n",
       "      <td>{'successful_vendors_in_cohort': 44, 'successf...</td>\n",
       "      <td>2025-07-02 22:37:52.544840+00:00</td>\n",
       "      <td>26</td>\n",
       "      <td>best_match</td>\n",
       "      <td>26</td>\n",
       "      <td>26</td>\n",
       "      <td>0.0</td>\n",
       "      <td>left_only</td>\n",
       "    </tr>\n",
       "  </tbody>\n",
       "</table>\n",
       "</div>"
      ],
      "text/plain": [
       "    created_date region entity_id vendor_code  cohort_id  is_valid_cohort  \\\n",
       "169   2025-07-02   MENA     TB_AE       43227      75631             True   \n",
       "195   2025-07-02   MENA     TB_AE      765633      75631             True   \n",
       "252   2025-07-02   MENA     TB_AE       46156     126174             True   \n",
       "323   2025-07-02   MENA     TB_AE      765049     128348             True   \n",
       "333   2025-07-02   MENA     TB_AE      737611     147106             True   \n",
       "\n",
       "                                       cohort_features  granularity_rank  \\\n",
       "169  {\"area\":\"All\",\"budget\":\"All\",\"city\":\"fujairah\"...                 3   \n",
       "195  {\"area\":\"All\",\"budget\":\"All\",\"city\":\"fujairah\"...                 3   \n",
       "252  {\"area\":\"Jumeirah 1\",\"budget\":\"All\",\"city\":\"du...                 1   \n",
       "323  {\"area\":\"Jumeirah Lakes Towers - JLT\",\"budget\"...                 2   \n",
       "333  {\"area\":\"Muwaileh Commercial\",\"budget\":\"All\",\"...                 2   \n",
       "\n",
       "     cohort_rank                                     cohort_success  \\\n",
       "169            2  {'successful_vendors_in_cohort': 214, 'success...   \n",
       "195            5  {'successful_vendors_in_cohort': 214, 'success...   \n",
       "252            1  {'successful_vendors_in_cohort': 12, 'successf...   \n",
       "323            2  {'successful_vendors_in_cohort': 349, 'success...   \n",
       "333            2  {'successful_vendors_in_cohort': 44, 'successf...   \n",
       "\n",
       "                          updated_at  real_cohort_vendor_numbers  \\\n",
       "169 2025-07-02 22:37:52.544840+00:00                          16   \n",
       "195 2025-07-02 22:37:52.544840+00:00                          22   \n",
       "252 2025-07-02 22:37:52.544840+00:00                          12   \n",
       "323 2025-07-02 22:37:52.544840+00:00                          81   \n",
       "333 2025-07-02 22:37:52.544840+00:00                          26   \n",
       "\n",
       "          segment  real_cohort_vendor_numbers_u  vendors  gmv     _merge  \n",
       "169  second_match                            38       38  0.0  left_only  \n",
       "195    best_match                            38       38  0.0  left_only  \n",
       "252    best_match                            12       12  0.0  left_only  \n",
       "323    best_match                            71       71  0.0  left_only  \n",
       "333    best_match                            26       26  0.0  left_only  "
      ]
     },
     "execution_count": 11,
     "metadata": {},
     "output_type": "execute_result"
    }
   ],
   "source": [
    "test.loc[test._merge == 'left_only'].head()"
   ]
  },
  {
   "cell_type": "code",
   "execution_count": 12,
   "id": "840cc149",
   "metadata": {},
   "outputs": [
    {
     "data": {
      "application/vnd.microsoft.datawrangler.viewer.v0+json": {
       "columns": [
        {
         "name": "index",
         "rawType": "int64",
         "type": "integer"
        },
        {
         "name": "created_date",
         "rawType": "dbdate",
         "type": "unknown"
        },
        {
         "name": "region",
         "rawType": "object",
         "type": "string"
        },
        {
         "name": "entity_id",
         "rawType": "object",
         "type": "string"
        },
        {
         "name": "vendor_code",
         "rawType": "object",
         "type": "string"
        },
        {
         "name": "cohort_id",
         "rawType": "Int64",
         "type": "integer"
        },
        {
         "name": "is_valid_cohort",
         "rawType": "boolean",
         "type": "boolean"
        },
        {
         "name": "cohort_features",
         "rawType": "object",
         "type": "string"
        },
        {
         "name": "granularity_rank",
         "rawType": "Int64",
         "type": "integer"
        },
        {
         "name": "cohort_rank",
         "rawType": "Int64",
         "type": "integer"
        },
        {
         "name": "cohort_success",
         "rawType": "object",
         "type": "unknown"
        },
        {
         "name": "updated_at",
         "rawType": "datetime64[us, UTC]",
         "type": "unknown"
        },
        {
         "name": "real_cohort_vendor_numbers",
         "rawType": "Int64",
         "type": "integer"
        },
        {
         "name": "segment",
         "rawType": "object",
         "type": "string"
        },
        {
         "name": "real_cohort_vendor_numbers_u",
         "rawType": "Int64",
         "type": "integer"
        },
        {
         "name": "vendors",
         "rawType": "Int64",
         "type": "integer"
        },
        {
         "name": "gmv",
         "rawType": "float64",
         "type": "float"
        },
        {
         "name": "_merge",
         "rawType": "category",
         "type": "unknown"
        }
       ],
       "ref": "5952a9dd-5435-462e-815a-3c1b19ba1123",
       "rows": [
        [
         "8765",
         "2025-07-02",
         "MENA",
         "TB_AE",
         "712612",
         "147111",
         "True",
         "{\"area\":\"Muwaileh Commercial\",\"budget\":\"All\",\"city\":\"sharjah\",\"cuisine\":\"All\",\"entity\":\"tb_ae\",\"vendor_grade\":\"C\"}",
         "2",
         "2",
         "{'successful_vendors_in_cohort': 122, 'successful_chains_in_cohort': 122, 'successful_chain_names_in_cohort': 122}",
         "2025-07-02 22:37:52.544840+00:00",
         "59",
         "best_match",
         "59",
         "59",
         "0.0",
         "left_only"
        ]
       ],
       "shape": {
        "columns": 17,
        "rows": 1
       }
      },
      "text/html": [
       "<div>\n",
       "<style scoped>\n",
       "    .dataframe tbody tr th:only-of-type {\n",
       "        vertical-align: middle;\n",
       "    }\n",
       "\n",
       "    .dataframe tbody tr th {\n",
       "        vertical-align: top;\n",
       "    }\n",
       "\n",
       "    .dataframe thead th {\n",
       "        text-align: right;\n",
       "    }\n",
       "</style>\n",
       "<table border=\"1\" class=\"dataframe\">\n",
       "  <thead>\n",
       "    <tr style=\"text-align: right;\">\n",
       "      <th></th>\n",
       "      <th>created_date</th>\n",
       "      <th>region</th>\n",
       "      <th>entity_id</th>\n",
       "      <th>vendor_code</th>\n",
       "      <th>cohort_id</th>\n",
       "      <th>is_valid_cohort</th>\n",
       "      <th>cohort_features</th>\n",
       "      <th>granularity_rank</th>\n",
       "      <th>cohort_rank</th>\n",
       "      <th>cohort_success</th>\n",
       "      <th>updated_at</th>\n",
       "      <th>real_cohort_vendor_numbers</th>\n",
       "      <th>segment</th>\n",
       "      <th>real_cohort_vendor_numbers_u</th>\n",
       "      <th>vendors</th>\n",
       "      <th>gmv</th>\n",
       "      <th>_merge</th>\n",
       "    </tr>\n",
       "  </thead>\n",
       "  <tbody>\n",
       "    <tr>\n",
       "      <th>8765</th>\n",
       "      <td>2025-07-02</td>\n",
       "      <td>MENA</td>\n",
       "      <td>TB_AE</td>\n",
       "      <td>712612</td>\n",
       "      <td>147111</td>\n",
       "      <td>True</td>\n",
       "      <td>{\"area\":\"Muwaileh Commercial\",\"budget\":\"All\",\"...</td>\n",
       "      <td>2</td>\n",
       "      <td>2</td>\n",
       "      <td>{'successful_vendors_in_cohort': 122, 'success...</td>\n",
       "      <td>2025-07-02 22:37:52.544840+00:00</td>\n",
       "      <td>59</td>\n",
       "      <td>best_match</td>\n",
       "      <td>59</td>\n",
       "      <td>59</td>\n",
       "      <td>0.0</td>\n",
       "      <td>left_only</td>\n",
       "    </tr>\n",
       "  </tbody>\n",
       "</table>\n",
       "</div>"
      ],
      "text/plain": [
       "     created_date region entity_id vendor_code  cohort_id  is_valid_cohort  \\\n",
       "8765   2025-07-02   MENA     TB_AE      712612     147111             True   \n",
       "\n",
       "                                        cohort_features  granularity_rank  \\\n",
       "8765  {\"area\":\"Muwaileh Commercial\",\"budget\":\"All\",\"...                 2   \n",
       "\n",
       "      cohort_rank                                     cohort_success  \\\n",
       "8765            2  {'successful_vendors_in_cohort': 122, 'success...   \n",
       "\n",
       "                           updated_at  real_cohort_vendor_numbers     segment  \\\n",
       "8765 2025-07-02 22:37:52.544840+00:00                          59  best_match   \n",
       "\n",
       "      real_cohort_vendor_numbers_u  vendors  gmv     _merge  \n",
       "8765                            59       59  0.0  left_only  "
      ]
     },
     "execution_count": 12,
     "metadata": {},
     "output_type": "execute_result"
    }
   ],
   "source": [
    "random_vendor_code = test.loc[test._merge == 'left_only'].sample(n=1).vendor_code.values[0]\n",
    "test.loc[test.vendor_code == random_vendor_code]"
   ]
  },
  {
   "cell_type": "markdown",
   "id": "4ce6bb87",
   "metadata": {},
   "source": [
    "In the short run, I am happy with imputing zero GMV for these vendors. There doesn't seem to be an order for the last 365 days (please refresh, retry)"
   ]
  },
  {
   "cell_type": "code",
   "execution_count": 13,
   "id": "5d6ce11e",
   "metadata": {},
   "outputs": [
    {
     "data": {
      "application/vnd.jupyter.widget-view+json": {
       "model_id": "12f8486ea0334b3f9d960cc4a84536c3",
       "version_major": 2,
       "version_minor": 0
      },
      "text/plain": [
       "Query is running:   0%|          |"
      ]
     },
     "metadata": {},
     "output_type": "display_data"
    },
    {
     "data": {
      "application/vnd.jupyter.widget-view+json": {
       "model_id": "c29462336be34e93986a52676e46c428",
       "version_major": 2,
       "version_minor": 0
      },
      "text/plain": [
       "Downloading: |          |"
      ]
     },
     "metadata": {},
     "output_type": "display_data"
    },
    {
     "data": {
      "application/vnd.microsoft.datawrangler.viewer.v0+json": {
       "columns": [
        {
         "name": "index",
         "rawType": "int64",
         "type": "integer"
        },
        {
         "name": "order_uid",
         "rawType": "object",
         "type": "string"
        },
        {
         "name": "vendor_uid",
         "rawType": "object",
         "type": "string"
        },
        {
         "name": "brand_name",
         "rawType": "object",
         "type": "string"
        },
        {
         "name": "global_entity_id",
         "rawType": "object",
         "type": "string"
        },
        {
         "name": "order_id",
         "rawType": "object",
         "type": "string"
        },
        {
         "name": "vendor_id",
         "rawType": "object",
         "type": "string"
        },
        {
         "name": "customer_account_id",
         "rawType": "object",
         "type": "string"
        },
        {
         "name": "customer_id",
         "rawType": "object",
         "type": "string"
        },
        {
         "name": "analytical_customer_id",
         "rawType": "object",
         "type": "string"
        },
        {
         "name": "correlation_id",
         "rawType": "object",
         "type": "string"
        },
        {
         "name": "partition_date_local",
         "rawType": "dbdate",
         "type": "unknown"
        },
        {
         "name": "placed_at",
         "rawType": "datetime64[us, UTC]",
         "type": "unknown"
        },
        {
         "name": "placed_at_local",
         "rawType": "datetime64[us]",
         "type": "unknown"
        },
        {
         "name": "locale",
         "rawType": "object",
         "type": "string"
        },
        {
         "name": "country_code",
         "rawType": "object",
         "type": "string"
        },
        {
         "name": "currency_code",
         "rawType": "object",
         "type": "string"
        },
        {
         "name": "business_type",
         "rawType": "object",
         "type": "string"
        },
        {
         "name": "vertical_parent",
         "rawType": "object",
         "type": "string"
        },
        {
         "name": "vertical_type",
         "rawType": "object",
         "type": "string"
        },
        {
         "name": "timezone",
         "rawType": "object",
         "type": "string"
        },
        {
         "name": "promised_customer_timestamp",
         "rawType": "datetime64[us, UTC]",
         "type": "unknown"
        },
        {
         "name": "estimated_delivery_timestamp",
         "rawType": "datetime64[us, UTC]",
         "type": "unknown"
        },
        {
         "name": "actual_delivery_timestamp",
         "rawType": "datetime64[us, UTC]",
         "type": "unknown"
        },
        {
         "name": "delivery_provider",
         "rawType": "object",
         "type": "string"
        },
        {
         "name": "delivery_fee_option",
         "rawType": "object",
         "type": "string"
        },
        {
         "name": "order_status",
         "rawType": "object",
         "type": "string"
        },
        {
         "name": "failure_owner",
         "rawType": "object",
         "type": "string"
        },
        {
         "name": "failure_reason",
         "rawType": "object",
         "type": "string"
        },
        {
         "name": "failure_stage",
         "rawType": "object",
         "type": "string"
        },
        {
         "name": "failure_source",
         "rawType": "object",
         "type": "string"
        },
        {
         "name": "analytical_customer_order_rank",
         "rawType": "Int64",
         "type": "integer"
        },
        {
         "name": "analytical_customer_vendor_rank",
         "rawType": "Int64",
         "type": "integer"
        },
        {
         "name": "days_since_previous_order",
         "rawType": "Int64",
         "type": "integer"
        },
        {
         "name": "value",
         "rawType": "object",
         "type": "string"
        },
        {
         "name": "vouchers",
         "rawType": "object",
         "type": "string"
        },
        {
         "name": "customer",
         "rawType": "object",
         "type": "string"
        },
        {
         "name": "delivery_location",
         "rawType": "object",
         "type": "string"
        },
        {
         "name": "is_acquisition",
         "rawType": "boolean",
         "type": "boolean"
        },
        {
         "name": "is_net_order",
         "rawType": "boolean",
         "type": "boolean"
        },
        {
         "name": "is_successful",
         "rawType": "boolean",
         "type": "boolean"
        },
        {
         "name": "is_failed",
         "rawType": "boolean",
         "type": "boolean"
        },
        {
         "name": "is_billable",
         "rawType": "boolean",
         "type": "boolean"
        },
        {
         "name": "is_preorder",
         "rawType": "boolean",
         "type": "boolean"
        },
        {
         "name": "is_pickup",
         "rawType": "boolean",
         "type": "boolean"
        },
        {
         "name": "is_discount",
         "rawType": "boolean",
         "type": "boolean"
        },
        {
         "name": "is_voucher",
         "rawType": "boolean",
         "type": "boolean"
        },
        {
         "name": "is_whitelabel",
         "rawType": "boolean",
         "type": "boolean"
        },
        {
         "name": "is_joker",
         "rawType": "boolean",
         "type": "boolean"
        },
        {
         "name": "is_cross_listing",
         "rawType": "boolean",
         "type": "boolean"
        },
        {
         "name": "is_delivery_by_dh",
         "rawType": "boolean",
         "type": "boolean"
        },
        {
         "name": "is_free_delivery",
         "rawType": "boolean",
         "type": "boolean"
        },
        {
         "name": "is_qcommerce",
         "rawType": "boolean",
         "type": "boolean"
        },
        {
         "name": "is_corporate",
         "rawType": "boolean",
         "type": "boolean"
        },
        {
         "name": "is_paid_online",
         "rawType": "boolean",
         "type": "boolean"
        },
        {
         "name": "is_guest",
         "rawType": "boolean",
         "type": "boolean"
        },
        {
         "name": "is_meal_for_one",
         "rawType": "boolean",
         "type": "boolean"
        },
        {
         "name": "payment",
         "rawType": "object",
         "type": "string"
        },
        {
         "name": "fx_rate_eur",
         "rawType": "object",
         "type": "string"
        },
        {
         "name": "fx_rate_usd",
         "rawType": "object",
         "type": "string"
        },
        {
         "name": "items",
         "rawType": "object",
         "type": "string"
        },
        {
         "name": "total_items_quantity",
         "rawType": "object",
         "type": "string"
        },
        {
         "name": "platform_reference_id",
         "rawType": "object",
         "type": "string"
        },
        {
         "name": "eligibilities",
         "rawType": "object",
         "type": "string"
        },
        {
         "name": "addons",
         "rawType": "object",
         "type": "string"
        },
        {
         "name": "perseus",
         "rawType": "object",
         "type": "string"
        },
        {
         "name": "frontend_client",
         "rawType": "object",
         "type": "string"
        },
        {
         "name": "order_updates",
         "rawType": "object",
         "type": "string"
        },
        {
         "name": "metadata",
         "rawType": "object",
         "type": "string"
        }
       ],
       "ref": "e04c9355-48e4-441b-b2f2-da091bfd6506",
       "rows": [],
       "shape": {
        "columns": 68,
        "rows": 0
       }
      },
      "text/html": [
       "<div>\n",
       "<style scoped>\n",
       "    .dataframe tbody tr th:only-of-type {\n",
       "        vertical-align: middle;\n",
       "    }\n",
       "\n",
       "    .dataframe tbody tr th {\n",
       "        vertical-align: top;\n",
       "    }\n",
       "\n",
       "    .dataframe thead th {\n",
       "        text-align: right;\n",
       "    }\n",
       "</style>\n",
       "<table border=\"1\" class=\"dataframe\">\n",
       "  <thead>\n",
       "    <tr style=\"text-align: right;\">\n",
       "      <th></th>\n",
       "      <th>order_uid</th>\n",
       "      <th>vendor_uid</th>\n",
       "      <th>brand_name</th>\n",
       "      <th>global_entity_id</th>\n",
       "      <th>order_id</th>\n",
       "      <th>vendor_id</th>\n",
       "      <th>customer_account_id</th>\n",
       "      <th>customer_id</th>\n",
       "      <th>analytical_customer_id</th>\n",
       "      <th>correlation_id</th>\n",
       "      <th>...</th>\n",
       "      <th>fx_rate_usd</th>\n",
       "      <th>items</th>\n",
       "      <th>total_items_quantity</th>\n",
       "      <th>platform_reference_id</th>\n",
       "      <th>eligibilities</th>\n",
       "      <th>addons</th>\n",
       "      <th>perseus</th>\n",
       "      <th>frontend_client</th>\n",
       "      <th>order_updates</th>\n",
       "      <th>metadata</th>\n",
       "    </tr>\n",
       "  </thead>\n",
       "  <tbody>\n",
       "  </tbody>\n",
       "</table>\n",
       "<p>0 rows × 68 columns</p>\n",
       "</div>"
      ],
      "text/plain": [
       "Empty DataFrame\n",
       "Columns: [order_uid, vendor_uid, brand_name, global_entity_id, order_id, vendor_id, customer_account_id, customer_id, analytical_customer_id, correlation_id, partition_date_local, placed_at, placed_at_local, locale, country_code, currency_code, business_type, vertical_parent, vertical_type, timezone, promised_customer_timestamp, estimated_delivery_timestamp, actual_delivery_timestamp, delivery_provider, delivery_fee_option, order_status, failure_owner, failure_reason, failure_stage, failure_source, analytical_customer_order_rank, analytical_customer_vendor_rank, days_since_previous_order, value, vouchers, customer, delivery_location, is_acquisition, is_net_order, is_successful, is_failed, is_billable, is_preorder, is_pickup, is_discount, is_voucher, is_whitelabel, is_joker, is_cross_listing, is_delivery_by_dh, is_free_delivery, is_qcommerce, is_corporate, is_paid_online, is_guest, is_meal_for_one, payment, fx_rate_eur, fx_rate_usd, items, total_items_quantity, platform_reference_id, eligibilities, addons, perseus, frontend_client, order_updates, metadata]\n",
       "Index: []\n",
       "\n",
       "[0 rows x 68 columns]"
      ]
     },
     "execution_count": 13,
     "metadata": {},
     "output_type": "execute_result"
    }
   ],
   "source": [
    "%%bigquery\n",
    "SELECT *\n",
    "FROM `fulfillment-dwh-production.curated_data_shared_coredata_business.orders`\n",
    "  WHERE partition_date_local >= DATE_SUB('2025-07-01', INTERVAL 365 DAY)\n",
    "  AND global_entity_id = 'TB_AE_46156' "
   ]
  },
  {
   "cell_type": "code",
   "execution_count": 14,
   "id": "8c71d942",
   "metadata": {},
   "outputs": [
    {
     "name": "stdout",
     "output_type": "stream",
     "text": [
      "Processing DataFrame: current...\n",
      "Processing DataFrame: basic...\n",
      "Processing DataFrame: basic_min10...\n",
      "Processing DataFrame: basic_no_c...\n",
      "Processing DataFrame: hierarchy...\n",
      "Processing DataFrame: hierarchy_no_cuisine...\n"
     ]
    },
    {
     "name": "stderr",
     "output_type": "stream",
     "text": [
      "100%|██████████| 1/1 [00:00<00:00, 7410.43it/s]\n"
     ]
    },
    {
     "data": {
      "application/vnd.microsoft.datawrangler.viewer.v0+json": {
       "columns": [
        {
         "name": "index",
         "rawType": "int64",
         "type": "integer"
        },
        {
         "name": "df_name",
         "rawType": "object",
         "type": "string"
        },
        {
         "name": "share_cohorts_with_outlier_IQR",
         "rawType": "float64",
         "type": "float"
        },
        {
         "name": "share_cohorts_with_outlier_5x",
         "rawType": "float64",
         "type": "float"
        },
        {
         "name": "iqr_total_outliers",
         "rawType": "int64",
         "type": "integer"
        },
        {
         "name": "mean_5x_total_outliers",
         "rawType": "int64",
         "type": "integer"
        },
        {
         "name": "overlap_total_vendors",
         "rawType": "int64",
         "type": "integer"
        },
        {
         "name": "KW_H",
         "rawType": "float64",
         "type": "float"
        },
        {
         "name": "epsilon_squared",
         "rawType": "float64",
         "type": "float"
        },
        {
         "name": "p_value",
         "rawType": "float64",
         "type": "float"
        },
        {
         "name": "f_stat_scipy",
         "rawType": "float64",
         "type": "float"
        },
        {
         "name": "f_stat_manual",
         "rawType": "float64",
         "type": "float"
        },
        {
         "name": "ms_b_manual",
         "rawType": "float64",
         "type": "float"
        },
        {
         "name": "ms_w_manual",
         "rawType": "float64",
         "type": "float"
        }
       ],
       "ref": "47abc987-d4cf-4f48-b68c-cbd02658d646",
       "rows": [
        [
         "0",
         "current",
         "0.2857675111773472",
         "0.14865871833084948",
         "1053",
         "544",
         "522",
         "13624.55005901326",
         "0.49168350988860554",
         "0.0",
         "11.275609112301952",
         "11.275609112301906",
         "2924126.984342345",
         "259332.06403475502"
        ],
        [
         "1",
         "basic",
         "0.24865591397849462",
         "0.1424731182795699",
         "574",
         "361",
         "326",
         "18501.525281571907",
         "0.6552227673468112",
         "0.0",
         "54.620459222234565",
         "54.620459222234814",
         "7074143.317796148",
         "129514.53390410927"
        ],
        [
         "2",
         "basic_min10",
         "0.3110236220472441",
         "0.2572178477690289",
         "470",
         "410",
         "349",
         "18212.714142710964",
         "0.6447434913165875",
         "0.0",
         "98.55589197804382",
         "98.55589197804416",
         "12995347.423265355",
         "131857.64100395338"
        ],
        [
         "3",
         "basic_no_c",
         "0.2648648648648649",
         "0.1772972972972973",
         "497",
         "403",
         "344",
         "17808.25001225341",
         "0.628777982213594",
         "0.0",
         "84.7151344473271",
         "84.71513444732719",
         "11533497.575451234",
         "136144.47584477774"
        ],
        [
         "4",
         "hierarchy",
         "0.2979315831344471",
         "0.1722354813046937",
         "954",
         "488",
         "448",
         "12457.759399743907",
         "0.44831435870677655",
         "0.0",
         "5.9587792148061585",
         "5.958779214806152",
         "1962898.0217150166",
         "329412.77918767"
        ],
        [
         "5",
         "hierarchy_no_cuisine",
         "0.32964426877470354",
         "0.23794466403162054",
         "766",
         "524",
         "468",
         "14888.467960535232",
         "0.5257041757189094",
         "0.0",
         "22.797761213545986",
         "22.797761213546014",
         "5867115.917197476",
         "257354.91578494746"
        ]
       ],
       "shape": {
        "columns": 13,
        "rows": 6
       }
      },
      "text/html": [
       "<div>\n",
       "<style scoped>\n",
       "    .dataframe tbody tr th:only-of-type {\n",
       "        vertical-align: middle;\n",
       "    }\n",
       "\n",
       "    .dataframe tbody tr th {\n",
       "        vertical-align: top;\n",
       "    }\n",
       "\n",
       "    .dataframe thead th {\n",
       "        text-align: right;\n",
       "    }\n",
       "</style>\n",
       "<table border=\"1\" class=\"dataframe\">\n",
       "  <thead>\n",
       "    <tr style=\"text-align: right;\">\n",
       "      <th></th>\n",
       "      <th>df_name</th>\n",
       "      <th>share_cohorts_with_outlier_IQR</th>\n",
       "      <th>share_cohorts_with_outlier_5x</th>\n",
       "      <th>iqr_total_outliers</th>\n",
       "      <th>mean_5x_total_outliers</th>\n",
       "      <th>overlap_total_vendors</th>\n",
       "      <th>KW_H</th>\n",
       "      <th>epsilon_squared</th>\n",
       "      <th>p_value</th>\n",
       "      <th>f_stat_scipy</th>\n",
       "      <th>f_stat_manual</th>\n",
       "      <th>ms_b_manual</th>\n",
       "      <th>ms_w_manual</th>\n",
       "    </tr>\n",
       "  </thead>\n",
       "  <tbody>\n",
       "    <tr>\n",
       "      <th>0</th>\n",
       "      <td>current</td>\n",
       "      <td>0.285768</td>\n",
       "      <td>0.148659</td>\n",
       "      <td>1053</td>\n",
       "      <td>544</td>\n",
       "      <td>522</td>\n",
       "      <td>13624.550059</td>\n",
       "      <td>0.491684</td>\n",
       "      <td>0.0</td>\n",
       "      <td>11.275609</td>\n",
       "      <td>11.275609</td>\n",
       "      <td>2.924127e+06</td>\n",
       "      <td>259332.064035</td>\n",
       "    </tr>\n",
       "    <tr>\n",
       "      <th>1</th>\n",
       "      <td>basic</td>\n",
       "      <td>0.248656</td>\n",
       "      <td>0.142473</td>\n",
       "      <td>574</td>\n",
       "      <td>361</td>\n",
       "      <td>326</td>\n",
       "      <td>18501.525282</td>\n",
       "      <td>0.655223</td>\n",
       "      <td>0.0</td>\n",
       "      <td>54.620459</td>\n",
       "      <td>54.620459</td>\n",
       "      <td>7.074143e+06</td>\n",
       "      <td>129514.533904</td>\n",
       "    </tr>\n",
       "    <tr>\n",
       "      <th>2</th>\n",
       "      <td>basic_min10</td>\n",
       "      <td>0.311024</td>\n",
       "      <td>0.257218</td>\n",
       "      <td>470</td>\n",
       "      <td>410</td>\n",
       "      <td>349</td>\n",
       "      <td>18212.714143</td>\n",
       "      <td>0.644743</td>\n",
       "      <td>0.0</td>\n",
       "      <td>98.555892</td>\n",
       "      <td>98.555892</td>\n",
       "      <td>1.299535e+07</td>\n",
       "      <td>131857.641004</td>\n",
       "    </tr>\n",
       "    <tr>\n",
       "      <th>3</th>\n",
       "      <td>basic_no_c</td>\n",
       "      <td>0.264865</td>\n",
       "      <td>0.177297</td>\n",
       "      <td>497</td>\n",
       "      <td>403</td>\n",
       "      <td>344</td>\n",
       "      <td>17808.250012</td>\n",
       "      <td>0.628778</td>\n",
       "      <td>0.0</td>\n",
       "      <td>84.715134</td>\n",
       "      <td>84.715134</td>\n",
       "      <td>1.153350e+07</td>\n",
       "      <td>136144.475845</td>\n",
       "    </tr>\n",
       "    <tr>\n",
       "      <th>4</th>\n",
       "      <td>hierarchy</td>\n",
       "      <td>0.297932</td>\n",
       "      <td>0.172235</td>\n",
       "      <td>954</td>\n",
       "      <td>488</td>\n",
       "      <td>448</td>\n",
       "      <td>12457.759400</td>\n",
       "      <td>0.448314</td>\n",
       "      <td>0.0</td>\n",
       "      <td>5.958779</td>\n",
       "      <td>5.958779</td>\n",
       "      <td>1.962898e+06</td>\n",
       "      <td>329412.779188</td>\n",
       "    </tr>\n",
       "    <tr>\n",
       "      <th>5</th>\n",
       "      <td>hierarchy_no_cuisine</td>\n",
       "      <td>0.329644</td>\n",
       "      <td>0.237945</td>\n",
       "      <td>766</td>\n",
       "      <td>524</td>\n",
       "      <td>468</td>\n",
       "      <td>14888.467961</td>\n",
       "      <td>0.525704</td>\n",
       "      <td>0.0</td>\n",
       "      <td>22.797761</td>\n",
       "      <td>22.797761</td>\n",
       "      <td>5.867116e+06</td>\n",
       "      <td>257354.915785</td>\n",
       "    </tr>\n",
       "  </tbody>\n",
       "</table>\n",
       "</div>"
      ],
      "text/plain": [
       "                df_name  share_cohorts_with_outlier_IQR  \\\n",
       "0               current                        0.285768   \n",
       "1                 basic                        0.248656   \n",
       "2           basic_min10                        0.311024   \n",
       "3            basic_no_c                        0.264865   \n",
       "4             hierarchy                        0.297932   \n",
       "5  hierarchy_no_cuisine                        0.329644   \n",
       "\n",
       "   share_cohorts_with_outlier_5x  iqr_total_outliers  mean_5x_total_outliers  \\\n",
       "0                       0.148659                1053                     544   \n",
       "1                       0.142473                 574                     361   \n",
       "2                       0.257218                 470                     410   \n",
       "3                       0.177297                 497                     403   \n",
       "4                       0.172235                 954                     488   \n",
       "5                       0.237945                 766                     524   \n",
       "\n",
       "   overlap_total_vendors          KW_H  epsilon_squared  p_value  \\\n",
       "0                    522  13624.550059         0.491684      0.0   \n",
       "1                    326  18501.525282         0.655223      0.0   \n",
       "2                    349  18212.714143         0.644743      0.0   \n",
       "3                    344  17808.250012         0.628778      0.0   \n",
       "4                    448  12457.759400         0.448314      0.0   \n",
       "5                    468  14888.467961         0.525704      0.0   \n",
       "\n",
       "   f_stat_scipy  f_stat_manual   ms_b_manual    ms_w_manual  \n",
       "0     11.275609      11.275609  2.924127e+06  259332.064035  \n",
       "1     54.620459      54.620459  7.074143e+06  129514.533904  \n",
       "2     98.555892      98.555892  1.299535e+07  131857.641004  \n",
       "3     84.715134      84.715134  1.153350e+07  136144.475845  \n",
       "4      5.958779       5.958779  1.962898e+06  329412.779188  \n",
       "5     22.797761      22.797761  5.867116e+06  257354.915785  "
      ]
     },
     "execution_count": 14,
     "metadata": {},
     "output_type": "execute_result"
    }
   ],
   "source": [
    "with warnings.catch_warnings():\n",
    "    warnings.simplefilter(\"ignore\", category=RuntimeWarning)\n",
    "    outlier_summary_results = process_dataframes_for_outliers(\n",
    "        processed_dfs,\n",
    "        'gmv',\n",
    "        'cohort_id'\n",
    "    )\n",
    "\n",
    "pandas_gbq.to_gbq(outlier_summary_results, NEW_SUMMARY_TABLE_ID, project_id=PROJECT_ID, if_exists='replace')\n",
    "\n",
    "outlier_summary_results"
   ]
  },
  {
   "cell_type": "code",
   "execution_count": 15,
   "id": "caa8b74f",
   "metadata": {},
   "outputs": [],
   "source": [
    "\n",
    "from typing import Optional\n",
    "from pandas import DataFrame"
   ]
  },
  {
   "cell_type": "code",
   "execution_count": 17,
   "id": "7c0be681",
   "metadata": {},
   "outputs": [
    {
     "name": "stdout",
     "output_type": "stream",
     "text": [
      "Plot saved to: /Users/patrick.doupe/DH/ad_hoc/cohorts/figures/f_statistic.png\n"
     ]
    },
    {
     "data": {
      "image/png": "[encoded data removed]",
      "text/plain": [
       "<Figure size 1000x600 with 1 Axes>"
      ]
     },
     "metadata": {},
     "output_type": "display_data"
    }
   ],
   "source": [
    "STATISTIC='f_stat_manual'\n",
    "Y_LABEL='F statistic (Higher is better)'\n",
    "TITLE='Which Hierarchy Levels Best Separate High vs Low Performers?'\n",
    "OUTPUT_PATH=BASE_PLOT_PATH / 'f_statistic.png'\n",
    "\n",
    "with warnings.catch_warnings():\n",
    "    warnings.simplefilter(\"ignore\", FutureWarning)\n",
    "    plot_figure_wrapper(outlier_summary_results, STATISTIC, Y_LABEL, TITLE, OUTPUT_PATH)"
   ]
  },
  {
   "cell_type": "code",
   "execution_count": 18,
   "id": "fa36b536",
   "metadata": {},
   "outputs": [
    {
     "name": "stdout",
     "output_type": "stream",
     "text": [
      "Plot saved to: /Users/patrick.doupe/DH/ad_hoc/cohorts/figures/share_cohorts_with_outlier_5x.png\n"
     ]
    },
    {
     "data": {
      "image/png": "[encoded data removed]",
      "text/plain": [
       "<Figure size 1000x600 with 1 Axes>"
      ]
     },
     "metadata": {},
     "output_type": "display_data"
    }
   ],
   "source": [
    "STATISTIC='share_cohorts_with_outlier_5x'\n",
    "Y_LABEL='Share of cohorts with outliers'\n",
    "TITLE='Which rule generates the highest outlier share?'\n",
    "OUTPUT_PATH=BASE_PLOT_PATH/ f\"{STATISTIC}.png\"\n",
    "\n",
    "with warnings.catch_warnings():\n",
    "    warnings.simplefilter(\"ignore\", FutureWarning)\n",
    "    plot_figure_wrapper(outlier_summary_results, STATISTIC, Y_LABEL, TITLE, OUTPUT_PATH)"
   ]
  },
  {
   "cell_type": "code",
   "execution_count": 19,
   "id": "c5d69dc1",
   "metadata": {},
   "outputs": [
    {
     "name": "stdout",
     "output_type": "stream",
     "text": [
      "Plot saved to: /Users/patrick.doupe/DH/ad_hoc/cohorts/figures/ms_b_manual.png\n"
     ]
    },
    {
     "data": {
      "image/png": "[encoded data removed]",
      "text/plain": [
       "<Figure size 1000x600 with 1 Axes>"
      ]
     },
     "metadata": {},
     "output_type": "display_data"
    }
   ],
   "source": [
    "STATISTIC='ms_b_manual'\n",
    "Y_LABEL='Between cohort SS'\n",
    "TITLE='How much variance is there across cohorts?'\n",
    "OUTPUT_PATH=BASE_PLOT_PATH/ f\"{STATISTIC}.png\"\n",
    "\n",
    "with warnings.catch_warnings():\n",
    "    warnings.simplefilter(\"ignore\", FutureWarning)\n",
    "    plot_figure_wrapper(outlier_summary_results, STATISTIC, Y_LABEL, TITLE, OUTPUT_PATH)"
   ]
  },
  {
   "cell_type": "code",
   "execution_count": 20,
   "id": "4a3d243f",
   "metadata": {},
   "outputs": [
    {
     "name": "stdout",
     "output_type": "stream",
     "text": [
      "Plot saved to: /Users/patrick.doupe/DH/ad_hoc/cohorts/figures/ms_w_manual.png\n"
     ]
    },
    {
     "data": {
      "image/png": "[encoded data removed]",
      "text/plain": [
       "<Figure size 1000x600 with 1 Axes>"
      ]
     },
     "metadata": {},
     "output_type": "display_data"
    }
   ],
   "source": [
    "STATISTIC='ms_w_manual'\n",
    "Y_LABEL='Within cohort SS'\n",
    "TITLE='How much variance is there within cohorts?'\n",
    "OUTPUT_PATH=BASE_PLOT_PATH/ f\"{STATISTIC}.png\"\n",
    "\n",
    "with warnings.catch_warnings():\n",
    "    warnings.simplefilter(\"ignore\", FutureWarning)\n",
    "    plot_figure_wrapper(outlier_summary_results, STATISTIC, Y_LABEL, TITLE, OUTPUT_PATH)"
   ]
  },
  {
   "cell_type": "code",
   "execution_count": 21,
   "id": "35d46453",
   "metadata": {},
   "outputs": [
    {
     "name": "stdout",
     "output_type": "stream",
     "text": [
      "The correlation between cohort size and the number of outliers in the current cohorting rule is 0.97\n"
     ]
    }
   ],
   "source": [
    "current_stats = compare_outlier_methods(df_current, 'gmv', 'cohort_id')\n",
    "corrcoef = np.corrcoef(current_stats.cohort_size, current_stats.mean_5x_outliers)\n",
    "print(f\"The correlation between cohort size and the number of outliers in the current cohorting rule is {corrcoef[0][1]:.2f}\")"
   ]
  },
  {
   "cell_type": "code",
   "execution_count": null,
   "id": "0aa51d02",
   "metadata": {},
   "outputs": [],
   "source": [
    "df_b"
   ]
  },
  {
   "cell_type": "code",
   "execution_count": 9,
   "id": "9a13693b",
   "metadata": {},
   "outputs": [
    {
     "name": "stdout",
     "output_type": "stream",
     "text": [
      "Cohort ID: 74650\n",
      "Features:\n",
      "{\n",
      "    \"area\": \"All\",\n",
      "    \"budget\": \"All\",\n",
      "    \"city\": \"dubai\",\n",
      "    \"cuisine\": \"All\",\n",
      "    \"entity\": \"tb_ae\",\n",
      "    \"vendor_grade\": \"NA\"\n",
      "}\n",
      "Unique Vendors: 1088\n",
      "------------------------------\n",
      "Cohort ID: 94453\n",
      "Features:\n",
      "{\n",
      "    \"area\": \"Business Bay\",\n",
      "    \"budget\": \"All\",\n",
      "    \"city\": \"dubai\",\n",
      "    \"cuisine\": \"All\",\n",
      "    \"entity\": \"tb_ae\",\n",
      "    \"vendor_grade\": \"D\"\n",
      "}\n",
      "Unique Vendors: 568\n",
      "------------------------------\n",
      "Cohort ID: 107896\n",
      "Features:\n",
      "{\n",
      "    \"area\": \"Dubai Silicon Oasis\",\n",
      "    \"budget\": \"All\",\n",
      "    \"city\": \"dubai\",\n",
      "    \"cuisine\": \"All\",\n",
      "    \"entity\": \"tb_ae\",\n",
      "    \"vendor_grade\": \"D\"\n",
      "}\n",
      "Unique Vendors: 405\n",
      "------------------------------\n",
      "Cohort ID: 72367\n",
      "Features:\n",
      "{\n",
      "    \"area\": \"All\",\n",
      "    \"budget\": \"All\",\n",
      "    \"city\": \"abu dhabi\",\n",
      "    \"cuisine\": \"All\",\n",
      "    \"entity\": \"tb_ae\",\n",
      "    \"vendor_grade\": \"NA\"\n",
      "}\n",
      "Unique Vendors: 392\n",
      "------------------------------\n",
      "Cohort ID: 128348\n",
      "Features:\n",
      "{\n",
      "    \"area\": \"Jumeirah Lakes Towers - JLT\",\n",
      "    \"budget\": \"All\",\n",
      "    \"city\": \"dubai\",\n",
      "    \"cuisine\": \"All\",\n",
      "    \"entity\": \"tb_ae\",\n",
      "    \"vendor_grade\": \"D\"\n",
      "}\n",
      "Unique Vendors: 352\n",
      "------------------------------\n"
     ]
    }
   ],
   "source": [
    "pretty_print_output(get_top_cohort_items(df_basic_no_cuisine))"
   ]
  },
  {
   "cell_type": "code",
   "execution_count": 10,
   "id": "b27764f2",
   "metadata": {},
   "outputs": [
    {
     "name": "stdout",
     "output_type": "stream",
     "text": [
      "Cohort ID: 74650\n",
      "Features:\n",
      "{\n",
      "    \"area\": \"All\",\n",
      "    \"budget\": \"All\",\n",
      "    \"city\": \"dubai\",\n",
      "    \"cuisine\": \"All\",\n",
      "    \"entity\": \"tb_ae\",\n",
      "    \"vendor_grade\": \"NA\"\n",
      "}\n",
      "Unique Vendors: 373\n",
      "------------------------------\n",
      "Cohort ID: 74649\n",
      "Features:\n",
      "{\n",
      "    \"area\": \"All\",\n",
      "    \"budget\": \"All\",\n",
      "    \"city\": \"dubai\",\n",
      "    \"cuisine\": \"All\",\n",
      "    \"entity\": \"tb_ae\",\n",
      "    \"vendor_grade\": \"D\"\n",
      "}\n",
      "Unique Vendors: 324\n",
      "------------------------------\n",
      "Cohort ID: 94454\n",
      "Features:\n",
      "{\n",
      "    \"area\": \"Business Bay\",\n",
      "    \"budget\": \"All\",\n",
      "    \"city\": \"dubai\",\n",
      "    \"cuisine\": \"All\",\n",
      "    \"entity\": \"tb_ae\",\n",
      "    \"vendor_grade\": \"NA\"\n",
      "}\n",
      "Unique Vendors: 290\n",
      "------------------------------\n",
      "Cohort ID: 74952\n",
      "Features:\n",
      "{\n",
      "    \"area\": \"All\",\n",
      "    \"budget\": \"All\",\n",
      "    \"city\": \"dubai\",\n",
      "    \"cuisine\": \"Indian\",\n",
      "    \"entity\": \"tb_ae\",\n",
      "    \"vendor_grade\": \"D\"\n",
      "}\n",
      "Unique Vendors: 268\n",
      "------------------------------\n",
      "Cohort ID: 74648\n",
      "Features:\n",
      "{\n",
      "    \"area\": \"All\",\n",
      "    \"budget\": \"All\",\n",
      "    \"city\": \"dubai\",\n",
      "    \"cuisine\": \"All\",\n",
      "    \"entity\": \"tb_ae\",\n",
      "    \"vendor_grade\": \"C\"\n",
      "}\n",
      "Unique Vendors: 259\n",
      "------------------------------\n"
     ]
    }
   ],
   "source": [
    "pretty_print_output(get_top_cohort_items(df_basic_min10))"
   ]
  },
  {
   "cell_type": "code",
   "execution_count": 24,
   "id": "f121f306",
   "metadata": {},
   "outputs": [
    {
     "name": "stdout",
     "output_type": "stream",
     "text": [
      "Cohort ID: 26274\n",
      "Features:\n",
      "{\n",
      "    \"area\": \"Al Karama\",\n",
      "    \"budget\": \"All\",\n",
      "    \"city\": \"dubai\",\n",
      "    \"cuisine\": \"Indian\",\n",
      "    \"entity\": \"tb_ae\",\n",
      "    \"vendor_grade\": \"D\"\n",
      "}\n",
      "Unique Vendors: 84\n",
      "------------------------------\n",
      "Cohort ID: 106811\n",
      "Features:\n",
      "{\n",
      "    \"area\": \"Dubai Motor City\",\n",
      "    \"budget\": \"All\",\n",
      "    \"city\": \"dubai\",\n",
      "    \"cuisine\": \"All\",\n",
      "    \"entity\": \"tb_ae\",\n",
      "    \"vendor_grade\": \"D\"\n",
      "}\n",
      "Unique Vendors: 67\n",
      "------------------------------\n",
      "Cohort ID: 94453\n",
      "Features:\n",
      "{\n",
      "    \"area\": \"Business Bay\",\n",
      "    \"budget\": \"All\",\n",
      "    \"city\": \"dubai\",\n",
      "    \"cuisine\": \"All\",\n",
      "    \"entity\": \"tb_ae\",\n",
      "    \"vendor_grade\": \"D\"\n",
      "}\n",
      "Unique Vendors: 67\n",
      "------------------------------\n",
      "Cohort ID: 74953\n",
      "Features:\n",
      "{\n",
      "    \"area\": \"All\",\n",
      "    \"budget\": \"All\",\n",
      "    \"city\": \"dubai\",\n",
      "    \"cuisine\": \"Indian\",\n",
      "    \"entity\": \"tb_ae\",\n",
      "    \"vendor_grade\": \"NA\"\n",
      "}\n",
      "Unique Vendors: 65\n",
      "------------------------------\n",
      "Cohort ID: 8160\n",
      "Features:\n",
      "{\n",
      "    \"area\": \"Al Barsha 1\",\n",
      "    \"budget\": \"All\",\n",
      "    \"city\": \"dubai\",\n",
      "    \"cuisine\": \"All\",\n",
      "    \"entity\": \"tb_ae\",\n",
      "    \"vendor_grade\": \"D\"\n",
      "}\n",
      "Unique Vendors: 64\n",
      "------------------------------\n"
     ]
    }
   ],
   "source": [
    "pretty_print_output(get_top_cohort_items(df_h))"
   ]
  },
  {
   "cell_type": "code",
   "execution_count": null,
   "id": "cf4ef7b9",
   "metadata": {},
   "outputs": [],
   "source": []
  }
 ],
 "metadata": {
  "kernelspec": {
   "display_name": "cohorts-py3.13 (3.13.4)",
   "language": "python",
   "name": "python3"
  },
  "language_info": {
   "codemirror_mode": {
    "name": "ipython",
    "version": 3
   },
   "file_extension": ".py",
   "mimetype": "text/x-python",
   "name": "python",
   "nbconvert_exporter": "python",
   "pygments_lexer": "ipython3",
   "version": "3.13.4"
  }
 },
 "nbformat": 4,
 "nbformat_minor": 5
}
