{
 "cells": [
  {
   "cell_type": "code",
   "execution_count": 1,
   "id": "bce672e3",
   "metadata": {},
   "outputs": [
    {
     "name": "stderr",
     "output_type": "stream",
     "text": [
      "/Users/patrick.doupe/DH/ad_hoc/cohorts/.venv/lib/python3.13/site-packages/google/cloud/bigquery/__init__.py:237: FutureWarning: %load_ext google.cloud.bigquery is deprecated. Install bigquery-magics package and use `%load_ext bigquery_magics`, instead.\n",
      "  warnings.warn(\n"
     ]
    }
   ],
   "source": [
    "from datetime import date\n",
    "from highlight_text import fig_text\n",
    "from pathlib import Path\n",
    "\n",
    "import os\n",
    "import pandas as pd\n",
    "import matplotlib.pyplot as plt\n",
    "import bigframes.pandas as bpd\n",
    "\n",
    "import warnings\n",
    "warnings.filterwarnings(action='once')\n",
    "\n",
    "%load_ext google.cloud.bigquery\n",
    "bpd.options.bigquery.project = \"dhh-ncr-stg\""
   ]
  },
  {
   "cell_type": "markdown",
   "id": "ac099132",
   "metadata": {},
   "source": [
    "## Open questions\n",
    "\n",
    "1. how can we flag vendor and chain?\n",
    "2. how can we get hex data, or something nice and local\n",
    "3. any other data that we're missing?\n",
    "\n",
    "\n",
    "TODO\n",
    "- want cross validation through time\n",
    "- \n"
   ]
  },
  {
   "cell_type": "code",
   "execution_count": 2,
   "id": "eae2695a",
   "metadata": {},
   "outputs": [],
   "source": [
    "# Get the current script's directory\n",
    "CURRENT_DIR = Path(os.getcwd())\n",
    "# Navigate to parallel directory and read the SQL file\n",
    "BASE_SQL_FILE_PATH = CURRENT_DIR.parent / \"queries\" / \"data_creation.sql\"\n",
    "CURRENT_COHORT_SQL_FILE_PATH = CURRENT_DIR.parent / \"queries\" / \"current_cohorts.sql\"\n",
    "CURRENT_RECOMMENDATIONS_SQL_FILE_PATH = CURRENT_DIR.parent / \"queries\" / \"current_recommendations.sql\""
   ]
  },
  {
   "cell_type": "code",
   "execution_count": 3,
   "id": "7078a11a",
   "metadata": {},
   "outputs": [],
   "source": [
    "with open(BASE_SQL_FILE_PATH, 'r') as file:\n",
    "    SQL_CONTENT = file.read()"
   ]
  },
  {
   "cell_type": "code",
   "execution_count": null,
   "id": "4e9b7f25",
   "metadata": {},
   "outputs": [
    {
     "name": "stdout",
     "output_type": "stream",
     "text": [
      "Executing query with job ID: e7a5fa11-e1ca-4abc-96fe-56e7fb49fa25\n",
      "Query executing: 0.45s"
     ]
    }
   ],
   "source": [
    "%%bigquery\n",
    "$SQL_CONTENT"
   ]
  },
  {
   "cell_type": "code",
   "execution_count": null,
   "id": "5b426fb0",
   "metadata": {},
   "outputs": [],
   "source": [
    "with open(CURRENT_COHORT_SQL_FILE_PATH, 'r') as file:\n",
    "    SQL_CONTENT_CURRENT = file.read()"
   ]
  },
  {
   "cell_type": "code",
   "execution_count": null,
   "id": "33e876f8",
   "metadata": {},
   "outputs": [
    {
     "name": "stderr",
     "output_type": "stream",
     "text": [
      "/Users/patrick.doupe/DH/ad_hoc/cohorts/.venv/lib/python3.13/site-packages/google/cloud/bigquery/job/query.py:2074: UserWarning: A progress bar was requested, but there was an error loading the tqdm library. Please install tqdm to use the progress bar functionality.\n",
      "  query_result = wait_for_query(self, progress_bar_type, max_results=max_results)\n"
     ]
    },
    {
     "data": {
      "application/vnd.microsoft.datawrangler.viewer.v0+json": {
       "columns": [
        {
         "name": "index",
         "rawType": "int64",
         "type": "integer"
        }
       ],
       "ref": "8653b97a-331b-44c5-a8fc-3dce44c182cc",
       "rows": [],
       "shape": {
        "columns": 0,
        "rows": 0
       }
      },
      "text/html": [
       "<div>\n",
       "<style scoped>\n",
       "    .dataframe tbody tr th:only-of-type {\n",
       "        vertical-align: middle;\n",
       "    }\n",
       "\n",
       "    .dataframe tbody tr th {\n",
       "        vertical-align: top;\n",
       "    }\n",
       "\n",
       "    .dataframe thead th {\n",
       "        text-align: right;\n",
       "    }\n",
       "</style>\n",
       "<table border=\"1\" class=\"dataframe\">\n",
       "  <thead>\n",
       "    <tr style=\"text-align: right;\">\n",
       "      <th></th>\n",
       "    </tr>\n",
       "  </thead>\n",
       "  <tbody>\n",
       "  </tbody>\n",
       "</table>\n",
       "</div>"
      ],
      "text/plain": [
       "Empty DataFrame\n",
       "Columns: []\n",
       "Index: []"
      ]
     },
     "execution_count": 28,
     "metadata": {},
     "output_type": "execute_result"
    }
   ],
   "source": [
    "%%bigquery\n",
    "$SQL_CONTENT_CURRENT"
   ]
  },
  {
   "cell_type": "code",
   "execution_count": null,
   "id": "0e4bc3f7",
   "metadata": {},
   "outputs": [
    {
     "name": "stderr",
     "output_type": "stream",
     "text": [
      "/Users/patrick.doupe/DH/ad_hoc/cohorts/.venv/lib/python3.13/site-packages/google/cloud/bigquery/job/query.py:2074: UserWarning: A progress bar was requested, but there was an error loading the tqdm library. Please install tqdm to use the progress bar functionality.\n",
      "  query_result = wait_for_query(self, progress_bar_type, max_results=max_results)\n",
      "/Users/patrick.doupe/DH/ad_hoc/cohorts/.venv/lib/python3.13/site-packages/google/cloud/bigquery/table.py:2645: UserWarning: A progress bar was requested, but there was an error loading the tqdm library. Please install tqdm to use the progress bar functionality.\n",
      "  record_batch = self.to_arrow(\n"
     ]
    },
    {
     "data": {
      "application/vnd.microsoft.datawrangler.viewer.v0+json": {
       "columns": [
        {
         "name": "index",
         "rawType": "int64",
         "type": "integer"
        },
        {
         "name": "f0_",
         "rawType": "Int64",
         "type": "integer"
        }
       ],
       "ref": "6cd5a9b2-f1d7-4fb3-8743-3e1548316e87",
       "rows": [
        [
         "0",
         "3050846"
        ]
       ],
       "shape": {
        "columns": 1,
        "rows": 1
       }
      },
      "text/html": [
       "<div>\n",
       "<style scoped>\n",
       "    .dataframe tbody tr th:only-of-type {\n",
       "        vertical-align: middle;\n",
       "    }\n",
       "\n",
       "    .dataframe tbody tr th {\n",
       "        vertical-align: top;\n",
       "    }\n",
       "\n",
       "    .dataframe thead th {\n",
       "        text-align: right;\n",
       "    }\n",
       "</style>\n",
       "<table border=\"1\" class=\"dataframe\">\n",
       "  <thead>\n",
       "    <tr style=\"text-align: right;\">\n",
       "      <th></th>\n",
       "      <th>f0_</th>\n",
       "    </tr>\n",
       "  </thead>\n",
       "  <tbody>\n",
       "    <tr>\n",
       "      <th>0</th>\n",
       "      <td>3050846</td>\n",
       "    </tr>\n",
       "  </tbody>\n",
       "</table>\n",
       "</div>"
      ],
      "text/plain": [
       "       f0_\n",
       "0  3050846"
      ]
     },
     "execution_count": 9,
     "metadata": {},
     "output_type": "execute_result"
    }
   ],
   "source": [
    "%%bigquery\n",
    "SELECT COUNT(*) FROM `dhh-ncr-stg.patrick_doupe.current_cohort_vendor_base`"
   ]
  },
  {
   "cell_type": "code",
   "execution_count": null,
   "id": "021cd082",
   "metadata": {},
   "outputs": [
    {
     "name": "stderr",
     "output_type": "stream",
     "text": [
      "/Users/patrick.doupe/DH/ad_hoc/cohorts/.venv/lib/python3.13/site-packages/google/cloud/bigquery/job/query.py:2074: UserWarning: A progress bar was requested, but there was an error loading the tqdm library. Please install tqdm to use the progress bar functionality.\n",
      "  query_result = wait_for_query(self, progress_bar_type, max_results=max_results)\n",
      "/Users/patrick.doupe/DH/ad_hoc/cohorts/.venv/lib/python3.13/site-packages/google/cloud/bigquery/table.py:2645: UserWarning: A progress bar was requested, but there was an error loading the tqdm library. Please install tqdm to use the progress bar functionality.\n",
      "  record_batch = self.to_arrow(\n"
     ]
    },
    {
     "data": {
      "application/vnd.microsoft.datawrangler.viewer.v0+json": {
       "columns": [
        {
         "name": "index",
         "rawType": "int64",
         "type": "integer"
        },
        {
         "name": "f0_",
         "rawType": "Int64",
         "type": "integer"
        }
       ],
       "ref": "00da5d47-df45-4c24-bf1a-696ad98d34fb",
       "rows": [
        [
         "0",
         "50390"
        ]
       ],
       "shape": {
        "columns": 1,
        "rows": 1
       }
      },
      "text/html": [
       "<div>\n",
       "<style scoped>\n",
       "    .dataframe tbody tr th:only-of-type {\n",
       "        vertical-align: middle;\n",
       "    }\n",
       "\n",
       "    .dataframe tbody tr th {\n",
       "        vertical-align: top;\n",
       "    }\n",
       "\n",
       "    .dataframe thead th {\n",
       "        text-align: right;\n",
       "    }\n",
       "</style>\n",
       "<table border=\"1\" class=\"dataframe\">\n",
       "  <thead>\n",
       "    <tr style=\"text-align: right;\">\n",
       "      <th></th>\n",
       "      <th>f0_</th>\n",
       "    </tr>\n",
       "  </thead>\n",
       "  <tbody>\n",
       "    <tr>\n",
       "      <th>0</th>\n",
       "      <td>50390</td>\n",
       "    </tr>\n",
       "  </tbody>\n",
       "</table>\n",
       "</div>"
      ],
      "text/plain": [
       "     f0_\n",
       "0  50390"
      ]
     },
     "execution_count": 10,
     "metadata": {},
     "output_type": "execute_result"
    }
   ],
   "source": [
    "%%bigquery\n",
    "DECLARE REPORT_DATE date DEFAULT '2025-06-01';\n",
    "DECLARE target_entities ARRAY<STRING>; \n",
    "SET target_entities = ['FP_SG', 'TB_AE']; \n",
    "\n",
    "SELECT \n",
    "    COUNT(DISTINCT vendor_code)\n",
    "FROM `fulfillment-dwh-production.cl_vendor.growth_vendor_smart_recommendations`\n",
    "WHERE created_date = REPORT_DATE \n",
    "AND entity_id IN UNNEST(target_entities)"
   ]
  },
  {
   "cell_type": "code",
   "execution_count": null,
   "id": "0e41de16",
   "metadata": {},
   "outputs": [
    {
     "name": "stderr",
     "output_type": "stream",
     "text": [
      "/Users/patrick.doupe/DH/ad_hoc/cohorts/.venv/lib/python3.13/site-packages/google/cloud/bigquery/job/query.py:2074: UserWarning: A progress bar was requested, but there was an error loading the tqdm library. Please install tqdm to use the progress bar functionality.\n",
      "  query_result = wait_for_query(self, progress_bar_type, max_results=max_results)\n",
      "/Users/patrick.doupe/DH/ad_hoc/cohorts/.venv/lib/python3.13/site-packages/google/cloud/bigquery/table.py:2645: UserWarning: A progress bar was requested, but there was an error loading the tqdm library. Please install tqdm to use the progress bar functionality.\n",
      "  record_batch = self.to_arrow(\n"
     ]
    },
    {
     "data": {
      "application/vnd.microsoft.datawrangler.viewer.v0+json": {
       "columns": [
        {
         "name": "index",
         "rawType": "int64",
         "type": "integer"
        },
        {
         "name": "global_entity_id",
         "rawType": "object",
         "type": "string"
        },
        {
         "name": "vendor_id",
         "rawType": "object",
         "type": "string"
        },
        {
         "name": "cohort_id",
         "rawType": "Int64",
         "type": "integer"
        },
        {
         "name": "created_month",
         "rawType": "dbdate",
         "type": "unknown"
        },
        {
         "name": "successful_orders",
         "rawType": "Int64",
         "type": "integer"
        },
        {
         "name": "successful_customers",
         "rawType": "Int64",
         "type": "integer"
        },
        {
         "name": "successful_orders_gmv",
         "rawType": "object",
         "type": "unknown"
        }
       ],
       "ref": "8201383e-4685-46ea-85ce-9acd9ae33759",
       "rows": [
        [
         "0",
         "TB_BH",
         "697347",
         "208",
         null,
         null,
         null,
         null
        ],
        [
         "1",
         "TB_AE",
         "613389",
         "1598",
         null,
         null,
         null,
         null
        ],
        [
         "2",
         "TB_AE",
         "637426",
         "2996",
         null,
         null,
         null,
         null
        ],
        [
         "3",
         "TB_AE",
         "689954",
         "4606",
         null,
         null,
         null,
         null
        ],
        [
         "4",
         "TB_AE",
         "695929",
         "6858",
         null,
         null,
         null,
         null
        ],
        [
         "5",
         "TB_AE",
         "42236",
         "8771",
         null,
         null,
         null,
         null
        ],
        [
         "6",
         "TB_AE",
         "4582",
         "8822",
         null,
         null,
         null,
         null
        ],
        [
         "7",
         "TB_AE",
         "721359",
         "8830",
         null,
         null,
         null,
         null
        ],
        [
         "8",
         "TB_AE",
         "712149",
         "8989",
         null,
         null,
         null,
         null
        ],
        [
         "9",
         "TB_AE",
         "705049",
         "10184",
         null,
         null,
         null,
         null
        ]
       ],
       "shape": {
        "columns": 7,
        "rows": 10
       }
      },
      "text/html": [
       "<div>\n",
       "<style scoped>\n",
       "    .dataframe tbody tr th:only-of-type {\n",
       "        vertical-align: middle;\n",
       "    }\n",
       "\n",
       "    .dataframe tbody tr th {\n",
       "        vertical-align: top;\n",
       "    }\n",
       "\n",
       "    .dataframe thead th {\n",
       "        text-align: right;\n",
       "    }\n",
       "</style>\n",
       "<table border=\"1\" class=\"dataframe\">\n",
       "  <thead>\n",
       "    <tr style=\"text-align: right;\">\n",
       "      <th></th>\n",
       "      <th>global_entity_id</th>\n",
       "      <th>vendor_id</th>\n",
       "      <th>cohort_id</th>\n",
       "      <th>created_month</th>\n",
       "      <th>successful_orders</th>\n",
       "      <th>successful_customers</th>\n",
       "      <th>successful_orders_gmv</th>\n",
       "    </tr>\n",
       "  </thead>\n",
       "  <tbody>\n",
       "    <tr>\n",
       "      <th>0</th>\n",
       "      <td>TB_BH</td>\n",
       "      <td>697347</td>\n",
       "      <td>208</td>\n",
       "      <td>NaT</td>\n",
       "      <td>&lt;NA&gt;</td>\n",
       "      <td>&lt;NA&gt;</td>\n",
       "      <td>None</td>\n",
       "    </tr>\n",
       "    <tr>\n",
       "      <th>1</th>\n",
       "      <td>TB_AE</td>\n",
       "      <td>613389</td>\n",
       "      <td>1598</td>\n",
       "      <td>NaT</td>\n",
       "      <td>&lt;NA&gt;</td>\n",
       "      <td>&lt;NA&gt;</td>\n",
       "      <td>None</td>\n",
       "    </tr>\n",
       "    <tr>\n",
       "      <th>2</th>\n",
       "      <td>TB_AE</td>\n",
       "      <td>637426</td>\n",
       "      <td>2996</td>\n",
       "      <td>NaT</td>\n",
       "      <td>&lt;NA&gt;</td>\n",
       "      <td>&lt;NA&gt;</td>\n",
       "      <td>None</td>\n",
       "    </tr>\n",
       "    <tr>\n",
       "      <th>3</th>\n",
       "      <td>TB_AE</td>\n",
       "      <td>689954</td>\n",
       "      <td>4606</td>\n",
       "      <td>NaT</td>\n",
       "      <td>&lt;NA&gt;</td>\n",
       "      <td>&lt;NA&gt;</td>\n",
       "      <td>None</td>\n",
       "    </tr>\n",
       "    <tr>\n",
       "      <th>4</th>\n",
       "      <td>TB_AE</td>\n",
       "      <td>695929</td>\n",
       "      <td>6858</td>\n",
       "      <td>NaT</td>\n",
       "      <td>&lt;NA&gt;</td>\n",
       "      <td>&lt;NA&gt;</td>\n",
       "      <td>None</td>\n",
       "    </tr>\n",
       "    <tr>\n",
       "      <th>5</th>\n",
       "      <td>TB_AE</td>\n",
       "      <td>42236</td>\n",
       "      <td>8771</td>\n",
       "      <td>NaT</td>\n",
       "      <td>&lt;NA&gt;</td>\n",
       "      <td>&lt;NA&gt;</td>\n",
       "      <td>None</td>\n",
       "    </tr>\n",
       "    <tr>\n",
       "      <th>6</th>\n",
       "      <td>TB_AE</td>\n",
       "      <td>4582</td>\n",
       "      <td>8822</td>\n",
       "      <td>NaT</td>\n",
       "      <td>&lt;NA&gt;</td>\n",
       "      <td>&lt;NA&gt;</td>\n",
       "      <td>None</td>\n",
       "    </tr>\n",
       "    <tr>\n",
       "      <th>7</th>\n",
       "      <td>TB_AE</td>\n",
       "      <td>721359</td>\n",
       "      <td>8830</td>\n",
       "      <td>NaT</td>\n",
       "      <td>&lt;NA&gt;</td>\n",
       "      <td>&lt;NA&gt;</td>\n",
       "      <td>None</td>\n",
       "    </tr>\n",
       "    <tr>\n",
       "      <th>8</th>\n",
       "      <td>TB_AE</td>\n",
       "      <td>712149</td>\n",
       "      <td>8989</td>\n",
       "      <td>NaT</td>\n",
       "      <td>&lt;NA&gt;</td>\n",
       "      <td>&lt;NA&gt;</td>\n",
       "      <td>None</td>\n",
       "    </tr>\n",
       "    <tr>\n",
       "      <th>9</th>\n",
       "      <td>TB_AE</td>\n",
       "      <td>705049</td>\n",
       "      <td>10184</td>\n",
       "      <td>NaT</td>\n",
       "      <td>&lt;NA&gt;</td>\n",
       "      <td>&lt;NA&gt;</td>\n",
       "      <td>None</td>\n",
       "    </tr>\n",
       "  </tbody>\n",
       "</table>\n",
       "</div>"
      ],
      "text/plain": [
       "  global_entity_id vendor_id  cohort_id created_month  successful_orders  \\\n",
       "0            TB_BH    697347        208           NaT               <NA>   \n",
       "1            TB_AE    613389       1598           NaT               <NA>   \n",
       "2            TB_AE    637426       2996           NaT               <NA>   \n",
       "3            TB_AE    689954       4606           NaT               <NA>   \n",
       "4            TB_AE    695929       6858           NaT               <NA>   \n",
       "5            TB_AE     42236       8771           NaT               <NA>   \n",
       "6            TB_AE      4582       8822           NaT               <NA>   \n",
       "7            TB_AE    721359       8830           NaT               <NA>   \n",
       "8            TB_AE    712149       8989           NaT               <NA>   \n",
       "9            TB_AE    705049      10184           NaT               <NA>   \n",
       "\n",
       "   successful_customers successful_orders_gmv  \n",
       "0                  <NA>                  None  \n",
       "1                  <NA>                  None  \n",
       "2                  <NA>                  None  \n",
       "3                  <NA>                  None  \n",
       "4                  <NA>                  None  \n",
       "5                  <NA>                  None  \n",
       "6                  <NA>                  None  \n",
       "7                  <NA>                  None  \n",
       "8                  <NA>                  None  \n",
       "9                  <NA>                  None  "
      ]
     },
     "execution_count": 11,
     "metadata": {},
     "output_type": "execute_result"
    }
   ],
   "source": [
    "%%bigquery\n",
    "SELECT * FROM `dhh-ncr-stg.patrick_doupe.current_cohort_vendor_base`\n",
    "LIMIT 10"
   ]
  },
  {
   "cell_type": "markdown",
   "id": "a2a56bb2",
   "metadata": {},
   "source": [
    "## Current recommendations"
   ]
  },
  {
   "cell_type": "code",
   "execution_count": null,
   "id": "4d544e86",
   "metadata": {},
   "outputs": [],
   "source": [
    "with open(CURRENT_RECOMMENDATIONS_SQL_FILE_PATH, 'r') as file:\n",
    "    SQL_CONTENT = file.read()"
   ]
  },
  {
   "cell_type": "code",
   "execution_count": null,
   "id": "2895d03d",
   "metadata": {},
   "outputs": [],
   "source": [
    "%%bigquery\n",
    "$SQL_QUERY"
   ]
  },
  {
   "cell_type": "code",
   "execution_count": null,
   "id": "f2b1768d",
   "metadata": {},
   "outputs": [],
   "source": []
  }
 ],
 "metadata": {
  "kernelspec": {
   "display_name": "cohorts-py3.13 (3.13.4)",
   "language": "python",
   "name": "python3"
  },
  "language_info": {
   "codemirror_mode": {
    "name": "ipython",
    "version": 3
   },
   "file_extension": ".py",
   "mimetype": "text/x-python",
   "name": "python",
   "nbconvert_exporter": "python",
   "pygments_lexer": "ipython3",
   "version": "3.13.4"
  }
 },
 "nbformat": 4,
 "nbformat_minor": 5
}
