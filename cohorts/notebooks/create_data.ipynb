{
 "cells": [
  {
   "cell_type": "code",
   "execution_count": 2,
   "id": "bce672e3",
   "metadata": {},
   "outputs": [
    {
     "name": "stdout",
     "output_type": "stream",
     "text": [
      "The google.cloud.bigquery extension is already loaded. To reload it, use:\n",
      "  %reload_ext google.cloud.bigquery\n"
     ]
    }
   ],
   "source": [
    "from datetime import date\n",
    "from highlight_text import fig_text\n",
    "from pathlib import Path\n",
    "\n",
    "import os\n",
    "import pandas as pd\n",
    "import matplotlib.pyplot as plt\n",
    "import bigframes.pandas as bpd\n",
    "\n",
    "import warnings\n",
    "warnings.filterwarnings(action='once')\n",
    "\n",
    "%load_ext google.cloud.bigquery\n",
    "bpd.options.bigquery.project = \"dhh-ncr-stg\""
   ]
  },
  {
   "cell_type": "code",
   "execution_count": 10,
   "id": "eae2695a",
   "metadata": {},
   "outputs": [],
   "source": [
    "# Get the current script's directory\n",
    "CURRENT_DIR = Path(os.getcwd())\n",
    "# Navigate to parallel directory and read the SQL file\n",
    "SQL_FILE_PATH = CURRENT_DIR.parent / \"queries\" / \"data_creation.sql\""
   ]
  },
  {
   "cell_type": "code",
   "execution_count": 29,
   "id": "7078a11a",
   "metadata": {},
   "outputs": [],
   "source": [
    "with open(SQL_FILE_PATH, 'r') as file:\n",
    "    SQL_CONTENT = file.read()"
   ]
  },
  {
   "cell_type": "code",
   "execution_count": 30,
   "id": "4e9b7f25",
   "metadata": {},
   "outputs": [
    {
     "name": "stderr",
     "output_type": "stream",
     "text": [
      "/Users/patrick.doupe/DH/ad_hoc/cohorts/.venv/lib/python3.13/site-packages/google/cloud/bigquery/job/query.py:2074: UserWarning: A progress bar was requested, but there was an error loading the tqdm library. Please install tqdm to use the progress bar functionality.\n",
      "  query_result = wait_for_query(self, progress_bar_type, max_results=max_results)\n"
     ]
    },
    {
     "data": {
      "application/vnd.microsoft.datawrangler.viewer.v0+json": {
       "columns": [
        {
         "name": "index",
         "rawType": "int64",
         "type": "integer"
        }
       ],
       "ref": "bcf59a3a-9af4-4402-9878-49f4ca40c03c",
       "rows": [],
       "shape": {
        "columns": 0,
        "rows": 0
       }
      },
      "text/html": [
       "<div>\n",
       "<style scoped>\n",
       "    .dataframe tbody tr th:only-of-type {\n",
       "        vertical-align: middle;\n",
       "    }\n",
       "\n",
       "    .dataframe tbody tr th {\n",
       "        vertical-align: top;\n",
       "    }\n",
       "\n",
       "    .dataframe thead th {\n",
       "        text-align: right;\n",
       "    }\n",
       "</style>\n",
       "<table border=\"1\" class=\"dataframe\">\n",
       "  <thead>\n",
       "    <tr style=\"text-align: right;\">\n",
       "      <th></th>\n",
       "    </tr>\n",
       "  </thead>\n",
       "  <tbody>\n",
       "  </tbody>\n",
       "</table>\n",
       "</div>"
      ],
      "text/plain": [
       "Empty DataFrame\n",
       "Columns: []\n",
       "Index: []"
      ]
     },
     "execution_count": 30,
     "metadata": {},
     "output_type": "execute_result"
    }
   ],
   "source": [
    "%%bigquery\n",
    "$SQL_CONTENT"
   ]
  },
  {
   "cell_type": "code",
   "execution_count": null,
   "id": "5b426fb0",
   "metadata": {},
   "outputs": [],
   "source": []
  }
 ],
 "metadata": {
  "kernelspec": {
   "display_name": "cohorts-py3.13 (3.13.4)",
   "language": "python",
   "name": "python3"
  },
  "language_info": {
   "codemirror_mode": {
    "name": "ipython",
    "version": 3
   },
   "file_extension": ".py",
   "mimetype": "text/x-python",
   "name": "python",
   "nbconvert_exporter": "python",
   "pygments_lexer": "ipython3",
   "version": "3.13.4"
  }
 },
 "nbformat": 4,
 "nbformat_minor": 5
}
