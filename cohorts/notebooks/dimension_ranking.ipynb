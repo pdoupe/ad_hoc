{
 "cells": [
  {
   "cell_type": "markdown",
   "id": "1eebfabb",
   "metadata": {},
   "source": [
    "# Cohorts analysis\n",
    "\n",
    "## Problem\n",
    "\n",
    "We are launching a recommendation tool that identifies vendor cohorts and suggests performance improvements based on peer comparisons within those cohorts. Our current cohort definition uses a six-level nested hierarchy (Country → City → Area → Price → Cuisine → Grade) that was designed primarily for explainability to account managers rather than analytical rigor.\n",
    "\n",
    "This ad hoc approach creates two risks for our MVP rollout:\n",
    "\n",
    "Weak statistical foundation: We haven't validated whether our cohorts actually group similar-performing vendors together Stakeholder confidence: Without a principled justification for cohort boundaries, leadership are questioning recommendation validity\n",
    "\n",
    "Our SVP has specified that cohorts must be \"sensible and comparable\" - meaning they should be both statistically meaningful and intuitive to business stakeholders. We need a methodology that validates our current hierarchy against this standard and provides a framework for refinement.\n",
    "\n",
    "## Solution\n",
    "To identify which vendor characteristics create the most \"comparable\" cohorts, we'll use a three-step approach: \n",
    "\n",
    "1. **dimension ranking through regression analysis** to find the dimensions that best predict vendor performance \n",
    "2. **hierarchy optimization**, to find the hierarchy that best groups vendors into similar performing vendors. \n",
    "The measure will help identify better cohort separation - vendors within cohorts are similar while cohorts differ meaningfully \n",
    "3. **cluster validation and refinement** to ensure that the final hierarchy is sensible and comparable.\n",
    "\n",
    "## Data \n",
    "\n",
    "Collected in `create_data.ipynb`"
   ]
  },
  {
   "cell_type": "code",
   "execution_count": 1,
   "id": "be062080",
   "metadata": {},
   "outputs": [
    {
     "name": "stderr",
     "output_type": "stream",
     "text": [
      "/Users/patrick.doupe/DH/ad_hoc/cohorts/.venv/lib/python3.13/site-packages/google/cloud/bigquery/__init__.py:237: FutureWarning: %load_ext google.cloud.bigquery is deprecated. Install bigquery-magics package and use `%load_ext bigquery_magics`, instead.\n",
      "  warnings.warn(\n"
     ]
    }
   ],
   "source": [
    "from datetime import date\n",
    "from highlight_text import fig_text\n",
    "from numpy.linalg import LinAlgError\n",
    "\n",
    "import os\n",
    "import numpy as np\n",
    "import pandas as pd\n",
    "import pyfixest as pf\n",
    "import matplotlib.pyplot as plt\n",
    "import bigframes.pandas as bpd\n",
    "import statsmodels.api as sm\n",
    "import seaborn as sns\n",
    "\n",
    "import warnings\n",
    "warnings.filterwarnings(action='once')\n",
    "\n",
    "%load_ext google.cloud.bigquery\n",
    "bpd.options.bigquery.project = \"dhh-ncr-stg\""
   ]
  },
  {
   "cell_type": "code",
   "execution_count": 2,
   "id": "4ffff5df",
   "metadata": {},
   "outputs": [
    {
     "data": {
      "application/vnd.jupyter.widget-view+json": {
       "model_id": "4848222361a44684a0708abb9d42ad0a",
       "version_major": 2,
       "version_minor": 0
      },
      "text/plain": [
       "Query is running:   0%|          |"
      ]
     },
     "metadata": {},
     "output_type": "display_data"
    },
    {
     "data": {
      "application/vnd.jupyter.widget-view+json": {
       "model_id": "62fceffe10b04a56a41705f13d13f07b",
       "version_major": 2,
       "version_minor": 0
      },
      "text/plain": [
       "Downloading:   0%|          |"
      ]
     },
     "metadata": {},
     "output_type": "display_data"
    }
   ],
   "source": [
    "%%bigquery df\n",
    "SELECT * FROM `dhh-ncr-stg.patrick_doupe.cohort_vendor_base`"
   ]
  },
  {
   "cell_type": "code",
   "execution_count": 3,
   "id": "9741e9b1",
   "metadata": {},
   "outputs": [
    {
     "data": {
      "application/vnd.jupyter.widget-view+json": {
       "model_id": "549cbdb556004f27a331f533da2be71e",
       "version_major": 2,
       "version_minor": 0
      },
      "text/plain": [
       "Query is running:   0%|          |"
      ]
     },
     "metadata": {},
     "output_type": "display_data"
    },
    {
     "data": {
      "application/vnd.jupyter.widget-view+json": {
       "model_id": "b66935706f4d4335a97eadcd96e50e0c",
       "version_major": 2,
       "version_minor": 0
      },
      "text/plain": [
       "Downloading:   0%|          |"
      ]
     },
     "metadata": {},
     "output_type": "display_data"
    }
   ],
   "source": [
    "%%bigquery df_current\n",
    "SELECT * FROM `dhh-ncr-stg.patrick_doupe.current_cohort_vendor_base`"
   ]
  },
  {
   "cell_type": "code",
   "execution_count": 4,
   "id": "f3dce550",
   "metadata": {},
   "outputs": [
    {
     "data": {
      "application/vnd.microsoft.datawrangler.viewer.v0+json": {
       "columns": [
        {
         "name": "created_month",
         "rawType": "dbdate",
         "type": "unknown"
        },
        {
         "name": "total_orders_gmv",
         "rawType": "float64",
         "type": "float"
        }
       ],
       "ref": "5f24f756-72cd-4f98-a36c-83137234a372",
       "rows": [
        [
         "2024-07-01",
         "1.0"
        ],
        [
         "2024-08-01",
         "1.0"
        ],
        [
         "2024-09-01",
         "1.0"
        ],
        [
         "2024-10-01",
         "1.0"
        ],
        [
         "2024-11-01",
         "1.0"
        ],
        [
         "2024-12-01",
         "0.5663826353169578"
        ],
        [
         "2025-01-01",
         "0.3958555692047446"
        ],
        [
         "2025-02-01",
         "0.37410765575791166"
        ],
        [
         "2025-03-01",
         "0.36546586806885584"
        ],
        [
         "2025-04-01",
         "0.340335101846096"
        ],
        [
         "2025-05-01",
         "0.31654761594787806"
        ],
        [
         "2025-06-01",
         "0.30483958419570556"
        ],
        [
         "2025-07-01",
         "0.4662229569050519"
        ]
       ],
       "shape": {
        "columns": 1,
        "rows": 13
       }
      },
      "text/plain": [
       "created_month\n",
       "2024-07-01    1.000000\n",
       "2024-08-01    1.000000\n",
       "2024-09-01    1.000000\n",
       "2024-10-01    1.000000\n",
       "2024-11-01    1.000000\n",
       "2024-12-01    0.566383\n",
       "2025-01-01    0.395856\n",
       "2025-02-01    0.374108\n",
       "2025-03-01    0.365466\n",
       "2025-04-01    0.340335\n",
       "2025-05-01    0.316548\n",
       "2025-06-01    0.304840\n",
       "2025-07-01    0.466223\n",
       "Name: total_orders_gmv, dtype: float64"
      ]
     },
     "execution_count": 4,
     "metadata": {},
     "output_type": "execute_result"
    }
   ],
   "source": [
    "df.groupby('created_month')['total_orders_gmv'].agg(lambda x: x.isna().mean())"
   ]
  },
  {
   "cell_type": "markdown",
   "id": "5020b0d7",
   "metadata": {},
   "source": [
    "Let's drop everything prior to December 2024. They're all NaNs anyway"
   ]
  },
  {
   "cell_type": "code",
   "execution_count": 5,
   "id": "9a346c0c",
   "metadata": {},
   "outputs": [],
   "source": [
    "df_all = df.loc[df.created_month >= pd.to_datetime(\"2024-12-01\")]\n",
    "df = df_all.loc[df_all.created_month <= pd.to_datetime(\"2025-01-01\")].copy()"
   ]
  },
  {
   "cell_type": "code",
   "execution_count": 6,
   "id": "8a22ad6f",
   "metadata": {},
   "outputs": [
    {
     "name": "stdout",
     "output_type": "stream",
     "text": [
      "<class 'pandas.core.frame.DataFrame'>\n",
      "Index: 695800 entries, 2 to 4514484\n",
      "Data columns (total 20 columns):\n",
      " #   Column                    Non-Null Count   Dtype  \n",
      "---  ------                    --------------   -----  \n",
      " 0   region                    695800 non-null  object \n",
      " 1   entity_id                 695800 non-null  object \n",
      " 2   vendor_code               695800 non-null  object \n",
      " 3   created_month             695800 non-null  dbdate \n",
      " 4   chain_id                  385823 non-null  object \n",
      " 5   chain_name                385821 non-null  object \n",
      " 6   entity                    695800 non-null  object \n",
      " 7   city                      695800 non-null  object \n",
      " 8   area                      695800 non-null  object \n",
      " 9   vendor_grade              695800 non-null  object \n",
      " 10  is_new_vendor             695800 non-null  boolean\n",
      " 11  cuisine                   695800 non-null  object \n",
      " 12  key_account_sub_category  695800 non-null  object \n",
      " 13  successful_orders         360986 non-null  Int64  \n",
      " 14  total_orders              360986 non-null  Int64  \n",
      " 15  new_customer_orders       360986 non-null  Int64  \n",
      " 16  retained_customers        360986 non-null  Int64  \n",
      " 17  successful_customers      360986 non-null  Int64  \n",
      " 18  total_orders_gmv          360986 non-null  object \n",
      " 19  successful_orders_gmv     360986 non-null  object \n",
      "dtypes: Int64(5), boolean(1), dbdate(1), object(13)\n",
      "memory usage: 110.8+ MB\n"
     ]
    }
   ],
   "source": [
    "df.info()"
   ]
  },
  {
   "cell_type": "code",
   "execution_count": 7,
   "id": "18a9eb6b",
   "metadata": {},
   "outputs": [],
   "source": [
    "# bloody decimal\n",
    "df['total_orders_gmv'] = df['total_orders_gmv'].astype(\"float\")\n",
    "df['successful_orders_gmv'] = df['successful_orders_gmv'].astype(\"float\")"
   ]
  },
  {
   "cell_type": "markdown",
   "id": "baa00b1a",
   "metadata": {},
   "source": [
    "## Summary statistics"
   ]
  },
  {
   "cell_type": "code",
   "execution_count": 8,
   "id": "e65b5f85",
   "metadata": {},
   "outputs": [
    {
     "data": {
      "application/vnd.microsoft.datawrangler.viewer.v0+json": {
       "columns": [
        {
         "name": "index",
         "rawType": "object",
         "type": "string"
        },
        {
         "name": "successful_orders",
         "rawType": "Float64",
         "type": "float"
        },
        {
         "name": "total_orders",
         "rawType": "Float64",
         "type": "float"
        },
        {
         "name": "new_customer_orders",
         "rawType": "Float64",
         "type": "float"
        },
        {
         "name": "retained_customers",
         "rawType": "Float64",
         "type": "float"
        },
        {
         "name": "successful_customers",
         "rawType": "Float64",
         "type": "float"
        },
        {
         "name": "total_orders_gmv",
         "rawType": "float64",
         "type": "float"
        },
        {
         "name": "successful_orders_gmv",
         "rawType": "float64",
         "type": "float"
        }
       ],
       "ref": "01bb94ca-b13e-4674-9481-ea4ed95e61df",
       "rows": [
        [
         "count",
         "360986.0",
         "360986.0",
         "360986.0",
         "360986.0",
         "360986.0",
         "360986.0",
         "360986.0"
        ],
        [
         "mean",
         "182.05459214484773",
         "229.70698586648788",
         "64.54714864288366",
         "77.84899137362667",
         "135.63532657776202",
         "3286.702115231615",
         "2680.5418918517616"
        ],
        [
         "std",
         "597.4408456829374",
         "665.7597363384339",
         "186.28165642487681",
         "269.16590072304535",
         "411.5292836402253",
         "10121.64915889066",
         "9249.670584283042"
        ],
        [
         "min",
         "0.0",
         "1.0",
         "0.0",
         "0.0",
         "0.0",
         "0.0",
         "0.0"
        ],
        [
         "25%",
         "2.0",
         "6.0",
         "1.0",
         "0.0",
         "2.0",
         "84.1",
         "21.62"
        ],
        [
         "50%",
         "15.0",
         "32.0",
         "7.0",
         "6.0",
         "14.0",
         "434.765",
         "212.135"
        ],
        [
         "75%",
         "109.0",
         "169.0",
         "49.0",
         "41.0",
         "90.0",
         "2270.99",
         "1528.53"
        ],
        [
         "max",
         "34990.0",
         "35441.0",
         "18070.0",
         "15740.0",
         "20789.0",
         "630683.28",
         "623058.73"
        ]
       ],
       "shape": {
        "columns": 7,
        "rows": 8
       }
      },
      "text/html": [
       "<div>\n",
       "<style scoped>\n",
       "    .dataframe tbody tr th:only-of-type {\n",
       "        vertical-align: middle;\n",
       "    }\n",
       "\n",
       "    .dataframe tbody tr th {\n",
       "        vertical-align: top;\n",
       "    }\n",
       "\n",
       "    .dataframe thead th {\n",
       "        text-align: right;\n",
       "    }\n",
       "</style>\n",
       "<table border=\"1\" class=\"dataframe\">\n",
       "  <thead>\n",
       "    <tr style=\"text-align: right;\">\n",
       "      <th></th>\n",
       "      <th>successful_orders</th>\n",
       "      <th>total_orders</th>\n",
       "      <th>new_customer_orders</th>\n",
       "      <th>retained_customers</th>\n",
       "      <th>successful_customers</th>\n",
       "      <th>total_orders_gmv</th>\n",
       "      <th>successful_orders_gmv</th>\n",
       "    </tr>\n",
       "  </thead>\n",
       "  <tbody>\n",
       "    <tr>\n",
       "      <th>count</th>\n",
       "      <td>360986.0</td>\n",
       "      <td>360986.0</td>\n",
       "      <td>360986.0</td>\n",
       "      <td>360986.0</td>\n",
       "      <td>360986.0</td>\n",
       "      <td>360986.000000</td>\n",
       "      <td>360986.000000</td>\n",
       "    </tr>\n",
       "    <tr>\n",
       "      <th>mean</th>\n",
       "      <td>182.054592</td>\n",
       "      <td>229.706986</td>\n",
       "      <td>64.547149</td>\n",
       "      <td>77.848991</td>\n",
       "      <td>135.635327</td>\n",
       "      <td>3286.702115</td>\n",
       "      <td>2680.541892</td>\n",
       "    </tr>\n",
       "    <tr>\n",
       "      <th>std</th>\n",
       "      <td>597.440846</td>\n",
       "      <td>665.759736</td>\n",
       "      <td>186.281656</td>\n",
       "      <td>269.165901</td>\n",
       "      <td>411.529284</td>\n",
       "      <td>10121.649159</td>\n",
       "      <td>9249.670584</td>\n",
       "    </tr>\n",
       "    <tr>\n",
       "      <th>min</th>\n",
       "      <td>0.0</td>\n",
       "      <td>1.0</td>\n",
       "      <td>0.0</td>\n",
       "      <td>0.0</td>\n",
       "      <td>0.0</td>\n",
       "      <td>0.000000</td>\n",
       "      <td>0.000000</td>\n",
       "    </tr>\n",
       "    <tr>\n",
       "      <th>25%</th>\n",
       "      <td>2.0</td>\n",
       "      <td>6.0</td>\n",
       "      <td>1.0</td>\n",
       "      <td>0.0</td>\n",
       "      <td>2.0</td>\n",
       "      <td>84.100000</td>\n",
       "      <td>21.620000</td>\n",
       "    </tr>\n",
       "    <tr>\n",
       "      <th>50%</th>\n",
       "      <td>15.0</td>\n",
       "      <td>32.0</td>\n",
       "      <td>7.0</td>\n",
       "      <td>6.0</td>\n",
       "      <td>14.0</td>\n",
       "      <td>434.765000</td>\n",
       "      <td>212.135000</td>\n",
       "    </tr>\n",
       "    <tr>\n",
       "      <th>75%</th>\n",
       "      <td>109.0</td>\n",
       "      <td>169.0</td>\n",
       "      <td>49.0</td>\n",
       "      <td>41.0</td>\n",
       "      <td>90.0</td>\n",
       "      <td>2270.990000</td>\n",
       "      <td>1528.530000</td>\n",
       "    </tr>\n",
       "    <tr>\n",
       "      <th>max</th>\n",
       "      <td>34990.0</td>\n",
       "      <td>35441.0</td>\n",
       "      <td>18070.0</td>\n",
       "      <td>15740.0</td>\n",
       "      <td>20789.0</td>\n",
       "      <td>630683.280000</td>\n",
       "      <td>623058.730000</td>\n",
       "    </tr>\n",
       "  </tbody>\n",
       "</table>\n",
       "</div>"
      ],
      "text/plain": [
       "       successful_orders  total_orders  new_customer_orders  \\\n",
       "count           360986.0      360986.0             360986.0   \n",
       "mean          182.054592    229.706986            64.547149   \n",
       "std           597.440846    665.759736           186.281656   \n",
       "min                  0.0           1.0                  0.0   \n",
       "25%                  2.0           6.0                  1.0   \n",
       "50%                 15.0          32.0                  7.0   \n",
       "75%                109.0         169.0                 49.0   \n",
       "max              34990.0       35441.0              18070.0   \n",
       "\n",
       "       retained_customers  successful_customers  total_orders_gmv  \\\n",
       "count            360986.0              360986.0     360986.000000   \n",
       "mean            77.848991            135.635327       3286.702115   \n",
       "std            269.165901            411.529284      10121.649159   \n",
       "min                   0.0                   0.0          0.000000   \n",
       "25%                   0.0                   2.0         84.100000   \n",
       "50%                   6.0                  14.0        434.765000   \n",
       "75%                  41.0                  90.0       2270.990000   \n",
       "max               15740.0               20789.0     630683.280000   \n",
       "\n",
       "       successful_orders_gmv  \n",
       "count          360986.000000  \n",
       "mean             2680.541892  \n",
       "std              9249.670584  \n",
       "min                 0.000000  \n",
       "25%                21.620000  \n",
       "50%               212.135000  \n",
       "75%              1528.530000  \n",
       "max            623058.730000  "
      ]
     },
     "execution_count": 8,
     "metadata": {},
     "output_type": "execute_result"
    }
   ],
   "source": [
    "df.describe()"
   ]
  },
  {
   "cell_type": "code",
   "execution_count": 9,
   "id": "a02989f3",
   "metadata": {},
   "outputs": [
    {
     "data": {
      "application/vnd.microsoft.datawrangler.viewer.v0+json": {
       "columns": [
        {
         "name": "index",
         "rawType": "object",
         "type": "string"
        },
        {
         "name": "0",
         "rawType": "Float64",
         "type": "float"
        }
       ],
       "ref": "db1c24ee-702a-4703-9213-309140a03312",
       "rows": [
        [
         "successful_orders",
         "12.136972809656516"
        ],
        [
         "total_orders",
         "7.178343308327746"
        ],
        [
         "new_customer_orders",
         "9.221021234697664"
        ],
        [
         "retained_customers",
         "12.974831895604446"
        ],
        [
         "successful_customers",
         "9.688237612697288"
        ],
        [
         "total_orders_gmv",
         "7.559721033734581"
        ],
        [
         "successful_orders_gmv",
         "12.636019006065768"
        ]
       ],
       "shape": {
        "columns": 1,
        "rows": 7
       }
      },
      "text/plain": [
       "successful_orders        12.136973\n",
       "total_orders              7.178343\n",
       "new_customer_orders       9.221021\n",
       "retained_customers       12.974832\n",
       "successful_customers      9.688238\n",
       "total_orders_gmv          7.559721\n",
       "successful_orders_gmv    12.636019\n",
       "dtype: Float64"
      ]
     },
     "execution_count": 9,
     "metadata": {},
     "output_type": "execute_result"
    }
   ],
   "source": [
    "df[df.describe().columns].mean() / df[df.describe().columns].median()"
   ]
  },
  {
   "cell_type": "markdown",
   "id": "87af0a35",
   "metadata": {},
   "source": [
    "- We can see that the distributions are heavily right skewed.\n",
    "- The mean is 7-13x the median\n",
    "- Outliers are default!"
   ]
  },
  {
   "cell_type": "code",
   "execution_count": 10,
   "id": "634523c8",
   "metadata": {},
   "outputs": [
    {
     "data": {
      "application/vnd.microsoft.datawrangler.viewer.v0+json": {
       "columns": [
        {
         "name": "vendor_grade",
         "rawType": "object",
         "type": "string"
        },
        {
         "name": "count",
         "rawType": "int64",
         "type": "integer"
        }
       ],
       "ref": "0cda6d12-bd72-4ce5-b27a-9fb02c305671",
       "rows": [
        [
         "NA",
         "316886"
        ],
        [
         "D",
         "206370"
        ],
        [
         "C",
         "93207"
        ],
        [
         "B",
         "41877"
        ],
        [
         "A",
         "26603"
        ],
        [
         "AA",
         "8146"
        ],
        [
         "AAA",
         "2711"
        ]
       ],
       "shape": {
        "columns": 1,
        "rows": 7
       }
      },
      "text/plain": [
       "vendor_grade\n",
       "NA     316886\n",
       "D      206370\n",
       "C       93207\n",
       "B       41877\n",
       "A       26603\n",
       "AA       8146\n",
       "AAA      2711\n",
       "Name: count, dtype: int64"
      ]
     },
     "execution_count": 10,
     "metadata": {},
     "output_type": "execute_result"
    }
   ],
   "source": [
    "df.vendor_grade.value_counts()"
   ]
  },
  {
   "cell_type": "markdown",
   "id": "27041e25",
   "metadata": {},
   "source": [
    "A lot of unknown vendor grades"
   ]
  },
  {
   "cell_type": "code",
   "execution_count": 11,
   "id": "4d90d1c0",
   "metadata": {},
   "outputs": [
    {
     "data": {
      "application/vnd.microsoft.datawrangler.viewer.v0+json": {
       "columns": [
        {
         "name": "cuisine",
         "rawType": "object",
         "type": "string"
        },
        {
         "name": "count",
         "rawType": "int64",
         "type": "integer"
        }
       ],
       "ref": "eda12d67-1c4b-4393-aed8-0d7f03f2f29a",
       "rows": [
        [
         "UNK",
         "101585"
        ],
        [
         "Desserts",
         "29055"
        ],
        [
         "Arabic",
         "25591"
        ],
        [
         "Pizza",
         "23734"
        ],
        [
         "Kebap & Türk Mutfağı",
         "23134"
        ],
        [
         "Döner",
         "21217"
        ],
        [
         "Çiğ Köfte",
         "19521"
        ],
        [
         "Fast Food",
         "17833"
        ],
        [
         "Burgers",
         "15652"
        ],
        [
         "Tatlı",
         "15632"
        ],
        [
         "Coffee",
         "15334"
        ],
        [
         "Tost & Sandviç",
         "14022"
        ],
        [
         "Pizzas",
         "13891"
        ],
        [
         "Burger",
         "11130"
        ],
        [
         "Postres",
         "9672"
        ],
        [
         "Pide & Lahmacun",
         "9583"
        ],
        [
         "Dünya Mutfağı",
         "9167"
        ],
        [
         "Indian",
         "8689"
        ],
        [
         "Kahve",
         "8470"
        ],
        [
         "Kahvaltı & Börek",
         "8315"
        ],
        [
         "Helados",
         "8204"
        ],
        [
         "Tavuk",
         "8190"
        ],
        [
         "Ev Yemekleri",
         "7753"
        ],
        [
         "American",
         "7353"
        ],
        [
         "Asian",
         "7326"
        ],
        [
         "Chinese",
         "7267"
        ],
        [
         "Pilav",
         "6904"
        ],
        [
         "Breakfast",
         "6860"
        ],
        [
         "Hamburguesas",
         "6757"
        ],
        [
         "Healthy",
         "6353"
        ],
        [
         "Grills",
         "6273"
        ],
        [
         "Shawarma",
         "6096"
        ],
        [
         "Sandwich",
         "5491"
        ],
        [
         "Beverages",
         "5061"
        ],
        [
         "Sandwiches",
         "4814"
        ],
        [
         "Sándwiches",
         "4764"
        ],
        [
         "Juices",
         "4711"
        ],
        [
         "Pastane & Fırın",
         "4628"
        ],
        [
         "Beverages ",
         "4585"
        ],
        [
         "Bakery",
         "4467"
        ],
        [
         "Sushi",
         "4438"
        ],
        [
         "Empanadas",
         "4384"
        ],
        [
         "Köfte",
         "4227"
        ],
        [
         "Italian",
         "4211"
        ],
        [
         "Cafe",
         "4122"
        ],
        [
         "Seafood",
         "3855"
        ],
        [
         "International",
         "3706"
        ],
        [
         "Pastries",
         "3384"
        ],
        [
         "Japanese",
         "3160"
        ],
        [
         "Fried Chicken",
         "3072"
        ]
       ],
       "shape": {
        "columns": 1,
        "rows": 418
       }
      },
      "text/plain": [
       "cuisine\n",
       "UNK                     101585\n",
       "Desserts                 29055\n",
       "Arabic                   25591\n",
       "Pizza                    23734\n",
       "Kebap & Türk Mutfağı     23134\n",
       "                         ...  \n",
       "Food & Drink                 2\n",
       "Pho                          2\n",
       "Bagely                       2\n",
       "Tatarák                      2\n",
       "Specialty Store              1\n",
       "Name: count, Length: 418, dtype: int64"
      ]
     },
     "execution_count": 11,
     "metadata": {},
     "output_type": "execute_result"
    }
   ],
   "source": [
    "df.cuisine.value_counts()"
   ]
  },
  {
   "cell_type": "markdown",
   "id": "02660241",
   "metadata": {},
   "source": [
    "A lot of unkonwn cuisines"
   ]
  },
  {
   "cell_type": "code",
   "execution_count": 12,
   "id": "fc406e1d",
   "metadata": {},
   "outputs": [],
   "source": [
    "df['average_price'] = df['successful_orders_gmv'] / df['successful_orders'] "
   ]
  },
  {
   "cell_type": "code",
   "execution_count": 13,
   "id": "1ab18bbf",
   "metadata": {},
   "outputs": [
    {
     "data": {
      "application/vnd.microsoft.datawrangler.viewer.v0+json": {
       "columns": [
        {
         "name": "index",
         "rawType": "int64",
         "type": "integer"
        },
        {
         "name": "region",
         "rawType": "object",
         "type": "string"
        },
        {
         "name": "entity_id",
         "rawType": "object",
         "type": "string"
        },
        {
         "name": "vendor_code",
         "rawType": "object",
         "type": "string"
        },
        {
         "name": "created_month",
         "rawType": "dbdate",
         "type": "unknown"
        },
        {
         "name": "chain_id",
         "rawType": "object",
         "type": "string"
        },
        {
         "name": "chain_name",
         "rawType": "object",
         "type": "string"
        },
        {
         "name": "entity",
         "rawType": "object",
         "type": "string"
        },
        {
         "name": "city",
         "rawType": "object",
         "type": "string"
        },
        {
         "name": "area",
         "rawType": "object",
         "type": "string"
        },
        {
         "name": "vendor_grade",
         "rawType": "object",
         "type": "string"
        },
        {
         "name": "is_new_vendor",
         "rawType": "boolean",
         "type": "boolean"
        },
        {
         "name": "cuisine",
         "rawType": "object",
         "type": "string"
        },
        {
         "name": "key_account_sub_category",
         "rawType": "object",
         "type": "string"
        },
        {
         "name": "successful_orders",
         "rawType": "Int64",
         "type": "integer"
        },
        {
         "name": "total_orders",
         "rawType": "Int64",
         "type": "integer"
        },
        {
         "name": "new_customer_orders",
         "rawType": "Int64",
         "type": "integer"
        },
        {
         "name": "retained_customers",
         "rawType": "Int64",
         "type": "integer"
        },
        {
         "name": "successful_customers",
         "rawType": "Int64",
         "type": "integer"
        },
        {
         "name": "total_orders_gmv",
         "rawType": "float64",
         "type": "float"
        },
        {
         "name": "successful_orders_gmv",
         "rawType": "float64",
         "type": "float"
        },
        {
         "name": "average_price",
         "rawType": "Float64",
         "type": "float"
        }
       ],
       "ref": "376c583d-98ca-4d40-b959-de1a425121ad",
       "rows": [
        [
         "2",
         "MENA",
         "HS_SA",
         "21052",
         "2025-01-01",
         "1",
         "McDonald's KSA",
         "hs_sa",
         "Riyadh",
         "Uraija Al Gharbiyah",
         "AA",
         "False",
         "Fast Food",
         "Global KA",
         "2148",
         "2197",
         "506",
         "1145",
         "1623",
         "39992.01",
         "39076.42",
         "18.192001862197394"
        ],
        [
         "13",
         "MENA",
         "HS_SA",
         "21135",
         "2025-01-01",
         "9964",
         "Al Qalaa Al Raqiah",
         "hs_sa",
         "Jeddah",
         "Al Amir Fawaz Al Janouby",
         "C",
         "False",
         "Saudi",
         "UNK",
         "331",
         "333",
         "132",
         "146",
         "268",
         "6018.09",
         "5982.96",
         "18.075407854984896"
        ],
        [
         "16",
         "MENA",
         "HS_SA",
         "21170",
         "2025-01-01",
         "9976",
         "Signature",
         "hs_sa",
         "Hail ",
         "al shabili el qarbi",
         "D",
         "False",
         "Juices",
         "National KA",
         "223",
         "225",
         "104",
         "93",
         "187",
         "3128.45",
         "3105.24",
         "13.924843049327354"
        ],
        [
         "17",
         "MENA",
         "HS_SA",
         "21172",
         "2025-01-01",
         "9976",
         "Signature",
         "hs_sa",
         "Riyadh",
         "Al Maather",
         "C",
         "False",
         "Juices",
         "National KA",
         "466",
         "472",
         "187",
         "178",
         "341",
         "7485.45",
         "7385.1",
         "15.847854077253219"
        ],
        [
         "23",
         "MENA",
         "HS_SA",
         "21187",
         "2025-01-01",
         "9976",
         "Signature",
         "hs_sa",
         "Dammam",
         "Ar Rakah Ash Shamaliyah",
         "B",
         "False",
         "Juices",
         "National KA",
         "776",
         "779",
         "232",
         "361",
         "568",
         "12945.84",
         "12889.24",
         "16.609845360824742"
        ]
       ],
       "shape": {
        "columns": 21,
        "rows": 5
       }
      },
      "text/html": [
       "<div>\n",
       "<style scoped>\n",
       "    .dataframe tbody tr th:only-of-type {\n",
       "        vertical-align: middle;\n",
       "    }\n",
       "\n",
       "    .dataframe tbody tr th {\n",
       "        vertical-align: top;\n",
       "    }\n",
       "\n",
       "    .dataframe thead th {\n",
       "        text-align: right;\n",
       "    }\n",
       "</style>\n",
       "<table border=\"1\" class=\"dataframe\">\n",
       "  <thead>\n",
       "    <tr style=\"text-align: right;\">\n",
       "      <th></th>\n",
       "      <th>region</th>\n",
       "      <th>entity_id</th>\n",
       "      <th>vendor_code</th>\n",
       "      <th>created_month</th>\n",
       "      <th>chain_id</th>\n",
       "      <th>chain_name</th>\n",
       "      <th>entity</th>\n",
       "      <th>city</th>\n",
       "      <th>area</th>\n",
       "      <th>vendor_grade</th>\n",
       "      <th>...</th>\n",
       "      <th>cuisine</th>\n",
       "      <th>key_account_sub_category</th>\n",
       "      <th>successful_orders</th>\n",
       "      <th>total_orders</th>\n",
       "      <th>new_customer_orders</th>\n",
       "      <th>retained_customers</th>\n",
       "      <th>successful_customers</th>\n",
       "      <th>total_orders_gmv</th>\n",
       "      <th>successful_orders_gmv</th>\n",
       "      <th>average_price</th>\n",
       "    </tr>\n",
       "  </thead>\n",
       "  <tbody>\n",
       "    <tr>\n",
       "      <th>2</th>\n",
       "      <td>MENA</td>\n",
       "      <td>HS_SA</td>\n",
       "      <td>21052</td>\n",
       "      <td>2025-01-01</td>\n",
       "      <td>1</td>\n",
       "      <td>McDonald's KSA</td>\n",
       "      <td>hs_sa</td>\n",
       "      <td>Riyadh</td>\n",
       "      <td>Uraija Al Gharbiyah</td>\n",
       "      <td>AA</td>\n",
       "      <td>...</td>\n",
       "      <td>Fast Food</td>\n",
       "      <td>Global KA</td>\n",
       "      <td>2148</td>\n",
       "      <td>2197</td>\n",
       "      <td>506</td>\n",
       "      <td>1145</td>\n",
       "      <td>1623</td>\n",
       "      <td>39992.01</td>\n",
       "      <td>39076.42</td>\n",
       "      <td>18.192002</td>\n",
       "    </tr>\n",
       "    <tr>\n",
       "      <th>13</th>\n",
       "      <td>MENA</td>\n",
       "      <td>HS_SA</td>\n",
       "      <td>21135</td>\n",
       "      <td>2025-01-01</td>\n",
       "      <td>9964</td>\n",
       "      <td>Al Qalaa Al Raqiah</td>\n",
       "      <td>hs_sa</td>\n",
       "      <td>Jeddah</td>\n",
       "      <td>Al Amir Fawaz Al Janouby</td>\n",
       "      <td>C</td>\n",
       "      <td>...</td>\n",
       "      <td>Saudi</td>\n",
       "      <td>UNK</td>\n",
       "      <td>331</td>\n",
       "      <td>333</td>\n",
       "      <td>132</td>\n",
       "      <td>146</td>\n",
       "      <td>268</td>\n",
       "      <td>6018.09</td>\n",
       "      <td>5982.96</td>\n",
       "      <td>18.075408</td>\n",
       "    </tr>\n",
       "    <tr>\n",
       "      <th>16</th>\n",
       "      <td>MENA</td>\n",
       "      <td>HS_SA</td>\n",
       "      <td>21170</td>\n",
       "      <td>2025-01-01</td>\n",
       "      <td>9976</td>\n",
       "      <td>Signature</td>\n",
       "      <td>hs_sa</td>\n",
       "      <td>Hail</td>\n",
       "      <td>al shabili el qarbi</td>\n",
       "      <td>D</td>\n",
       "      <td>...</td>\n",
       "      <td>Juices</td>\n",
       "      <td>National KA</td>\n",
       "      <td>223</td>\n",
       "      <td>225</td>\n",
       "      <td>104</td>\n",
       "      <td>93</td>\n",
       "      <td>187</td>\n",
       "      <td>3128.45</td>\n",
       "      <td>3105.24</td>\n",
       "      <td>13.924843</td>\n",
       "    </tr>\n",
       "    <tr>\n",
       "      <th>17</th>\n",
       "      <td>MENA</td>\n",
       "      <td>HS_SA</td>\n",
       "      <td>21172</td>\n",
       "      <td>2025-01-01</td>\n",
       "      <td>9976</td>\n",
       "      <td>Signature</td>\n",
       "      <td>hs_sa</td>\n",
       "      <td>Riyadh</td>\n",
       "      <td>Al Maather</td>\n",
       "      <td>C</td>\n",
       "      <td>...</td>\n",
       "      <td>Juices</td>\n",
       "      <td>National KA</td>\n",
       "      <td>466</td>\n",
       "      <td>472</td>\n",
       "      <td>187</td>\n",
       "      <td>178</td>\n",
       "      <td>341</td>\n",
       "      <td>7485.45</td>\n",
       "      <td>7385.10</td>\n",
       "      <td>15.847854</td>\n",
       "    </tr>\n",
       "    <tr>\n",
       "      <th>23</th>\n",
       "      <td>MENA</td>\n",
       "      <td>HS_SA</td>\n",
       "      <td>21187</td>\n",
       "      <td>2025-01-01</td>\n",
       "      <td>9976</td>\n",
       "      <td>Signature</td>\n",
       "      <td>hs_sa</td>\n",
       "      <td>Dammam</td>\n",
       "      <td>Ar Rakah Ash Shamaliyah</td>\n",
       "      <td>B</td>\n",
       "      <td>...</td>\n",
       "      <td>Juices</td>\n",
       "      <td>National KA</td>\n",
       "      <td>776</td>\n",
       "      <td>779</td>\n",
       "      <td>232</td>\n",
       "      <td>361</td>\n",
       "      <td>568</td>\n",
       "      <td>12945.84</td>\n",
       "      <td>12889.24</td>\n",
       "      <td>16.609845</td>\n",
       "    </tr>\n",
       "  </tbody>\n",
       "</table>\n",
       "<p>5 rows × 21 columns</p>\n",
       "</div>"
      ],
      "text/plain": [
       "   region entity_id vendor_code created_month chain_id          chain_name  \\\n",
       "2    MENA     HS_SA       21052    2025-01-01        1      McDonald's KSA   \n",
       "13   MENA     HS_SA       21135    2025-01-01     9964  Al Qalaa Al Raqiah   \n",
       "16   MENA     HS_SA       21170    2025-01-01     9976           Signature   \n",
       "17   MENA     HS_SA       21172    2025-01-01     9976           Signature   \n",
       "23   MENA     HS_SA       21187    2025-01-01     9976           Signature   \n",
       "\n",
       "   entity    city                      area vendor_grade  ...    cuisine  \\\n",
       "2   hs_sa  Riyadh       Uraija Al Gharbiyah           AA  ...  Fast Food   \n",
       "13  hs_sa  Jeddah  Al Amir Fawaz Al Janouby            C  ...      Saudi   \n",
       "16  hs_sa   Hail        al shabili el qarbi            D  ...     Juices   \n",
       "17  hs_sa  Riyadh                Al Maather            C  ...     Juices   \n",
       "23  hs_sa  Dammam   Ar Rakah Ash Shamaliyah            B  ...     Juices   \n",
       "\n",
       "   key_account_sub_category successful_orders  total_orders  \\\n",
       "2                 Global KA              2148          2197   \n",
       "13                      UNK               331           333   \n",
       "16              National KA               223           225   \n",
       "17              National KA               466           472   \n",
       "23              National KA               776           779   \n",
       "\n",
       "    new_customer_orders  retained_customers  successful_customers  \\\n",
       "2                   506                1145                  1623   \n",
       "13                  132                 146                   268   \n",
       "16                  104                  93                   187   \n",
       "17                  187                 178                   341   \n",
       "23                  232                 361                   568   \n",
       "\n",
       "    total_orders_gmv  successful_orders_gmv  average_price  \n",
       "2           39992.01               39076.42      18.192002  \n",
       "13           6018.09                5982.96      18.075408  \n",
       "16           3128.45                3105.24      13.924843  \n",
       "17           7485.45                7385.10      15.847854  \n",
       "23          12945.84               12889.24      16.609845  \n",
       "\n",
       "[5 rows x 21 columns]"
      ]
     },
     "execution_count": 13,
     "metadata": {},
     "output_type": "execute_result"
    }
   ],
   "source": [
    "df.head()"
   ]
  },
  {
   "cell_type": "code",
   "execution_count": 19,
   "id": "8749ab3e",
   "metadata": {},
   "outputs": [],
   "source": [
    "df['noise'] = np.random.randn(df.shape[0])"
   ]
  },
  {
   "cell_type": "code",
   "execution_count": 20,
   "id": "d34fa245",
   "metadata": {},
   "outputs": [],
   "source": [
    "cols_to_check = [\n",
    "    'region',\n",
    "    'entity',\n",
    "    'city',\n",
    "    'area',\n",
    "    'vendor_grade',\n",
    "    'key_account_sub_category',\n",
    "    'cuisine'\n",
    "]\n",
    "\n",
    "continuous_cols = [\n",
    "    'average_price',\n",
    "    'retained_customers',\n",
    "    'new_customer_orders'\n",
    "]"
   ]
  },
  {
   "cell_type": "code",
   "execution_count": 21,
   "id": "33e73df0",
   "metadata": {},
   "outputs": [],
   "source": [
    "df.fillna({'successful_orders_gmv': 0}, inplace=True)\n",
    "\n",
    "for col in continuous_cols:\n",
    "    df.fillna({col: 0}, inplace=True)"
   ]
  },
  {
   "cell_type": "code",
   "execution_count": 22,
   "id": "70802f42",
   "metadata": {},
   "outputs": [
    {
     "name": "stderr",
     "output_type": "stream",
     "text": [
      "/var/folders/c_/xt8d51196jl46y09mq3j_3_w0000gq/T/ipykernel_58753/51835288.py:5: FutureWarning: Setting an item of incompatible dtype is deprecated and will raise in a future error of pandas. Value '[(12.537, 648.52], (12.537, 648.52], (12.537, 648.52], (12.537, 648.52], (12.537, 648.52], ..., (12.537, 648.52], (12.537, 648.52], (12.537, 648.52], (12.537, 648.52], (12.537, 648.52]]\n",
      "Length: 695800\n",
      "Categories (2, interval[float64, right]): [(-0.001, 12.537] < (12.537, 648.52]]' has dtype incompatible with category, please explicitly cast to a compatible dtype first.\n",
      "  df.loc[:, f'{col}_QQ'] = pd.qcut(df[col], q=4, duplicates='drop')\n"
     ]
    }
   ],
   "source": [
    "df[cols_to_check] = df[cols_to_check].astype(\"category\")\n",
    "df[continuous_cols] = df[continuous_cols].astype(\"float\")\n",
    "\n",
    "for col in continuous_cols:\n",
    "    df.loc[:, f'{col}_QQ'] = pd.qcut(df[col], q=4, duplicates='drop')\n",
    "\n",
    "unique_cats = {}\n",
    "for col in [col_ + '_QQ' for col_ in continuous_cols]:\n",
    "    tmp = col + '_id'\n",
    "    df[tmp], cats = pd.factorize(df[col])\n",
    "    df[tmp].astype('category')\n",
    "    cols_to_check.append(tmp)\n",
    "    unique_cats[tmp] = cats\n"
   ]
  },
  {
   "cell_type": "code",
   "execution_count": 23,
   "id": "6782400d",
   "metadata": {},
   "outputs": [],
   "source": [
    "def get_regression_output(df, y_column, group_column, poisson=False):\n",
    "    if poisson:\n",
    "        fit = pf.fepois(f\"{y_column} ~ noise | {group_column}\", data = df)\n",
    "    else:\n",
    "        fit = pf.feols(f\"{y_column} ~ noise | {group_column}\", data = df)\n",
    "    \n",
    "    return {'adj_r2' : fit._adj_r2, 'residuals' : fit.resid()}"
   ]
  },
  {
   "cell_type": "code",
   "execution_count": 24,
   "id": "8ebb2dab",
   "metadata": {},
   "outputs": [
    {
     "name": "stderr",
     "output_type": "stream",
     "text": [
      "/Users/patrick.doupe/DH/ad_hoc/cohorts/.venv/lib/python3.13/site-packages/pyfixest/estimation/feols_.py:2604: RuntimeWarning: divide by zero encountered in matmul\n",
      "  tXX = X.T @ X\n",
      "/Users/patrick.doupe/DH/ad_hoc/cohorts/.venv/lib/python3.13/site-packages/pyfixest/estimation/feols_.py:2604: RuntimeWarning: overflow encountered in matmul\n",
      "  tXX = X.T @ X\n",
      "/Users/patrick.doupe/DH/ad_hoc/cohorts/.venv/lib/python3.13/site-packages/pyfixest/estimation/feols_.py:2604: RuntimeWarning: invalid value encountered in matmul\n",
      "  tXX = X.T @ X\n",
      "/Users/patrick.doupe/DH/ad_hoc/cohorts/.venv/lib/python3.13/site-packages/pyfixest/estimation/feols_.py:501: RuntimeWarning: divide by zero encountered in matmul\n",
      "  self._tZX = _Z.T @ _X\n",
      "/Users/patrick.doupe/DH/ad_hoc/cohorts/.venv/lib/python3.13/site-packages/pyfixest/estimation/feols_.py:501: RuntimeWarning: overflow encountered in matmul\n",
      "  self._tZX = _Z.T @ _X\n",
      "/Users/patrick.doupe/DH/ad_hoc/cohorts/.venv/lib/python3.13/site-packages/pyfixest/estimation/feols_.py:501: RuntimeWarning: invalid value encountered in matmul\n",
      "  self._tZX = _Z.T @ _X\n",
      "/Users/patrick.doupe/DH/ad_hoc/cohorts/.venv/lib/python3.13/site-packages/pyfixest/estimation/feols_.py:2604: RuntimeWarning: divide by zero encountered in matmul\n",
      "  tXX = X.T @ X\n",
      "/Users/patrick.doupe/DH/ad_hoc/cohorts/.venv/lib/python3.13/site-packages/pyfixest/estimation/feols_.py:2604: RuntimeWarning: overflow encountered in matmul\n",
      "  tXX = X.T @ X\n",
      "/Users/patrick.doupe/DH/ad_hoc/cohorts/.venv/lib/python3.13/site-packages/pyfixest/estimation/feols_.py:2604: RuntimeWarning: invalid value encountered in matmul\n",
      "  tXX = X.T @ X\n",
      "/Users/patrick.doupe/DH/ad_hoc/cohorts/.venv/lib/python3.13/site-packages/pyfixest/estimation/feols_.py:2604: RuntimeWarning: divide by zero encountered in matmul\n",
      "  tXX = X.T @ X\n",
      "/Users/patrick.doupe/DH/ad_hoc/cohorts/.venv/lib/python3.13/site-packages/pyfixest/estimation/feols_.py:2604: RuntimeWarning: overflow encountered in matmul\n",
      "  tXX = X.T @ X\n",
      "/Users/patrick.doupe/DH/ad_hoc/cohorts/.venv/lib/python3.13/site-packages/pyfixest/estimation/feols_.py:2604: RuntimeWarning: invalid value encountered in matmul\n",
      "  tXX = X.T @ X\n",
      "/Users/patrick.doupe/DH/ad_hoc/cohorts/.venv/lib/python3.13/site-packages/pyfixest/estimation/feols_.py:2604: RuntimeWarning: divide by zero encountered in matmul\n",
      "  tXX = X.T @ X\n",
      "/Users/patrick.doupe/DH/ad_hoc/cohorts/.venv/lib/python3.13/site-packages/pyfixest/estimation/feols_.py:2604: RuntimeWarning: overflow encountered in matmul\n",
      "  tXX = X.T @ X\n",
      "/Users/patrick.doupe/DH/ad_hoc/cohorts/.venv/lib/python3.13/site-packages/pyfixest/estimation/feols_.py:2604: RuntimeWarning: invalid value encountered in matmul\n",
      "  tXX = X.T @ X\n",
      "/Users/patrick.doupe/DH/ad_hoc/cohorts/.venv/lib/python3.13/site-packages/pyfixest/estimation/feols_.py:2604: RuntimeWarning: divide by zero encountered in matmul\n",
      "  tXX = X.T @ X\n",
      "/Users/patrick.doupe/DH/ad_hoc/cohorts/.venv/lib/python3.13/site-packages/pyfixest/estimation/feols_.py:2604: RuntimeWarning: overflow encountered in matmul\n",
      "  tXX = X.T @ X\n",
      "/Users/patrick.doupe/DH/ad_hoc/cohorts/.venv/lib/python3.13/site-packages/pyfixest/estimation/feols_.py:2604: RuntimeWarning: invalid value encountered in matmul\n",
      "  tXX = X.T @ X\n",
      "/Users/patrick.doupe/DH/ad_hoc/cohorts/.venv/lib/python3.13/site-packages/pyfixest/estimation/feols_.py:2604: RuntimeWarning: divide by zero encountered in matmul\n",
      "  tXX = X.T @ X\n",
      "/Users/patrick.doupe/DH/ad_hoc/cohorts/.venv/lib/python3.13/site-packages/pyfixest/estimation/feols_.py:2604: RuntimeWarning: overflow encountered in matmul\n",
      "  tXX = X.T @ X\n",
      "/Users/patrick.doupe/DH/ad_hoc/cohorts/.venv/lib/python3.13/site-packages/pyfixest/estimation/feols_.py:2604: RuntimeWarning: invalid value encountered in matmul\n",
      "  tXX = X.T @ X\n",
      "/Users/patrick.doupe/DH/ad_hoc/cohorts/.venv/lib/python3.13/site-packages/pyfixest/estimation/feols_.py:2604: RuntimeWarning: divide by zero encountered in matmul\n",
      "  tXX = X.T @ X\n",
      "/Users/patrick.doupe/DH/ad_hoc/cohorts/.venv/lib/python3.13/site-packages/pyfixest/estimation/feols_.py:2604: RuntimeWarning: overflow encountered in matmul\n",
      "  tXX = X.T @ X\n",
      "/Users/patrick.doupe/DH/ad_hoc/cohorts/.venv/lib/python3.13/site-packages/pyfixest/estimation/feols_.py:2604: RuntimeWarning: invalid value encountered in matmul\n",
      "  tXX = X.T @ X\n",
      "/Users/patrick.doupe/DH/ad_hoc/cohorts/.venv/lib/python3.13/site-packages/pyfixest/estimation/feols_.py:2604: RuntimeWarning: divide by zero encountered in matmul\n",
      "  tXX = X.T @ X\n",
      "/Users/patrick.doupe/DH/ad_hoc/cohorts/.venv/lib/python3.13/site-packages/pyfixest/estimation/feols_.py:2604: RuntimeWarning: overflow encountered in matmul\n",
      "  tXX = X.T @ X\n",
      "/Users/patrick.doupe/DH/ad_hoc/cohorts/.venv/lib/python3.13/site-packages/pyfixest/estimation/feols_.py:2604: RuntimeWarning: invalid value encountered in matmul\n",
      "  tXX = X.T @ X\n",
      "/Users/patrick.doupe/DH/ad_hoc/cohorts/.venv/lib/python3.13/site-packages/pyfixest/estimation/feols_.py:2604: RuntimeWarning: divide by zero encountered in matmul\n",
      "  tXX = X.T @ X\n",
      "/Users/patrick.doupe/DH/ad_hoc/cohorts/.venv/lib/python3.13/site-packages/pyfixest/estimation/feols_.py:2604: RuntimeWarning: overflow encountered in matmul\n",
      "  tXX = X.T @ X\n",
      "/Users/patrick.doupe/DH/ad_hoc/cohorts/.venv/lib/python3.13/site-packages/pyfixest/estimation/feols_.py:2604: RuntimeWarning: invalid value encountered in matmul\n",
      "  tXX = X.T @ X\n",
      "/Users/patrick.doupe/DH/ad_hoc/cohorts/.venv/lib/python3.13/site-packages/pyfixest/estimation/feols_.py:2604: RuntimeWarning: divide by zero encountered in matmul\n",
      "  tXX = X.T @ X\n",
      "/Users/patrick.doupe/DH/ad_hoc/cohorts/.venv/lib/python3.13/site-packages/pyfixest/estimation/feols_.py:2604: RuntimeWarning: overflow encountered in matmul\n",
      "  tXX = X.T @ X\n",
      "/Users/patrick.doupe/DH/ad_hoc/cohorts/.venv/lib/python3.13/site-packages/pyfixest/estimation/feols_.py:2604: RuntimeWarning: invalid value encountered in matmul\n",
      "  tXX = X.T @ X\n"
     ]
    }
   ],
   "source": [
    "results = {col: get_regression_output(df, 'successful_orders_gmv', col) for col in cols_to_check}"
   ]
  },
  {
   "cell_type": "code",
   "execution_count": 32,
   "id": "072a029e",
   "metadata": {},
   "outputs": [
    {
     "data": {
      "application/vnd.microsoft.datawrangler.viewer.v0+json": {
       "columns": [
        {
         "name": "index",
         "rawType": "int64",
         "type": "integer"
        },
        {
         "name": "Cohort Dimension",
         "rawType": "object",
         "type": "string"
        },
        {
         "name": "Adjusted R2",
         "rawType": "float64",
         "type": "float"
        }
       ],
       "ref": "cf0e8111-d7e9-49b2-92eb-54897f970f92",
       "rows": [
        [
         "4",
         "vendor_grade",
         "0.226"
        ],
        [
         "8",
         "retained_customers_QQ_id",
         "0.125"
        ],
        [
         "9",
         "new_customer_orders_QQ_id",
         "0.123"
        ],
        [
         "7",
         "average_price_QQ_id",
         "0.062"
        ],
        [
         "3",
         "area",
         "0.041"
        ],
        [
         "5",
         "key_account_sub_category",
         "0.038"
        ],
        [
         "6",
         "cuisine",
         "0.036"
        ],
        [
         "2",
         "city",
         "0.035"
        ],
        [
         "1",
         "entity",
         "0.032"
        ],
        [
         "0",
         "region",
         "0.001"
        ]
       ],
       "shape": {
        "columns": 2,
        "rows": 10
       }
      },
      "text/html": [
       "<div>\n",
       "<style scoped>\n",
       "    .dataframe tbody tr th:only-of-type {\n",
       "        vertical-align: middle;\n",
       "    }\n",
       "\n",
       "    .dataframe tbody tr th {\n",
       "        vertical-align: top;\n",
       "    }\n",
       "\n",
       "    .dataframe thead th {\n",
       "        text-align: right;\n",
       "    }\n",
       "</style>\n",
       "<table border=\"1\" class=\"dataframe\">\n",
       "  <thead>\n",
       "    <tr style=\"text-align: right;\">\n",
       "      <th></th>\n",
       "      <th>Cohort Dimension</th>\n",
       "      <th>Adjusted R2</th>\n",
       "    </tr>\n",
       "  </thead>\n",
       "  <tbody>\n",
       "    <tr>\n",
       "      <th>4</th>\n",
       "      <td>vendor_grade</td>\n",
       "      <td>0.226</td>\n",
       "    </tr>\n",
       "    <tr>\n",
       "      <th>8</th>\n",
       "      <td>retained_customers_QQ_id</td>\n",
       "      <td>0.125</td>\n",
       "    </tr>\n",
       "    <tr>\n",
       "      <th>9</th>\n",
       "      <td>new_customer_orders_QQ_id</td>\n",
       "      <td>0.123</td>\n",
       "    </tr>\n",
       "    <tr>\n",
       "      <th>7</th>\n",
       "      <td>average_price_QQ_id</td>\n",
       "      <td>0.062</td>\n",
       "    </tr>\n",
       "    <tr>\n",
       "      <th>3</th>\n",
       "      <td>area</td>\n",
       "      <td>0.041</td>\n",
       "    </tr>\n",
       "    <tr>\n",
       "      <th>5</th>\n",
       "      <td>key_account_sub_category</td>\n",
       "      <td>0.038</td>\n",
       "    </tr>\n",
       "    <tr>\n",
       "      <th>6</th>\n",
       "      <td>cuisine</td>\n",
       "      <td>0.036</td>\n",
       "    </tr>\n",
       "    <tr>\n",
       "      <th>2</th>\n",
       "      <td>city</td>\n",
       "      <td>0.035</td>\n",
       "    </tr>\n",
       "    <tr>\n",
       "      <th>1</th>\n",
       "      <td>entity</td>\n",
       "      <td>0.032</td>\n",
       "    </tr>\n",
       "    <tr>\n",
       "      <th>0</th>\n",
       "      <td>region</td>\n",
       "      <td>0.001</td>\n",
       "    </tr>\n",
       "  </tbody>\n",
       "</table>\n",
       "</div>"
      ],
      "text/plain": [
       "            Cohort Dimension  Adjusted R2\n",
       "4               vendor_grade        0.226\n",
       "8   retained_customers_QQ_id        0.125\n",
       "9  new_customer_orders_QQ_id        0.123\n",
       "7        average_price_QQ_id        0.062\n",
       "3                       area        0.041\n",
       "5   key_account_sub_category        0.038\n",
       "6                    cuisine        0.036\n",
       "2                       city        0.035\n",
       "1                     entity        0.032\n",
       "0                     region        0.001"
      ]
     },
     "execution_count": 32,
     "metadata": {},
     "output_type": "execute_result"
    }
   ],
   "source": [
    "results_ar2 = { k: v['adj_r2'] for k, v in results.items()}\n",
    "results_ar2 = pd.DataFrame(list(results_ar2.items()), columns=['Cohort Dimension', 'Adjusted R2']).sort_values(by='Adjusted R2', ascending=False)\n",
    "results_ar2['Adjusted R2'] = results_ar2['Adjusted R2'].round(3)\n",
    "results_ar2"
   ]
  },
  {
   "cell_type": "code",
   "execution_count": 33,
   "id": "7ce8ea59",
   "metadata": {},
   "outputs": [
    {
     "data": {
      "application/vnd.microsoft.datawrangler.viewer.v0+json": {
       "columns": [
        {
         "name": "index",
         "rawType": "int64",
         "type": "integer"
        },
        {
         "name": "Cohort Dimension",
         "rawType": "object",
         "type": "string"
        },
        {
         "name": "Adjusted R2",
         "rawType": "float64",
         "type": "float"
        }
       ],
       "ref": "e92bc296-7ed7-496c-b654-fa6a07bef7b5",
       "rows": [
        [
         "4",
         "vendor_grade",
         "0.226"
        ],
        [
         "8",
         "retained_customers_QQ_id",
         "0.125"
        ],
        [
         "9",
         "new_customer_orders_QQ_id",
         "0.123"
        ],
        [
         "7",
         "average_price_QQ_id",
         "0.062"
        ],
        [
         "3",
         "area",
         "0.041"
        ],
        [
         "5",
         "key_account_sub_category",
         "0.038"
        ],
        [
         "6",
         "cuisine",
         "0.036"
        ],
        [
         "2",
         "city",
         "0.035"
        ],
        [
         "1",
         "entity",
         "0.032"
        ],
        [
         "0",
         "region",
         "0.001"
        ]
       ],
       "shape": {
        "columns": 2,
        "rows": 10
       }
      },
      "text/html": [
       "<div>\n",
       "<style scoped>\n",
       "    .dataframe tbody tr th:only-of-type {\n",
       "        vertical-align: middle;\n",
       "    }\n",
       "\n",
       "    .dataframe tbody tr th {\n",
       "        vertical-align: top;\n",
       "    }\n",
       "\n",
       "    .dataframe thead th {\n",
       "        text-align: right;\n",
       "    }\n",
       "</style>\n",
       "<table border=\"1\" class=\"dataframe\">\n",
       "  <thead>\n",
       "    <tr style=\"text-align: right;\">\n",
       "      <th></th>\n",
       "      <th>Cohort Dimension</th>\n",
       "      <th>Adjusted R2</th>\n",
       "    </tr>\n",
       "  </thead>\n",
       "  <tbody>\n",
       "    <tr>\n",
       "      <th>4</th>\n",
       "      <td>vendor_grade</td>\n",
       "      <td>0.226</td>\n",
       "    </tr>\n",
       "    <tr>\n",
       "      <th>8</th>\n",
       "      <td>retained_customers_QQ_id</td>\n",
       "      <td>0.125</td>\n",
       "    </tr>\n",
       "    <tr>\n",
       "      <th>9</th>\n",
       "      <td>new_customer_orders_QQ_id</td>\n",
       "      <td>0.123</td>\n",
       "    </tr>\n",
       "    <tr>\n",
       "      <th>7</th>\n",
       "      <td>average_price_QQ_id</td>\n",
       "      <td>0.062</td>\n",
       "    </tr>\n",
       "    <tr>\n",
       "      <th>3</th>\n",
       "      <td>area</td>\n",
       "      <td>0.041</td>\n",
       "    </tr>\n",
       "    <tr>\n",
       "      <th>5</th>\n",
       "      <td>key_account_sub_category</td>\n",
       "      <td>0.038</td>\n",
       "    </tr>\n",
       "    <tr>\n",
       "      <th>6</th>\n",
       "      <td>cuisine</td>\n",
       "      <td>0.036</td>\n",
       "    </tr>\n",
       "    <tr>\n",
       "      <th>2</th>\n",
       "      <td>city</td>\n",
       "      <td>0.035</td>\n",
       "    </tr>\n",
       "    <tr>\n",
       "      <th>1</th>\n",
       "      <td>entity</td>\n",
       "      <td>0.032</td>\n",
       "    </tr>\n",
       "    <tr>\n",
       "      <th>0</th>\n",
       "      <td>region</td>\n",
       "      <td>0.001</td>\n",
       "    </tr>\n",
       "  </tbody>\n",
       "</table>\n",
       "</div>"
      ],
      "text/plain": [
       "            Cohort Dimension  Adjusted R2\n",
       "4               vendor_grade        0.226\n",
       "8   retained_customers_QQ_id        0.125\n",
       "9  new_customer_orders_QQ_id        0.123\n",
       "7        average_price_QQ_id        0.062\n",
       "3                       area        0.041\n",
       "5   key_account_sub_category        0.038\n",
       "6                    cuisine        0.036\n",
       "2                       city        0.035\n",
       "1                     entity        0.032\n",
       "0                     region        0.001"
      ]
     },
     "execution_count": 33,
     "metadata": {},
     "output_type": "execute_result"
    }
   ],
   "source": [
    "results_ar2"
   ]
  },
  {
   "cell_type": "code",
   "execution_count": 27,
   "id": "2cf0c532",
   "metadata": {},
   "outputs": [],
   "source": [
    "results_ar2.to_json('output/ranking_results.json')"
   ]
  },
  {
   "cell_type": "code",
   "execution_count": null,
   "id": "b719a224",
   "metadata": {},
   "outputs": [],
   "source": [
    "df_resid = pd.DataFrame(residuals)"
   ]
  },
  {
   "cell_type": "code",
   "execution_count": 54,
   "id": "ec7eb2e7",
   "metadata": {},
   "outputs": [],
   "source": [
    "df[cols_to_check] = df[cols_to_check].astype(\"category\")"
   ]
  },
  {
   "cell_type": "code",
   "execution_count": 57,
   "id": "5a28f658",
   "metadata": {},
   "outputs": [],
   "source": [
    "import pandas as pd\n",
    "import numpy as np\n",
    "from scipy.stats import chi2_contingency\n",
    "from itertools import combinations\n",
    "\n",
    "# Get all categorical columns\n",
    "cat_cols = ['region', 'entity', 'city', 'area', 'vendor_grade', \n",
    "           'key_account_sub_category', 'cuisine', 'average_price_QQ_id', 'retained_customers_QQ_id', 'new_customer_orders_QQ_id']\n",
    "\n",
    "def analyze_pairwise_relationships(df, cat_cols):\n",
    "    \"\"\"Analyze all pairwise relationships\"\"\"\n",
    "    results = []\n",
    "    \n",
    "    for col1, col2 in combinations(cat_cols, 2):\n",
    "        crosstab = pd.crosstab(df[col1], df[col2])\n",
    "        \n",
    "        # Summary stats\n",
    "        n_combinations = (crosstab > 0).sum().sum()  # Non-zero cells\n",
    "        max_possible = len(df[col1].cat.categories) * len(df[col2].cat.categories)\n",
    "        sparsity = 1 - (n_combinations / max_possible)\n",
    "        \n",
    "        results.append({\n",
    "            'var1': col1,\n",
    "            'var2': col2, \n",
    "            'actual_combinations': n_combinations,\n",
    "            'max_possible': max_possible,\n",
    "            'sparsity': sparsity,\n",
    "            'cramers_v': cramers_v(crosstab)  # Association strength\n",
    "        })\n",
    "    \n",
    "    return pd.DataFrame(results).sort_values('cramers_v', ascending=False)\n",
    "\n",
    "def cramers_v(crosstab):\n",
    "    \"\"\"Calculate Cramer's V for association strength\"\"\"\n",
    "    chi2 = chi2_contingency(crosstab)[0]\n",
    "    n = crosstab.sum().sum()\n",
    "    return np.sqrt(chi2 / (n * (min(crosstab.shape) - 1)))\n",
    "\n"
   ]
  },
  {
   "cell_type": "code",
   "execution_count": 62,
   "id": "96edcb2d",
   "metadata": {},
   "outputs": [
    {
     "data": {
      "application/vnd.microsoft.datawrangler.viewer.v0+json": {
       "columns": [
        {
         "name": "index",
         "rawType": "int64",
         "type": "integer"
        },
        {
         "name": "var1",
         "rawType": "object",
         "type": "string"
        },
        {
         "name": "var2",
         "rawType": "object",
         "type": "string"
        },
        {
         "name": "actual_combinations",
         "rawType": "int64",
         "type": "integer"
        },
        {
         "name": "max_possible",
         "rawType": "int64",
         "type": "integer"
        },
        {
         "name": "sparsity",
         "rawType": "float64",
         "type": "float"
        },
        {
         "name": "cramers_v",
         "rawType": "float64",
         "type": "float"
        }
       ],
       "ref": "7528c61d-5077-456e-a426-d11cd85e0bf4",
       "rows": [
        [
         "3",
         "retained_customers_QQ_id",
         "new_customer_orders_QQ_id",
         "4",
         "4",
         "0.0",
         "0.8364155181280686"
        ],
        [
         "4",
         "retained_customers_QQ_id",
         "vendor_grade",
         "14",
         "14",
         "0.0",
         "0.576839169068488"
        ],
        [
         "5",
         "new_customer_orders_QQ_id",
         "vendor_grade",
         "14",
         "14",
         "0.0",
         "0.507983065880635"
        ],
        [
         "0",
         "average_price_QQ_id",
         "retained_customers_QQ_id",
         "4",
         "4",
         "0.0",
         "0.47172956000602445"
        ],
        [
         "1",
         "average_price_QQ_id",
         "new_customer_orders_QQ_id",
         "4",
         "4",
         "0.0",
         "0.46646438424978703"
        ],
        [
         "2",
         "average_price_QQ_id",
         "vendor_grade",
         "14",
         "14",
         "0.0",
         "0.4643406709463206"
        ]
       ],
       "shape": {
        "columns": 6,
        "rows": 6
       }
      },
      "text/html": [
       "<div>\n",
       "<style scoped>\n",
       "    .dataframe tbody tr th:only-of-type {\n",
       "        vertical-align: middle;\n",
       "    }\n",
       "\n",
       "    .dataframe tbody tr th {\n",
       "        vertical-align: top;\n",
       "    }\n",
       "\n",
       "    .dataframe thead th {\n",
       "        text-align: right;\n",
       "    }\n",
       "</style>\n",
       "<table border=\"1\" class=\"dataframe\">\n",
       "  <thead>\n",
       "    <tr style=\"text-align: right;\">\n",
       "      <th></th>\n",
       "      <th>var1</th>\n",
       "      <th>var2</th>\n",
       "      <th>actual_combinations</th>\n",
       "      <th>max_possible</th>\n",
       "      <th>sparsity</th>\n",
       "      <th>cramers_v</th>\n",
       "    </tr>\n",
       "  </thead>\n",
       "  <tbody>\n",
       "    <tr>\n",
       "      <th>3</th>\n",
       "      <td>retained_customers_QQ_id</td>\n",
       "      <td>new_customer_orders_QQ_id</td>\n",
       "      <td>4</td>\n",
       "      <td>4</td>\n",
       "      <td>0.0</td>\n",
       "      <td>0.836416</td>\n",
       "    </tr>\n",
       "    <tr>\n",
       "      <th>4</th>\n",
       "      <td>retained_customers_QQ_id</td>\n",
       "      <td>vendor_grade</td>\n",
       "      <td>14</td>\n",
       "      <td>14</td>\n",
       "      <td>0.0</td>\n",
       "      <td>0.576839</td>\n",
       "    </tr>\n",
       "    <tr>\n",
       "      <th>5</th>\n",
       "      <td>new_customer_orders_QQ_id</td>\n",
       "      <td>vendor_grade</td>\n",
       "      <td>14</td>\n",
       "      <td>14</td>\n",
       "      <td>0.0</td>\n",
       "      <td>0.507983</td>\n",
       "    </tr>\n",
       "    <tr>\n",
       "      <th>0</th>\n",
       "      <td>average_price_QQ_id</td>\n",
       "      <td>retained_customers_QQ_id</td>\n",
       "      <td>4</td>\n",
       "      <td>4</td>\n",
       "      <td>0.0</td>\n",
       "      <td>0.471730</td>\n",
       "    </tr>\n",
       "    <tr>\n",
       "      <th>1</th>\n",
       "      <td>average_price_QQ_id</td>\n",
       "      <td>new_customer_orders_QQ_id</td>\n",
       "      <td>4</td>\n",
       "      <td>4</td>\n",
       "      <td>0.0</td>\n",
       "      <td>0.466464</td>\n",
       "    </tr>\n",
       "    <tr>\n",
       "      <th>2</th>\n",
       "      <td>average_price_QQ_id</td>\n",
       "      <td>vendor_grade</td>\n",
       "      <td>14</td>\n",
       "      <td>14</td>\n",
       "      <td>0.0</td>\n",
       "      <td>0.464341</td>\n",
       "    </tr>\n",
       "  </tbody>\n",
       "</table>\n",
       "</div>"
      ],
      "text/plain": [
       "                        var1                       var2  actual_combinations  \\\n",
       "3   retained_customers_QQ_id  new_customer_orders_QQ_id                    4   \n",
       "4   retained_customers_QQ_id               vendor_grade                   14   \n",
       "5  new_customer_orders_QQ_id               vendor_grade                   14   \n",
       "0        average_price_QQ_id   retained_customers_QQ_id                    4   \n",
       "1        average_price_QQ_id  new_customer_orders_QQ_id                    4   \n",
       "2        average_price_QQ_id               vendor_grade                   14   \n",
       "\n",
       "   max_possible  sparsity  cramers_v  \n",
       "3             4       0.0   0.836416  \n",
       "4            14       0.0   0.576839  \n",
       "5            14       0.0   0.507983  \n",
       "0             4       0.0   0.471730  \n",
       "1             4       0.0   0.466464  \n",
       "2            14       0.0   0.464341  "
      ]
     },
     "execution_count": 62,
     "metadata": {},
     "output_type": "execute_result"
    }
   ],
   "source": [
    "analyze_pairwise_relationships(df, ['average_price_QQ_id', 'retained_customers_QQ_id', 'new_customer_orders_QQ_id', 'vendor_grade'])"
   ]
  },
  {
   "cell_type": "code",
   "execution_count": null,
   "id": "e48a67b3",
   "metadata": {},
   "outputs": [],
   "source": []
  },
  {
   "cell_type": "code",
   "execution_count": 58,
   "id": "4df54489",
   "metadata": {},
   "outputs": [
    {
     "name": "stdout",
     "output_type": "stream",
     "text": [
      "Strongest associations:\n",
      "      var1     var2  actual_combinations  max_possible  sparsity  cramers_v\n",
      "0   region   entity                   15            60  0.750000   1.000000\n",
      "1   region     city                  911          3644  0.750000   1.000000\n",
      "9   entity     city                  943         13665  0.930992   0.998917\n",
      "5   region  cuisine                  476          1672  0.715311   0.888376\n",
      "10  entity     area                 5521         80565  0.931471   0.839691\n",
      "Weakest associations:\n",
      "      var1                       var2  actual_combinations  max_possible  \\\n",
      "20    city                    cuisine                12145        380798   \n",
      "11  entity               vendor_grade                  105           105   \n",
      "3   region               vendor_grade                   28            28   \n",
      "8   region  new_customer_orders_QQ_id                    8             8   \n",
      "7   region   retained_customers_QQ_id                    8             8   \n",
      "\n",
      "    sparsity  cramers_v  \n",
      "20  0.968106   0.147027  \n",
      "11  0.000000   0.126755  \n",
      "3   0.000000   0.088502  \n",
      "8   0.000000   0.077581  \n",
      "7   0.000000   0.073483  \n"
     ]
    }
   ],
   "source": [
    "# Step 1: Understand pairwise relationships\n",
    "pairwise_results = analyze_pairwise_relationships(df, cat_cols)\n",
    "print(\"Strongest associations:\")\n",
    "print(pairwise_results.head())\n",
    "print(\"Weakest associations:\")\n",
    "print(pairwise_results.tail())"
   ]
  },
  {
   "cell_type": "code",
   "execution_count": 59,
   "id": "c276bfc8",
   "metadata": {},
   "outputs": [],
   "source": [
    "def find_complementary_dimensions(df, cat_cols, threshold=0.3):\n",
    "    \"\"\"Find pairs with LOW Cramer's V (independent information)\"\"\"\n",
    "    results = []\n",
    "    \n",
    "    for col1, col2 in combinations(cat_cols, 2):\n",
    "        crosstab = pd.crosstab(df[col1], df[col2])\n",
    "        v = cramers_v(crosstab)\n",
    "        \n",
    "        results.append({\n",
    "            'var1': col1,\n",
    "            'var2': col2,\n",
    "            'cramers_v': v,\n",
    "            'independence_score': 1 - v,  # Higher = more independent\n",
    "            'interpretation': interpret_relationship(v)\n",
    "        })\n",
    "    \n",
    "    # Sort by independence (lowest V first)\n",
    "    independent_pairs = pd.DataFrame(results).sort_values('cramers_v')\n",
    "    \n",
    "    print(\"=== MOST INDEPENDENT PAIRS (Additional Information) ===\")\n",
    "    return independent_pairs[independent_pairs['cramers_v'] < threshold]\n",
    "\n",
    "def interpret_relationship(v):\n",
    "    if v < 0.1: return \"Independent (great for cohorts)\"\n",
    "    elif v < 0.3: return \"Weakly related (good for cohorts)\"  \n",
    "    elif v < 0.6: return \"Moderately related (some overlap)\"\n",
    "    else: return \"Highly related (redundant)\""
   ]
  },
  {
   "cell_type": "code",
   "execution_count": 60,
   "id": "35524013",
   "metadata": {},
   "outputs": [],
   "source": [
    "def find_optimal_dimension_set(df, cat_cols, max_dims=5):\n",
    "    \"\"\"Find set of dimensions with minimal overlap\"\"\"\n",
    "    \n",
    "    # Calculate all pairwise V values\n",
    "    v_matrix = {}\n",
    "    for col1, col2 in combinations(cat_cols, 2):\n",
    "        crosstab = pd.crosstab(df[col1], df[col2])\n",
    "        v_matrix[(col1, col2)] = cramers_v(crosstab)\n",
    "    \n",
    "    # Greedy algorithm: start with most independent pairs\n",
    "    selected_dims = []\n",
    "    remaining_dims = cat_cols.copy()\n",
    "    \n",
    "    while len(selected_dims) < max_dims and remaining_dims:\n",
    "        if not selected_dims:\n",
    "            # Start with dimension with most independent relationships\n",
    "            independence_scores = {}\n",
    "            for dim in remaining_dims:\n",
    "                avg_v = np.mean([v_matrix.get((dim, other), v_matrix.get((other, dim), 0)) \n",
    "                               for other in remaining_dims if other != dim])\n",
    "                independence_scores[dim] = 1 - avg_v\n",
    "            \n",
    "            best_start = max(independence_scores.items(), key=lambda x: x[1])[0]\n",
    "            selected_dims.append(best_start)\n",
    "            remaining_dims.remove(best_start)\n",
    "        else:\n",
    "            # Add dimension with lowest average V to selected dimensions\n",
    "            best_addition = None\n",
    "            lowest_avg_v = float('inf')\n",
    "            \n",
    "            for candidate in remaining_dims:\n",
    "                avg_v_with_selected = np.mean([\n",
    "                    v_matrix.get((candidate, selected), v_matrix.get((selected, candidate), 0))\n",
    "                    for selected in selected_dims\n",
    "                ])\n",
    "                \n",
    "                if avg_v_with_selected < lowest_avg_v:\n",
    "                    lowest_avg_v = avg_v_with_selected\n",
    "                    best_addition = candidate\n",
    "            \n",
    "            if best_addition and lowest_avg_v < 0.5:  # Threshold for \"acceptable\" independence\n",
    "                selected_dims.append(best_addition)\n",
    "                remaining_dims.remove(best_addition)\n",
    "            else:\n",
    "                break\n",
    "    \n",
    "    return selected_dims, lowest_avg_v"
   ]
  },
  {
   "cell_type": "code",
   "execution_count": 61,
   "id": "4769ed6b",
   "metadata": {},
   "outputs": [
    {
     "name": "stdout",
     "output_type": "stream",
     "text": [
      "=== MOST INDEPENDENT PAIRS (Additional Information) ===\n",
      "            var1                      var2  cramers_v  independence_score  \\\n",
      "3         region              vendor_grade   0.088502            0.911498   \n",
      "8         entity              vendor_grade   0.126755            0.873245   \n",
      "14          city                   cuisine   0.147027            0.852973   \n",
      "4         region  key_account_sub_category   0.172860            0.827140   \n",
      "17          area                   cuisine   0.179427            0.820573   \n",
      "15          area              vendor_grade   0.180056            0.819944   \n",
      "12          city              vendor_grade   0.198966            0.801034   \n",
      "18  vendor_grade  key_account_sub_category   0.220440            0.779560   \n",
      "19  vendor_grade                   cuisine   0.224298            0.775702   \n",
      "9         entity  key_account_sub_category   0.233631            0.766369   \n",
      "\n",
      "                       interpretation  \n",
      "3     Independent (great for cohorts)  \n",
      "8   Weakly related (good for cohorts)  \n",
      "14  Weakly related (good for cohorts)  \n",
      "4   Weakly related (good for cohorts)  \n",
      "17  Weakly related (good for cohorts)  \n",
      "15  Weakly related (good for cohorts)  \n",
      "12  Weakly related (good for cohorts)  \n",
      "18  Weakly related (good for cohorts)  \n",
      "19  Weakly related (good for cohorts)  \n",
      "9   Weakly related (good for cohorts)  \n",
      "\n",
      "Optimal dimensions: ['vendor_grade', 'region', 'key_account_sub_category', 'area']\n",
      "Average overlap (Cramer's V): 0.350\n",
      "\n",
      "=== VALIDATION: Overlap within chosen set ===\n",
      "vendor_grade ↔ region: V = 0.089\n",
      "vendor_grade ↔ key_account_sub_category: V = 0.220\n",
      "vendor_grade ↔ area: V = 0.180\n",
      "region ↔ key_account_sub_category: V = 0.173\n",
      "region ↔ area: V = 0.603\n",
      "key_account_sub_category ↔ area: V = 0.268\n"
     ]
    }
   ],
   "source": [
    "# Find your best orthogonal dimensions\n",
    "cat_cols = ['region', 'entity', 'city', 'area', 'vendor_grade', \n",
    "           'key_account_sub_category', 'cuisine']\n",
    "\n",
    "# Get independence analysis\n",
    "independent_pairs = find_complementary_dimensions(df, cat_cols)\n",
    "print(independent_pairs.head(10))\n",
    "\n",
    "# Find optimal dimension set\n",
    "optimal_dims, avg_overlap = find_optimal_dimension_set(df, cat_cols, max_dims=4)\n",
    "print(f\"\\nOptimal dimensions: {optimal_dims}\")\n",
    "print(f\"Average overlap (Cramer's V): {avg_overlap:.3f}\")\n",
    "\n",
    "# Validate your choice\n",
    "print(\"\\n=== VALIDATION: Overlap within chosen set ===\")\n",
    "for i, dim1 in enumerate(optimal_dims):\n",
    "    for dim2 in optimal_dims[i+1:]:\n",
    "        crosstab = pd.crosstab(df[dim1], df[dim2])\n",
    "        v = cramers_v(crosstab)\n",
    "        print(f\"{dim1} ↔ {dim2}: V = {v:.3f}\")"
   ]
  },
  {
   "cell_type": "code",
   "execution_count": null,
   "id": "06449f68",
   "metadata": {},
   "outputs": [],
   "source": []
  }
 ],
 "metadata": {
  "kernelspec": {
   "display_name": "cohorts-py3.13 (3.13.4)",
   "language": "python",
   "name": "python3"
  },
  "language_info": {
   "codemirror_mode": {
    "name": "ipython",
    "version": 3
   },
   "file_extension": ".py",
   "mimetype": "text/x-python",
   "name": "python",
   "nbconvert_exporter": "python",
   "pygments_lexer": "ipython3",
   "version": "3.13.4"
  }
 },
 "nbformat": 4,
 "nbformat_minor": 5
}
