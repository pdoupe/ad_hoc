{
 "cells": [
  {
   "cell_type": "markdown",
   "id": "1eebfabb",
   "metadata": {},
   "source": [
    "# Cohorts analysis\n",
    "\n",
    "## Problem\n",
    "\n",
    "We are launching a recommendation tool that identifies vendor cohorts and suggests performance improvements based on peer comparisons within those cohorts. Our current cohort definition uses a six-level nested hierarchy (Country → City → Area → Price → Cuisine → Grade) that was designed primarily for explainability to account managers rather than analytical rigor.\n",
    "\n",
    "This ad hoc approach creates two risks for our MVP rollout:\n",
    "\n",
    "Weak statistical foundation: We haven't validated whether our cohorts actually group similar-performing vendors together Stakeholder confidence: Without a principled justification for cohort boundaries, leadership are questioning recommendation validity\n",
    "\n",
    "Our SVP has specified that cohorts must be \"sensible and comparable\" - meaning they should be both statistically meaningful and intuitive to business stakeholders. We need a methodology that validates our current hierarchy against this standard and provides a framework for refinement.\n",
    "\n",
    "## Solution\n",
    "To identify which vendor characteristics create the most \"comparable\" cohorts, we'll use a three-step approach: \n",
    "\n",
    "1. **dimension ranking through regression analysis** to find the dimensions that best predict vendor performance \n",
    "2. **hierarchy optimization**, to find the hierarchy that best groups vendors into similar performing vendors. \n",
    "The measure will help identify better cohort separation - vendors within cohorts are similar while cohorts differ meaningfully \n",
    "3. **cluster validation and refinement** to ensure that the final hierarchy is sensible and comparable.\n",
    "\n",
    "## Data \n",
    "\n",
    "Collected in `create_data.ipynb`"
   ]
  },
  {
   "cell_type": "code",
   "execution_count": 1,
   "id": "be062080",
   "metadata": {},
   "outputs": [
    {
     "name": "stderr",
     "output_type": "stream",
     "text": [
      "/Users/patrick.doupe/DH/ad_hoc/cohorts/.venv/lib/python3.13/site-packages/google/cloud/bigquery/__init__.py:237: FutureWarning: %load_ext google.cloud.bigquery is deprecated. Install bigquery-magics package and use `%load_ext bigquery_magics`, instead.\n",
      "  warnings.warn(\n"
     ]
    }
   ],
   "source": [
    "from datetime import date\n",
    "from highlight_text import fig_text\n",
    "\n",
    "import os\n",
    "import numpy as np\n",
    "import pandas as pd\n",
    "import matplotlib.pyplot as plt\n",
    "import bigframes.pandas as bpd\n",
    "import statsmodels.api as sm\n",
    "\n",
    "import warnings\n",
    "warnings.filterwarnings(action='once')\n",
    "\n",
    "%load_ext google.cloud.bigquery\n",
    "bpd.options.bigquery.project = \"dhh-ncr-stg\""
   ]
  },
  {
   "cell_type": "code",
   "execution_count": 2,
   "id": "9741e9b1",
   "metadata": {},
   "outputs": [
    {
     "name": "stderr",
     "output_type": "stream",
     "text": [
      "/Users/patrick.doupe/DH/ad_hoc/cohorts/.venv/lib/python3.13/site-packages/google/cloud/bigquery/job/query.py:2074: UserWarning: A progress bar was requested, but there was an error loading the tqdm library. Please install tqdm to use the progress bar functionality.\n",
      "  query_result = wait_for_query(self, progress_bar_type, max_results=max_results)\n",
      "/Users/patrick.doupe/DH/ad_hoc/cohorts/.venv/lib/python3.13/site-packages/google/cloud/bigquery/table.py:2645: UserWarning: A progress bar was requested, but there was an error loading the tqdm library. Please install tqdm to use the progress bar functionality.\n",
      "  record_batch = self.to_arrow(\n"
     ]
    }
   ],
   "source": [
    "%%bigquery df \n",
    "SELECT * FROM `dhh-ncr-stg.patrick_doupe.cohort_vendor_base`\n",
    "TABLESAMPLE SYSTEM (1 PERCENT)\n",
    "WHERE successful_orders IS NOT NULL"
   ]
  },
  {
   "cell_type": "code",
   "execution_count": 3,
   "id": "9a346c0c",
   "metadata": {},
   "outputs": [
    {
     "data": {
      "application/vnd.microsoft.datawrangler.viewer.v0+json": {
       "columns": [
        {
         "name": "index",
         "rawType": "int64",
         "type": "integer"
        },
        {
         "name": "entity_id",
         "rawType": "object",
         "type": "string"
        },
        {
         "name": "vendor_id",
         "rawType": "object",
         "type": "string"
        },
        {
         "name": "chain_id",
         "rawType": "object",
         "type": "unknown"
        },
        {
         "name": "chain_name",
         "rawType": "object",
         "type": "unknown"
        },
        {
         "name": "entity",
         "rawType": "object",
         "type": "string"
        },
        {
         "name": "city",
         "rawType": "object",
         "type": "string"
        },
        {
         "name": "area",
         "rawType": "object",
         "type": "string"
        },
        {
         "name": "fixed_vendor_grade",
         "rawType": "object",
         "type": "string"
        },
        {
         "name": "fixed_is_new_vendor",
         "rawType": "boolean",
         "type": "boolean"
        },
        {
         "name": "cuisine",
         "rawType": "object",
         "type": "string"
        },
        {
         "name": "budget",
         "rawType": "object",
         "type": "unknown"
        },
        {
         "name": "key_account_sub_category",
         "rawType": "object",
         "type": "string"
        },
        {
         "name": "cuisine_ids",
         "rawType": "object",
         "type": "unknown"
        },
        {
         "name": "successful_orders",
         "rawType": "Int64",
         "type": "integer"
        },
        {
         "name": "total_orders",
         "rawType": "Int64",
         "type": "integer"
        },
        {
         "name": "new_customer_orders",
         "rawType": "Int64",
         "type": "integer"
        },
        {
         "name": "retained_customers",
         "rawType": "Int64",
         "type": "integer"
        },
        {
         "name": "successful_customers",
         "rawType": "Int64",
         "type": "integer"
        }
       ],
       "ref": "c03d1e03-351d-4974-8e50-b931658eb308",
       "rows": [
        [
         "0",
         "FP_SG",
         "j53g",
         null,
         null,
         "fp_sg",
         "Singapore",
         "UNK",
         "D",
         "False",
         "Chinese",
         "['1' 'NA']",
         "Local Hero",
         "['73' '38' '39' '71']",
         "33",
         "33",
         "18",
         "6",
         "21"
        ],
        [
         "1",
         "FP_SG",
         "iz2f",
         null,
         null,
         "fp_sg",
         "Singapore",
         "UNK",
         "D",
         "False",
         "UNK",
         "['2' 'NA' '1']",
         "Local Hero",
         "['53']",
         "102",
         "113",
         "37",
         "39",
         "71"
        ],
        [
         "2",
         "FP_SG",
         "x8qj",
         null,
         null,
         "fp_sg",
         "Singapore",
         "UNK",
         "D",
         "False",
         "UNK",
         "['1' '3' '2']",
         "UNK",
         "['59' '58' '115' '67' '35' '44' '49' '64' '39']",
         "98",
         "106",
         "19",
         "38",
         "52"
        ],
        [
         "3",
         "FP_SG",
         "mqoa",
         null,
         null,
         "fp_sg",
         "Singapore",
         "UNK",
         "D",
         "False",
         "Asian",
         "['2' 'NA']",
         "UNK",
         "['53' '39']",
         "23",
         "25",
         "16",
         "4",
         "16"
        ],
        [
         "4",
         "FP_SG",
         "pxr3",
         null,
         null,
         "fp_sg",
         "Singapore",
         "UNK",
         "D",
         "False",
         "Malaysian",
         "['1' 'NA']",
         "UNK",
         "['39' '104' '87']",
         "33",
         "39",
         "25",
         "5",
         "25"
        ]
       ],
       "shape": {
        "columns": 18,
        "rows": 5
       }
      },
      "text/html": [
       "<div>\n",
       "<style scoped>\n",
       "    .dataframe tbody tr th:only-of-type {\n",
       "        vertical-align: middle;\n",
       "    }\n",
       "\n",
       "    .dataframe tbody tr th {\n",
       "        vertical-align: top;\n",
       "    }\n",
       "\n",
       "    .dataframe thead th {\n",
       "        text-align: right;\n",
       "    }\n",
       "</style>\n",
       "<table border=\"1\" class=\"dataframe\">\n",
       "  <thead>\n",
       "    <tr style=\"text-align: right;\">\n",
       "      <th></th>\n",
       "      <th>entity_id</th>\n",
       "      <th>vendor_id</th>\n",
       "      <th>chain_id</th>\n",
       "      <th>chain_name</th>\n",
       "      <th>entity</th>\n",
       "      <th>city</th>\n",
       "      <th>area</th>\n",
       "      <th>fixed_vendor_grade</th>\n",
       "      <th>fixed_is_new_vendor</th>\n",
       "      <th>cuisine</th>\n",
       "      <th>budget</th>\n",
       "      <th>key_account_sub_category</th>\n",
       "      <th>cuisine_ids</th>\n",
       "      <th>successful_orders</th>\n",
       "      <th>total_orders</th>\n",
       "      <th>new_customer_orders</th>\n",
       "      <th>retained_customers</th>\n",
       "      <th>successful_customers</th>\n",
       "    </tr>\n",
       "  </thead>\n",
       "  <tbody>\n",
       "    <tr>\n",
       "      <th>0</th>\n",
       "      <td>FP_SG</td>\n",
       "      <td>j53g</td>\n",
       "      <td>None</td>\n",
       "      <td>None</td>\n",
       "      <td>fp_sg</td>\n",
       "      <td>Singapore</td>\n",
       "      <td>UNK</td>\n",
       "      <td>D</td>\n",
       "      <td>False</td>\n",
       "      <td>Chinese</td>\n",
       "      <td>[1, NA]</td>\n",
       "      <td>Local Hero</td>\n",
       "      <td>[73, 38, 39, 71]</td>\n",
       "      <td>33</td>\n",
       "      <td>33</td>\n",
       "      <td>18</td>\n",
       "      <td>6</td>\n",
       "      <td>21</td>\n",
       "    </tr>\n",
       "    <tr>\n",
       "      <th>1</th>\n",
       "      <td>FP_SG</td>\n",
       "      <td>iz2f</td>\n",
       "      <td>None</td>\n",
       "      <td>None</td>\n",
       "      <td>fp_sg</td>\n",
       "      <td>Singapore</td>\n",
       "      <td>UNK</td>\n",
       "      <td>D</td>\n",
       "      <td>False</td>\n",
       "      <td>UNK</td>\n",
       "      <td>[2, NA, 1]</td>\n",
       "      <td>Local Hero</td>\n",
       "      <td>[53]</td>\n",
       "      <td>102</td>\n",
       "      <td>113</td>\n",
       "      <td>37</td>\n",
       "      <td>39</td>\n",
       "      <td>71</td>\n",
       "    </tr>\n",
       "    <tr>\n",
       "      <th>2</th>\n",
       "      <td>FP_SG</td>\n",
       "      <td>x8qj</td>\n",
       "      <td>None</td>\n",
       "      <td>None</td>\n",
       "      <td>fp_sg</td>\n",
       "      <td>Singapore</td>\n",
       "      <td>UNK</td>\n",
       "      <td>D</td>\n",
       "      <td>False</td>\n",
       "      <td>UNK</td>\n",
       "      <td>[1, 3, 2]</td>\n",
       "      <td>UNK</td>\n",
       "      <td>[59, 58, 115, 67, 35, 44, 49, 64, 39]</td>\n",
       "      <td>98</td>\n",
       "      <td>106</td>\n",
       "      <td>19</td>\n",
       "      <td>38</td>\n",
       "      <td>52</td>\n",
       "    </tr>\n",
       "    <tr>\n",
       "      <th>3</th>\n",
       "      <td>FP_SG</td>\n",
       "      <td>mqoa</td>\n",
       "      <td>None</td>\n",
       "      <td>None</td>\n",
       "      <td>fp_sg</td>\n",
       "      <td>Singapore</td>\n",
       "      <td>UNK</td>\n",
       "      <td>D</td>\n",
       "      <td>False</td>\n",
       "      <td>Asian</td>\n",
       "      <td>[2, NA]</td>\n",
       "      <td>UNK</td>\n",
       "      <td>[53, 39]</td>\n",
       "      <td>23</td>\n",
       "      <td>25</td>\n",
       "      <td>16</td>\n",
       "      <td>4</td>\n",
       "      <td>16</td>\n",
       "    </tr>\n",
       "    <tr>\n",
       "      <th>4</th>\n",
       "      <td>FP_SG</td>\n",
       "      <td>pxr3</td>\n",
       "      <td>None</td>\n",
       "      <td>None</td>\n",
       "      <td>fp_sg</td>\n",
       "      <td>Singapore</td>\n",
       "      <td>UNK</td>\n",
       "      <td>D</td>\n",
       "      <td>False</td>\n",
       "      <td>Malaysian</td>\n",
       "      <td>[1, NA]</td>\n",
       "      <td>UNK</td>\n",
       "      <td>[39, 104, 87]</td>\n",
       "      <td>33</td>\n",
       "      <td>39</td>\n",
       "      <td>25</td>\n",
       "      <td>5</td>\n",
       "      <td>25</td>\n",
       "    </tr>\n",
       "  </tbody>\n",
       "</table>\n",
       "</div>"
      ],
      "text/plain": [
       "  entity_id vendor_id chain_id chain_name entity       city area  \\\n",
       "0     FP_SG      j53g     None       None  fp_sg  Singapore  UNK   \n",
       "1     FP_SG      iz2f     None       None  fp_sg  Singapore  UNK   \n",
       "2     FP_SG      x8qj     None       None  fp_sg  Singapore  UNK   \n",
       "3     FP_SG      mqoa     None       None  fp_sg  Singapore  UNK   \n",
       "4     FP_SG      pxr3     None       None  fp_sg  Singapore  UNK   \n",
       "\n",
       "  fixed_vendor_grade  fixed_is_new_vendor    cuisine      budget  \\\n",
       "0                  D                False    Chinese     [1, NA]   \n",
       "1                  D                False        UNK  [2, NA, 1]   \n",
       "2                  D                False        UNK   [1, 3, 2]   \n",
       "3                  D                False      Asian     [2, NA]   \n",
       "4                  D                False  Malaysian     [1, NA]   \n",
       "\n",
       "  key_account_sub_category                            cuisine_ids  \\\n",
       "0               Local Hero                       [73, 38, 39, 71]   \n",
       "1               Local Hero                                   [53]   \n",
       "2                      UNK  [59, 58, 115, 67, 35, 44, 49, 64, 39]   \n",
       "3                      UNK                               [53, 39]   \n",
       "4                      UNK                          [39, 104, 87]   \n",
       "\n",
       "   successful_orders  total_orders  new_customer_orders  retained_customers  \\\n",
       "0                 33            33                   18                   6   \n",
       "1                102           113                   37                  39   \n",
       "2                 98           106                   19                  38   \n",
       "3                 23            25                   16                   4   \n",
       "4                 33            39                   25                   5   \n",
       "\n",
       "   successful_customers  \n",
       "0                    21  \n",
       "1                    71  \n",
       "2                    52  \n",
       "3                    16  \n",
       "4                    25  "
      ]
     },
     "execution_count": 3,
     "metadata": {},
     "output_type": "execute_result"
    }
   ],
   "source": [
    "df.head()"
   ]
  },
  {
   "cell_type": "code",
   "execution_count": 4,
   "id": "4f120846",
   "metadata": {},
   "outputs": [],
   "source": [
    "def get_adjusted_r2(df: pd.DataFrame, \n",
    "                    col_name: str, \n",
    "                    y_col: str = 'successful_orders',\n",
    "                    continuous: bool = False) -> float:\n",
    "    \"\"\"\n",
    "    wrapper function to extract adjusted r squared \n",
    "    args:\n",
    "        df - dataframe with data\n",
    "        col_name - string of potential cohort dimension column \n",
    "        y_col - string of the performance variable \n",
    "    returns:\n",
    "        adjusted_r_squared - float\n",
    "    \"\"\"\n",
    "    df_tmp = df[[y_col, col_name]].copy()\n",
    "\n",
    "    if continuous:\n",
    "        # Create quartile categories\n",
    "        df_tmp.loc[:, 'QQ'] = pd.qcut(df_tmp[col_name], q=4, labels=['Q1', 'Q2', 'Q3', 'Q4'])\n",
    "\n",
    "        # Create dummy variables\n",
    "        df_X = pd.get_dummies(df_tmp['QQ'], dtype=int, drop_first=True)\n",
    "    else:\n",
    "        df_X = pd.get_dummies(df_tmp[col_name], dtype=int, drop_first=True)\n",
    "    \n",
    "    X = df_X.values\n",
    "    y = df_tmp[y_col].values\n",
    "\n",
    "    X_np = np.asarray(X, dtype=np.float64) \n",
    "    y_np = np.asarray(y, dtype=np.float64) \n",
    "    assert len(X) == len(y), \"X and y have different number of observations\"\n",
    "\n",
    "    # OLS estimation\n",
    "    beta = np.linalg.solve(X_np.T @ X_np, X_np.T @ y_np)\n",
    "    \n",
    "    N, K = X_np.shape\n",
    "\n",
    "    # Calculate R2\n",
    "    y_pred = X @ beta\n",
    "    ss_residual = np.sum((y - y_pred) ** 2)\n",
    "    ss_total = np.sum((y - np.mean(y)) ** 2)\n",
    "    r_squared = 1 - ss_residual / ss_total\n",
    "    # adjust it for the number of predictors\n",
    "    adjusted_r_squared = 1 - ((1 - r_squared) * (N - 1) / (N - K - 1))\n",
    "    \n",
    "    return round(adjusted_r_squared.item(), 4)\n"
   ]
  },
  {
   "cell_type": "code",
   "execution_count": 5,
   "id": "d34fa245",
   "metadata": {},
   "outputs": [],
   "source": [
    "cols_to_check = [\n",
    "    'city',\n",
    "    'area',\n",
    "    'fixed_vendor_grade',\n",
    "    #'fixed_is_new_vendor',\n",
    "    'cuisine',\n",
    "    #'budget',\n",
    "    'key_account_sub_category'\n",
    "]\n",
    "# cuisine_ids << to fix up\n",
    "continuous_cols = [\n",
    "    'new_customer_orders',\n",
    "    'retained_customers',\n",
    "    'successful_customers'\n",
    "]"
   ]
  },
  {
   "cell_type": "code",
   "execution_count": 6,
   "id": "902d1728",
   "metadata": {},
   "outputs": [],
   "source": [
    "results = {}\n",
    "for col in cols_to_check:\n",
    "    try:\n",
    "        tmp = get_adjusted_r2(df, col)\n",
    "    except LinAlgError:\n",
    "        tmp = None\n",
    "    results[col] = tmp \n",
    "\n",
    "for col in continuous_cols:\n",
    "    try:\n",
    "        tmp = get_adjusted_r2(df, col, continuous=True)\n",
    "    except LinAlgError:\n",
    "        tmp = None\n",
    "    results[col] = tmp \n"
   ]
  },
  {
   "cell_type": "code",
   "execution_count": null,
   "id": "599e0514",
   "metadata": {},
   "outputs": [
    {
     "data": {
      "application/vnd.microsoft.datawrangler.viewer.v0+json": {
       "columns": [
        {
         "name": "index",
         "rawType": "int64",
         "type": "integer"
        },
        {
         "name": "Cohort Dimension",
         "rawType": "object",
         "type": "string"
        },
        {
         "name": "Adjusted R2",
         "rawType": "float64",
         "type": "float"
        }
       ],
       "ref": "d86fdb61-6dec-412e-814f-b7b5aa360677",
       "rows": [
        [
         "2",
         "fixed_vendor_grade",
         "0.3596"
        ],
        [
         "7",
         "successful_customers",
         "0.3138"
        ],
        [
         "6",
         "retained_customers",
         "0.3099"
        ],
        [
         "5",
         "new_customer_orders",
         "0.298"
        ],
        [
         "3",
         "cuisine",
         "0.0732"
        ],
        [
         "1",
         "area",
         "0.0709"
        ],
        [
         "0",
         "city",
         "0.0284"
        ],
        [
         "4",
         "key_account_sub_category",
         "-0.0384"
        ]
       ],
       "shape": {
        "columns": 2,
        "rows": 8
       }
      },
      "text/html": [
       "<div>\n",
       "<style scoped>\n",
       "    .dataframe tbody tr th:only-of-type {\n",
       "        vertical-align: middle;\n",
       "    }\n",
       "\n",
       "    .dataframe tbody tr th {\n",
       "        vertical-align: top;\n",
       "    }\n",
       "\n",
       "    .dataframe thead th {\n",
       "        text-align: right;\n",
       "    }\n",
       "</style>\n",
       "<table border=\"1\" class=\"dataframe\">\n",
       "  <thead>\n",
       "    <tr style=\"text-align: right;\">\n",
       "      <th></th>\n",
       "      <th>Cohort Dimension</th>\n",
       "      <th>Adjusted R2</th>\n",
       "    </tr>\n",
       "  </thead>\n",
       "  <tbody>\n",
       "    <tr>\n",
       "      <th>2</th>\n",
       "      <td>fixed_vendor_grade</td>\n",
       "      <td>0.3596</td>\n",
       "    </tr>\n",
       "    <tr>\n",
       "      <th>7</th>\n",
       "      <td>successful_customers</td>\n",
       "      <td>0.3138</td>\n",
       "    </tr>\n",
       "    <tr>\n",
       "      <th>6</th>\n",
       "      <td>retained_customers</td>\n",
       "      <td>0.3099</td>\n",
       "    </tr>\n",
       "    <tr>\n",
       "      <th>5</th>\n",
       "      <td>new_customer_orders</td>\n",
       "      <td>0.2980</td>\n",
       "    </tr>\n",
       "    <tr>\n",
       "      <th>3</th>\n",
       "      <td>cuisine</td>\n",
       "      <td>0.0732</td>\n",
       "    </tr>\n",
       "    <tr>\n",
       "      <th>1</th>\n",
       "      <td>area</td>\n",
       "      <td>0.0709</td>\n",
       "    </tr>\n",
       "    <tr>\n",
       "      <th>0</th>\n",
       "      <td>city</td>\n",
       "      <td>0.0284</td>\n",
       "    </tr>\n",
       "    <tr>\n",
       "      <th>4</th>\n",
       "      <td>key_account_sub_category</td>\n",
       "      <td>-0.0384</td>\n",
       "    </tr>\n",
       "  </tbody>\n",
       "</table>\n",
       "</div>"
      ],
      "text/plain": [
       "           Cohort Dimension  Adjusted R2\n",
       "2        fixed_vendor_grade       0.3596\n",
       "7      successful_customers       0.3138\n",
       "6        retained_customers       0.3099\n",
       "5       new_customer_orders       0.2980\n",
       "3                   cuisine       0.0732\n",
       "1                      area       0.0709\n",
       "0                      city       0.0284\n",
       "4  key_account_sub_category      -0.0384"
      ]
     },
     "execution_count": 7,
     "metadata": {},
     "output_type": "execute_result"
    }
   ],
   "source": [
    "pd.DataFrame(list(results.items()), columns=['Cohort Dimension', 'Adjusted R2']).sort_values(by='Adjusted R2', ascending=False)"
   ]
  },
  {
   "cell_type": "code",
   "execution_count": null,
   "id": "b512aaaa",
   "metadata": {},
   "outputs": [],
   "source": []
  }
 ],
 "metadata": {
  "kernelspec": {
   "display_name": "cohorts-py3.13 (3.13.4)",
   "language": "python",
   "name": "python3"
  },
  "language_info": {
   "codemirror_mode": {
    "name": "ipython",
    "version": 3
   },
   "file_extension": ".py",
   "mimetype": "text/x-python",
   "name": "python",
   "nbconvert_exporter": "python",
   "pygments_lexer": "ipython3",
   "version": "3.13.4"
  }
 },
 "nbformat": 4,
 "nbformat_minor": 5
}
