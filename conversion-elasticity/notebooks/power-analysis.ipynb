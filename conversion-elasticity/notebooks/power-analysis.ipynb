{
 "cells": [
  {
   "cell_type": "markdown",
   "id": "ec42561b",
   "metadata": {},
   "source": [
    "# Power analysis for conversion\n",
    "\n",
    "**Hypothesis**: raising (lowering) the recommended booked budget will lower (raise) conversion.\n",
    "\n",
    "If this is true, we can change the default recommendation to maximise revenue\n",
    "\n",
    "```math\n",
    "\\textup{Revenue}(\\textup{budget recommendation}) = \\textup{conversion}(\\textup{budget recommendation}) \\times \\textup{budget recommendation}\n",
    "```\n",
    "\n",
    "And we can choose the recommendation that maximises $\\textup{DH Revenue}$. This is not our long term goal, which is vendor value. But learning how to measure response to our policies will be necessary to optimise for the more complicated problem of vendor value.\n",
    "\n",
    "We want to estimate the $\\textup{conversion}$ mapping from budget recommendation size to conversion. \n",
    "\n",
    "We can do this by randomly varying the budget recommendation and observing conversion rates.\n",
    "\n",
    "**Findings**\n",
    "\n",
    "1. For a significant difference in a month long basic A/B test, we could detect 10% relative uplift using about 1/3 vendors.\n",
    "2. Our key parameter is the _elasticity_, and we want to test that this is signficantly different from one.\n",
    "\n",
    "*Note*\n",
    "- We can also do this for retention and vendor outcomes. These are both likely to be harder to measure, because they are noisier. First, retention and vendor outcomes are both conditional on self service bookings. The self service booking rate is low, [around 1.5% over 2025](https://tableau.deliveryhero.net/#/site/GlobalStandardReporting/views/SelfBookingAnalytics/MBRproduct?=null&:iid=1)."
   ]
  },
  {
   "cell_type": "code",
   "execution_count": 5,
   "id": "22045da3",
   "metadata": {},
   "outputs": [],
   "source": [
    "from typing import Dict\n",
    "import warnings\n",
    "\n",
    "import matplotlib.pyplot as plt\n",
    "import numpy as np\n",
    "from numpy.random._generator import Generator\n",
    "import pandas as pd\n",
    "from scipy.stats import bootstrap, norm\n",
    "import statsmodels.api as sm\n",
    "from statsmodels.discrete.discrete_model import Logit\n",
    "import statsmodels.formula.api as smf\n",
    "from statsmodels.stats.power import zt_ind_solve_power\n",
    "from statsmodels.stats.proportion import proportion_effectsize\n",
    "\n",
    "warnings.filterwarnings('ignore')\n",
    "\n",
    "rng = np.random.default_rng(1312)"
   ]
  },
  {
   "cell_type": "markdown",
   "id": "8d4ee6fc",
   "metadata": {},
   "source": [
    "- Based on the [Self Booking dashboard](https://tableau.deliveryhero.net/#/site/GlobalStandardReporting/views/SelfBookingAnalytics/MBRproduct?=null&:iid=1), we have a Vendor Portal Conversion Rate around 1.5%.\n",
    "- We use standard power of 0.8 and type two error rate bound of 0.05\n",
    "- We have around 650k users per month\n"
   ]
  },
  {
   "cell_type": "markdown",
   "id": "562c5420",
   "metadata": {},
   "source": [
    "# Let's simulate some data and recover parameters\n",
    "\n"
   ]
  },
  {
   "cell_type": "markdown",
   "id": "014937e4",
   "metadata": {},
   "source": [
    "## We want to estimate the elasticity\n",
    "\n",
    "$$\n",
    "\\epsilon_c = \\frac{\\% \\Delta \\textup{Conversions}}{\\% \\Delta \\textup{Recommended Budget}}\n",
    "$$\n",
    "\n",
    "where\n",
    "$$\n",
    "\\% \\Delta \\textup{Conversions} = \\frac{\\textup{Conversions with higher budget - Conversions with same budget}}{\n",
    "    \\textup{Conversions with same budget}} \\\\ \n",
    "    \\\\\n",
    "    = \\frac{\\mathbf{E}[\\textup{Conversions} | \\textup{higher budget}] - \\mathbf{E}[\\textup{Conversions} | \\textup{same budget}]}{\n",
    "        \\mathbf{E}[\\textup{Conversions} | \\textup{same budget}]}\n",
    "$$\n",
    "\n",
    "and the the percentage change in Recommended Budget is what we set in our experiment.\n",
    "\n",
    "## How we estimate the elasticity\n",
    "\n",
    "The percentage change we know, we set e.g. 10% higher prices.\n",
    "\n",
    "For the percentage change in conversions, we can use plug in estimators of the mean\n",
    "\n",
    "$$\n",
    "\\hat{\\%\\Delta\\textup{Conversions}} =\\frac{\\frac{1}{n_h}\\sum_{i=1}^{n_h} \\textup{Conversion}_{h,i} - \\frac{1}{n_s}\\sum_{i=1}^{n_s} \\textup{Conversion}_{s,i}}{\\frac{1}{n_s}\\sum_{i=1}^{n_s} \\textup{Conversion}_{s,i}}\n",
    "$$\n",
    "\n",
    "where $h$ and $s$ indicate the users in experimental variants with $higher$ and the $same$ budget respectively. This is the relative change in Eppo!\n",
    "\n",
    "So our elasticity estimate is\n",
    "\n",
    "$$\n",
    "\\hat{\\epsilon_c} = \\frac{\\hat{\\%\\Delta\\textup{Conversions}}}{\\textup{Change in budget}}\n",
    "$$\n",
    "\n",
    "For standard errors, here we use the bootstrap. But in practice, we'll just need to augment Eppo's standard errors, because we are dividing by a constant. Let $Y$ be the relative change in conversions\n",
    "\n",
    "$$ \n",
    "\\textup{var}(\\hat{\\epsilon_c}) = \\textup{Var}(\\frac{\\%\\Delta \\textup{Conversions}}{\\textup{Change in budget}})\\\\\n",
    "= \\frac{1}{\\textup{Change in budget}^2}\\textup{Var}(\\%\\Delta \\textup{Conversions})\n",
    "$$\n",
    "\n",
    "We can pull out the variance from Eppo and divide it by the change in budget squared. For standard errors, we divide this by the change in budget. For a budget change of 10%, we increase standard errors by a factor of 10.\n"
   ]
  },
  {
   "cell_type": "code",
   "execution_count": null,
   "id": "da508523",
   "metadata": {},
   "outputs": [],
   "source": [
    "def get_variant_conversions(sample_size: int, \n",
    "                            conversion_rate: float, \n",
    "                            rng_: Generator = rng) -> np.ndarray[int]:\n",
    "    return rng_.binomial(1, conversion_rate, sample_size)\n",
    "\n",
    "def get_pc_delta_conversions(conversions_treatment: np.ndarray,\n",
    "                             conversions_control: np.ndarray) -> float:\n",
    "    \"\"\"\n",
    "        Calculates the percentage change in conversions between treatment and control variants\n",
    "    \"\"\"\n",
    "    mean_treatment = np.mean(conversions_treatment)\n",
    "    mean_control = np.mean(conversions_control)\n",
    "    return (mean_treatment - mean_control) / mean_control \n",
    "\n",
    "def get_elasticity_estimate(conversions_treatment: np.ndarray,\n",
    "                            conversions_control: np.ndarray,\n",
    "                            budget_change: float) -> float:\n",
    "    \"\"\"\n",
    "        Calculates the elasticity given outcomes and treatment effect size\n",
    "    \"\"\"\n",
    "    numerator = get_pc_delta_conversions(conversions_treatment, conversions_control)\n",
    "    denominator = budget_change\n",
    "    return numerator / denominator"
   ]
  },
  {
   "cell_type": "code",
   "execution_count": null,
   "id": "759f3205",
   "metadata": {},
   "outputs": [],
   "source": [
    "\n",
    "def delta_se(treatment, control, pc_change=None):\n",
    "    \"\"\"\n",
    "    Calculate standard error of relative change (treatment - control) / control with Delta Method\n",
    "    for binary conversion vectors using delta method. Optionally calculate elasticity.\n",
    "    \n",
    "    Parameters:\n",
    "    treatment: array-like of 0s and 1s (treatment group conversions)\n",
    "    control: array-like of 0s and 1s (control group conversions)\n",
    "    pc_change: float in (0, 1), percentage change in budget/price (e.g., 0.1 for 10% increase)\n",
    "    \n",
    "    Returns:\n",
    "    dict with relative_change, standard_error, elasticity (if pc_change provided), and intermediate values\n",
    "    \"\"\"\n",
    "    treatment = np.array(treatment)\n",
    "    control = np.array(control)\n",
    "    \n",
    "    # Sample sizes\n",
    "    n_t = len(treatment)\n",
    "    n_c = len(control)\n",
    "    \n",
    "    # Sample proportions\n",
    "    p_t = np.mean(treatment)\n",
    "    p_c = np.mean(control)\n",
    "    \n",
    "    # Relative change estimate\n",
    "    relative_change = (p_t - p_c) / p_c\n",
    "    \n",
    "    # Delta method variance calculation\n",
    "    # Var(θ) = (1/n_c) * [p_t(1-p_t)/p_c^2] + (1/n_c) * [(1-p_c)(p_t-p_c)^2/p_c^3]\n",
    "    # when n_t = n_c = n, otherwise use separate terms\n",
    "    \n",
    "    var_term1 = p_t * (1 - p_t) / (n_t * p_c**2)\n",
    "    var_term2 = p_t**2 * (1 - p_c) / (n_c * p_c**3)\n",
    "    \n",
    "    variance = var_term1 + var_term2\n",
    "    standard_error = np.sqrt(variance)\n",
    "    # Elasticity = (% change in conversions) / (% change in budget/price)\n",
    "    elasticity = relative_change / pc_change \n",
    "    # Elasticity variance scales by 1/pc_change^2\n",
    "    # se scales by 1/pc_change\n",
    "    elasticity_se = standard_error / pc_change\n",
    "    \n",
    "    CI_low = elasticity - 1.96*elasticity_se\n",
    "    CI_high = elasticity + 1.96*elasticity_se\n",
    "        \n",
    "    return {\n",
    "            'pc_change': pc_change,\n",
    "            'elasticity': elasticity,\n",
    "            'elasticity_se': elasticity_se,\n",
    "            'ci_low': CI_low,\n",
    "            'ci_high': CI_high\n",
    "    }"
   ]
  },
  {
   "cell_type": "markdown",
   "id": "475e8e68",
   "metadata": {},
   "source": [
    "### A single example\n",
    "\n",
    "Let's compare the confidence interval widths for both Delta Method and Bootstrap estimators"
   ]
  },
  {
   "cell_type": "code",
   "execution_count": null,
   "id": "1b48fa6a",
   "metadata": {},
   "outputs": [
    {
     "name": "stdout",
     "output_type": "stream",
     "text": [
      "==================================================\n",
      "\t\t Delta Method\n",
      "==================================================\n",
      "The average estimate is -0.989\n",
      "The average CI width is 1.160\n",
      "The CI contains the truth 40.000% of the time\n",
      "==================================================\n",
      "\t\t Bootstrap estimates\n",
      "==================================================\n",
      "The average estimate is -0.989\n",
      "The average CI width is 1.039\n",
      "The CI contains the truth 40.000% of the time\n",
      "\n",
      "\n",
      "The true elasticity is -1\n"
     ]
    }
   ],
   "source": [
    "samples_per_variant = 10000\n",
    "baseline_cr = 0.015\n",
    "elasticity = -1\n",
    "budget_change = 0.1\n",
    "relative_treatment_effect = elasticity * budget_change\n",
    "treatment_cr = baseline_cr * (1 + relative_treatment_effect)\n",
    "\n",
    "elasticity_calc_wrapper = lambda x, y, bc=budget_change: get_elasticity_estimate(x, y, budget_change=bc)\n",
    "\n",
    "e_estimates = []\n",
    "ci_width_estimates = []\n",
    "dm_contains_truth = []\n",
    "bootstrap_estimates = []\n",
    "bs_ci_width_estimates = []\n",
    "bs_contains_truth = []\n",
    "\n",
    "for i in range(1000):\n",
    "\n",
    "    control_conversions = get_variant_conversions(samples_per_variant, baseline_cr, rng)\n",
    "    treatment_conversions = get_variant_conversions(samples_per_variant, treatment_cr, rng)\n",
    "\n",
    "    delta_method = delta_se(treatment_conversions, control_conversions, budget_change)\n",
    "\n",
    "    e_estimates.append(delta_method['elasticity'])\n",
    "    ci_width_estimates.append(delta_method['ci_high'] - delta_method['ci_low'])\n",
    "\n",
    "    if abs(delta_method['elasticity'] - relative_treatment_effect) < (delta_method['ci_high'] - delta_method['ci_low']) / 2:\n",
    "        dm_contains_truth.append(True)\n",
    "    else:\n",
    "        dm_contains_truth.append(False)\n",
    "    \n",
    "    data_tuple = (treatment_conversions, control_conversions)\n",
    "\n",
    "    bs_result = bootstrap(\n",
    "        data=data_tuple,\n",
    "        statistic=elasticity_calc_wrapper,\n",
    "        n_resamples=1000,\n",
    "        method='BCa',\n",
    "        random_state=rng\n",
    "    )\n",
    "    bs_ci = bs_result.confidence_interval\n",
    "    bs_ci_width = bs_ci.high - bs_ci.low\n",
    "    point_estimate = get_pc_delta_conversions(treatment_conversions, control_conversions) / budget_change\n",
    "\n",
    "    bootstrap_estimates.append(point_estimate)\n",
    "    bs_ci_width_estimates.append(bs_ci_width)\n",
    "\n",
    "    if abs(point_estimate - relative_treatment_effect) < (bs_ci_width) / 2:\n",
    "        bs_contains_truth.append(True)\n",
    "    else:\n",
    "        bs_contains_truth.append(False)\n",
    "\n",
    "print(\"=\" * 50)\n",
    "print(\"\\t\\t Delta Method\")\n",
    "print(\"=\" * 50)\n",
    "print(f\"The average estimate is {np.mean(e_estimates):.3f}\")\n",
    "print(f\"The average CI width is {np.mean(ci_width_estimates):.3f}\")\n",
    "print(f\"The CI contains the truth {100*np.mean(dm_contains_truth):.3f}% of the time\")\n",
    "\n",
    "print(\"=\" * 50)\n",
    "print(\"\\t\\t Bootstrap estimates\")\n",
    "print(\"=\" * 50)\n",
    "print(f\"The average estimate is {np.mean(bootstrap_estimates):.3f}\")\n",
    "print(f\"The average CI width is {np.mean(bs_ci_width_estimates):.3f}\")\n",
    "print(f\"The CI contains the truth {100*np.mean(bs_contains_truth):.3f}% of the time\")\n",
    "\n",
    "print(\"\\n\")\n",
    "print(f\"The true elasticity is {elasticity}\")"
   ]
  },
  {
   "cell_type": "code",
   "execution_count": 52,
   "id": "81179ea8",
   "metadata": {},
   "outputs": [],
   "source": [
    "samples_per_variant = 5000\n",
    "baseline_cr = 0.015\n",
    "elasticity = -1\n",
    "budget_change = 0.10\n",
    "\n",
    "delta_method_mean = []\n",
    "delta_method_ci_width = []\n",
    "delta_coverage = []\n",
    "bootstrap_mean = []\n",
    "bootstrap_ci_width = []\n",
    "bootstrap_coverage = []\n",
    "\n",
    "baseline_conversion_rate_list = [0.01, 0.02] # 0.05, 0.1, 0.2, 0.35, 0.5]\n",
    "\n",
    "for baseline_cr in baseline_conversion_rate_list:\n",
    "    treatment_effect = elasticity * budget_change\n",
    "    treatment_cr = baseline_cr * (1 + treatment_effect)\n",
    "    \n",
    "    e_estimates = []\n",
    "    ci_width_estimates = []\n",
    "    dm_contains_truth = []\n",
    "    bootstrap_estimates = []\n",
    "    bs_ci_width_estimates = []\n",
    "    bs_contains_truth = []\n",
    "\n",
    "\n",
    "    for i in range(10):\n",
    "\n",
    "        control_conversions = get_variant_conversions(samples_per_variant, baseline_cr, rng)\n",
    "        treatment_conversions = get_variant_conversions(samples_per_variant, treatment_cr, rng)\n",
    "\n",
    "        delta_method = delta_se(treatment_conversions, control_conversions, budget_change)\n",
    "\n",
    "        e_estimates.append(delta_method['elasticity'])\n",
    "        ci_width_estimates.append(delta_method['ci_high'] - delta_method['ci_low'])\n",
    "\n",
    "        if abs(delta_method['elasticity'] - relative_treatment_effect) < (delta_method['ci_high'] - delta_method['ci_low']) / 2:\n",
    "            dm_contains_truth.append(True)\n",
    "        else:\n",
    "            dm_contains_truth.append(False)\n",
    "        \n",
    "        data_tuple = (treatment_conversions, control_conversions)\n",
    "\n",
    "        bs_result = bootstrap(\n",
    "            data=data_tuple,\n",
    "            statistic=elasticity_calc_wrapper,\n",
    "            n_resamples=10,\n",
    "            method='BCa',\n",
    "            random_state=rng\n",
    "        )\n",
    "        bs_ci = bs_result.confidence_interval\n",
    "        bs_ci_width = bs_ci.high - bs_ci.low\n",
    "        point_estimate = get_pc_delta_conversions(treatment_conversions, control_conversions) / budget_change\n",
    "\n",
    "        bootstrap_estimates.append(point_estimate)\n",
    "        bs_ci_width_estimates.append(bs_ci_width)\n",
    "\n",
    "        if abs(point_estimate - relative_treatment_effect) < (bs_ci_width) / 2:\n",
    "            bs_contains_truth.append(True)\n",
    "        else:\n",
    "            bs_contains_truth.append(False)\n",
    "\n",
    "    delta_method_mean.append(np.mean(e_estimates))\n",
    "    delta_method_ci_width.append(np.mean(ci_width_estimates))\n",
    "    delta_coverage.append(np.mean(dm_contains_truth))\n",
    "    bootstrap_mean.append(np.mean(bootstrap_estimates))\n",
    "    bootstrap_ci_width.append(np.mean(bs_ci_width_estimates))\n",
    "    bootstrap_coverage.append(np.mean(bs_contains_truth))\n",
    "\n",
    "\n",
    "df_bs_dm = pd.DataFrame(\n",
    "    {'cr': baseline_conversion_rate_list,\n",
    "     'dm_mean': delta_method_mean,\n",
    "     'dm_ci_w': delta_method_ci_width,\n",
    "     'dm_calibration': delta_coverage,\n",
    "     'bs_mean': bootstrap_mean,\n",
    "     'bs_ci_w': bootstrap_ci_width,\n",
    "     'bs_calibration': bootstrap_coverage}\n",
    ")"
   ]
  },
  {
   "cell_type": "code",
   "execution_count": 26,
   "id": "85197040",
   "metadata": {},
   "outputs": [
    {
     "data": {
      "application/vnd.microsoft.datawrangler.viewer.v0+json": {
       "columns": [
        {
         "name": "index",
         "rawType": "int64",
         "type": "integer"
        },
        {
         "name": "cr",
         "rawType": "float64",
         "type": "float"
        },
        {
         "name": "dm_mean",
         "rawType": "float64",
         "type": "float"
        },
        {
         "name": "dm_ci_w",
         "rawType": "float64",
         "type": "float"
        },
        {
         "name": "bs_mean",
         "rawType": "float64",
         "type": "float"
        },
        {
         "name": "bs_ci_w",
         "rawType": "float64",
         "type": "float"
        }
       ],
       "ref": "eefa6396-4e6a-4fc0-ae12-fc1e43e8815f",
       "rows": [
        [
         "0",
         "0.01",
         "-0.19255944238219716",
         "5.821756662479161",
         "-0.5824677696108738",
         "0.33149851005533376"
        ],
        [
         "1",
         "0.02",
         "-0.013715551055891995",
         "4.013122111920042",
         "-0.5735255750445585",
         "0.2389594315587384"
        ],
        [
         "2",
         "0.05",
         "-0.8877808985583217",
         "2.3513139332422144",
         "-0.6172288424196799",
         "0.18200985359038677"
        ],
        [
         "3",
         "0.1",
         "-1.0421570162303588",
         "1.5955602214644578",
         "-0.6249476483032816",
         "0.14565390610802476"
        ],
        [
         "4",
         "0.2",
         "-1.063908155615479",
         "1.066074987025737",
         "-0.6260352052725379",
         "0.12443364509869306"
        ],
        [
         "5",
         "0.35",
         "-0.9367036846584554",
         "0.741050711709047",
         "-0.6196749817246866",
         "0.10219075274834837"
        ],
        [
         "6",
         "0.5",
         "-1.0196020625604656",
         "0.554520806639631",
         "-0.6238199006197872",
         "0.0914762862036624"
        ]
       ],
       "shape": {
        "columns": 5,
        "rows": 7
       }
      },
      "text/html": [
       "<div>\n",
       "<style scoped>\n",
       "    .dataframe tbody tr th:only-of-type {\n",
       "        vertical-align: middle;\n",
       "    }\n",
       "\n",
       "    .dataframe tbody tr th {\n",
       "        vertical-align: top;\n",
       "    }\n",
       "\n",
       "    .dataframe thead th {\n",
       "        text-align: right;\n",
       "    }\n",
       "</style>\n",
       "<table border=\"1\" class=\"dataframe\">\n",
       "  <thead>\n",
       "    <tr style=\"text-align: right;\">\n",
       "      <th></th>\n",
       "      <th>cr</th>\n",
       "      <th>dm_mean</th>\n",
       "      <th>dm_ci_w</th>\n",
       "      <th>bs_mean</th>\n",
       "      <th>bs_ci_w</th>\n",
       "    </tr>\n",
       "  </thead>\n",
       "  <tbody>\n",
       "    <tr>\n",
       "      <th>0</th>\n",
       "      <td>0.01</td>\n",
       "      <td>-0.192559</td>\n",
       "      <td>5.821757</td>\n",
       "      <td>-0.582468</td>\n",
       "      <td>0.331499</td>\n",
       "    </tr>\n",
       "    <tr>\n",
       "      <th>1</th>\n",
       "      <td>0.02</td>\n",
       "      <td>-0.013716</td>\n",
       "      <td>4.013122</td>\n",
       "      <td>-0.573526</td>\n",
       "      <td>0.238959</td>\n",
       "    </tr>\n",
       "    <tr>\n",
       "      <th>2</th>\n",
       "      <td>0.05</td>\n",
       "      <td>-0.887781</td>\n",
       "      <td>2.351314</td>\n",
       "      <td>-0.617229</td>\n",
       "      <td>0.182010</td>\n",
       "    </tr>\n",
       "    <tr>\n",
       "      <th>3</th>\n",
       "      <td>0.10</td>\n",
       "      <td>-1.042157</td>\n",
       "      <td>1.595560</td>\n",
       "      <td>-0.624948</td>\n",
       "      <td>0.145654</td>\n",
       "    </tr>\n",
       "    <tr>\n",
       "      <th>4</th>\n",
       "      <td>0.20</td>\n",
       "      <td>-1.063908</td>\n",
       "      <td>1.066075</td>\n",
       "      <td>-0.626035</td>\n",
       "      <td>0.124434</td>\n",
       "    </tr>\n",
       "    <tr>\n",
       "      <th>5</th>\n",
       "      <td>0.35</td>\n",
       "      <td>-0.936704</td>\n",
       "      <td>0.741051</td>\n",
       "      <td>-0.619675</td>\n",
       "      <td>0.102191</td>\n",
       "    </tr>\n",
       "    <tr>\n",
       "      <th>6</th>\n",
       "      <td>0.50</td>\n",
       "      <td>-1.019602</td>\n",
       "      <td>0.554521</td>\n",
       "      <td>-0.623820</td>\n",
       "      <td>0.091476</td>\n",
       "    </tr>\n",
       "  </tbody>\n",
       "</table>\n",
       "</div>"
      ],
      "text/plain": [
       "     cr   dm_mean   dm_ci_w   bs_mean   bs_ci_w\n",
       "0  0.01 -0.192559  5.821757 -0.582468  0.331499\n",
       "1  0.02 -0.013716  4.013122 -0.573526  0.238959\n",
       "2  0.05 -0.887781  2.351314 -0.617229  0.182010\n",
       "3  0.10 -1.042157  1.595560 -0.624948  0.145654\n",
       "4  0.20 -1.063908  1.066075 -0.626035  0.124434\n",
       "5  0.35 -0.936704  0.741051 -0.619675  0.102191\n",
       "6  0.50 -1.019602  0.554521 -0.623820  0.091476"
      ]
     },
     "execution_count": 26,
     "metadata": {},
     "output_type": "execute_result"
    }
   ],
   "source": [
    "df_bs_dm"
   ]
  },
  {
   "cell_type": "code",
   "execution_count": 53,
   "id": "e3822d27",
   "metadata": {},
   "outputs": [
    {
     "data": {
      "text/plain": [
       "[<matplotlib.lines.Line2D at 0x328d416d0>]"
      ]
     },
     "execution_count": 53,
     "metadata": {},
     "output_type": "execute_result"
    },
    {
     "data": {
      "image/png": "[encoded data removed]",
      "text/plain": [
       "<Figure size 640x480 with 1 Axes>"
      ]
     },
     "metadata": {},
     "output_type": "display_data"
    }
   ],
   "source": [
    "plt.plot(\n",
    "    df_bs_dm.cr,\n",
    "    df_bs_dm.dm_mean,\n",
    "    label='Delta Method'\n",
    ")\n",
    "plt.plot(\n",
    "    df_bs_dm.cr,\n",
    "    df_bs_dm.bs_mean,\n",
    "    label='Bootstrap'\n",
    ")\n",
    "plt.plot(\n",
    "    df_bs_dm.cr,\n",
    "    [-1] * len(df_bs_dm.cr),\n",
    "    label='Elasticity'\n",
    ")"
   ]
  },
  {
   "cell_type": "markdown",
   "id": "c3a64d7a",
   "metadata": {},
   "source": [
    "Eppo uses the [Delta Method](https://docs.geteppo.com/statistics/confidence-intervals/statistical-nitty-gritty/#frequentist-analysis)"
   ]
  },
  {
   "cell_type": "code",
   "execution_count": 54,
   "id": "ac01e658",
   "metadata": {},
   "outputs": [
    {
     "data": {
      "text/plain": [
       "<matplotlib.legend.Legend at 0x328d98190>"
      ]
     },
     "execution_count": 54,
     "metadata": {},
     "output_type": "execute_result"
    },
    {
     "data": {
      "image/png": "[encoded data removed]",
      "text/plain": [
       "<Figure size 640x480 with 1 Axes>"
      ]
     },
     "metadata": {},
     "output_type": "display_data"
    }
   ],
   "source": [
    "plt.plot(\n",
    "    df_bs_dm.cr,\n",
    "    df_bs_dm.dm_ci_w,\n",
    "    label='Delta Method'\n",
    ")\n",
    "plt.plot(\n",
    "    df_bs_dm.cr,\n",
    "    df_bs_dm.bs_ci_w,\n",
    "    label='Bootstrap'\n",
    ")\n",
    "plt.title(\"Delta Method has more conservative CI widths.\\n Prohibitively so at lower conversion rates\")\n",
    "plt.xlabel(\"Conversion rates\")\n",
    "plt.ylabel(\"95% CI width\")\n",
    "plt.legend()"
   ]
  },
  {
   "cell_type": "code",
   "execution_count": 33,
   "id": "a3c2f680",
   "metadata": {},
   "outputs": [
    {
     "data": {
      "text/plain": [
       "np.float64(0.0)"
      ]
     },
     "execution_count": 33,
     "metadata": {},
     "output_type": "execute_result"
    }
   ],
   "source": [
    "experiment_df = df.loc[df.assignment != 'down']\n",
    "experiment_df['treatment'] = np.where([a == 'up' for a in experiment_df.assignment.values], budget_change, 0)\n",
    "\n",
    "model = smf.glm(formula='conversion ~ treatment', data=experiment_df, family=sm.families.Binomial()).fit()\n",
    "model.params['treatment']"
   ]
  },
  {
   "cell_type": "code",
   "execution_count": 30,
   "id": "50b7b1bd",
   "metadata": {},
   "outputs": [
    {
     "data": {
      "text/plain": [
       "np.float64(nan)"
      ]
     },
     "execution_count": 30,
     "metadata": {},
     "output_type": "execute_result"
    }
   ],
   "source": [
    "experiment_df['prediction'] = model.predict()\n",
    "pred_treatment = experiment_df.loc[experiment_df.treatment != 0].prediction\n",
    "pred_control = experiment_df.loc[experiment_df.treatment == 0].prediction\n",
    "np.log(np.mean(pred_treatment)) - np.log(np.mean(pred_control)) / np.log(budget_change * 100)"
   ]
  },
  {
   "cell_type": "markdown",
   "id": "4d093d28",
   "metadata": {},
   "source": [
    "Fit a model outcome ~ treat + covariates (clustered), then compute predicted probabilities for each arm p̂_t, p̂_c. Then elasticity:\n",
    "elasticity = [log(p̂_t) - log(p̂_c)] / log(P_t / P_c)\n",
    "\n",
    "Get CIs by cluster bootstrap (resample clusters with replacement, recompute both predicted probs and elasticity each bootstrap)."
   ]
  },
  {
   "cell_type": "code",
   "execution_count": 289,
   "id": "419aa5b5",
   "metadata": {},
   "outputs": [
    {
     "data": {
      "text/html": [
       "<table class=\"simpletable\">\n",
       "<caption>GLM Marginal Effects</caption>\n",
       "<tr>\n",
       "  <th>Dep. Variable:</th> <td>conversion</td>\n",
       "</tr>\n",
       "<tr>\n",
       "  <th>Method:</th>           <td>eydx</td>   \n",
       "</tr>\n",
       "<tr>\n",
       "  <th>At:</th>              <td>overall</td> \n",
       "</tr>\n",
       "</table>\n",
       "<table class=\"simpletable\">\n",
       "<tr>\n",
       "      <th></th>       <th>d(lny)/dx</th>  <th>std err</th>      <th>z</th>      <th>P>|z|</th>  <th>[0.025</th>    <th>0.975]</th>  \n",
       "</tr>\n",
       "<tr>\n",
       "  <th>treatment</th> <td>   -1.3717</td> <td>    0.076</td> <td>  -18.077</td> <td> 0.000</td> <td>   -1.520</td> <td>   -1.223</td>\n",
       "</tr>\n",
       "</table>"
      ],
      "text/latex": [
       "\\begin{center}\n",
       "\\begin{tabular}{lc}\n",
       "\\toprule\n",
       "\\textbf{Dep. Variable:} &     conversion      \\\\\n",
       "\\textbf{Method:}        &        eydx         \\\\\n",
       "\\textbf{At:}            &      overall        \\\\\n",
       "\\bottomrule\n",
       "\\end{tabular}\n",
       "\\begin{tabular}{ccccccc}\n",
       "    \\textbf{}      & \\textbf{d(lny)/dx} & \\textbf{std err} & \\textbf{z} & \\textbf{P$> |$z$|$} & \\textbf{[0.025} & \\textbf{0.975]}  \\\\\n",
       "\\midrule\n",
       "\\bottomrule\n",
       "\\end{tabular}\n",
       "\\begin{tabular}{lcccccc}\n",
       "\\textbf{treatment} &        -1.3717     &        0.076     &   -18.077  &         0.000        &       -1.520    &       -1.223     \\\\\n",
       "\\bottomrule\n",
       "\\end{tabular}\n",
       "%\\caption{GLM Marginal Effects}\n",
       "\\end{center}"
      ],
      "text/plain": [
       "<class 'statsmodels.iolib.summary.Summary'>\n",
       "\"\"\"\n",
       "         GLM Marginal Effects        \n",
       "=====================================\n",
       "Dep. Variable:             conversion\n",
       "Method:                          eydx\n",
       "At:                           overall\n",
       "==============================================================================\n",
       "            d(lny)/dx    std err          z      P>|z|      [0.025      0.975]\n",
       "------------------------------------------------------------------------------\n",
       "treatment     -1.3717      0.076    -18.077      0.000      -1.520      -1.223\n",
       "==============================================================================\n",
       "\"\"\""
      ]
     },
     "execution_count": 289,
     "metadata": {},
     "output_type": "execute_result"
    }
   ],
   "source": [
    "model.get_margeff(method='eydx').summary()"
   ]
  },
  {
   "cell_type": "code",
   "execution_count": 290,
   "id": "d9f18fdf",
   "metadata": {},
   "outputs": [
    {
     "data": {
      "text/plain": [
       "np.float64(-1.2000456596239202)"
      ]
     },
     "execution_count": 290,
     "metadata": {},
     "output_type": "execute_result"
    }
   ],
   "source": [
    "np.mean(bootstrap_estimates)"
   ]
  },
  {
   "cell_type": "code",
   "execution_count": 291,
   "id": "a9d27275",
   "metadata": {},
   "outputs": [
    {
     "data": {
      "text/plain": [
       "np.float64(-0.6469664415556765)"
      ]
     },
     "execution_count": 291,
     "metadata": {},
     "output_type": "execute_result"
    }
   ],
   "source": [
    "model = smf.ols(formula='conversion ~ treatment', data=experiment_df).fit()\n",
    "model.params['treatment']"
   ]
  },
  {
   "cell_type": "code",
   "execution_count": 236,
   "id": "d9a2fa7a",
   "metadata": {},
   "outputs": [
    {
     "data": {
      "text/plain": [
       "np.float64(-0.22586323446291584)"
      ]
     },
     "execution_count": 236,
     "metadata": {},
     "output_type": "execute_result"
    }
   ],
   "source": [
    "get_pc_delta_conversions(outcomes['treatment'], outcomes['control'])"
   ]
  },
  {
   "cell_type": "code",
   "execution_count": 301,
   "id": "d279da0f",
   "metadata": {},
   "outputs": [
    {
     "data": {
      "text/plain": [
       "np.float64(-0.15434522302518244)"
      ]
     },
     "execution_count": 301,
     "metadata": {},
     "output_type": "execute_result"
    }
   ],
   "source": [
    "outcomes['treatment'].mean() - outcomes['control'].mean()"
   ]
  },
  {
   "cell_type": "code",
   "execution_count": 300,
   "id": "3b73336c",
   "metadata": {},
   "outputs": [
    {
     "data": {
      "text/plain": [
       "np.float64(-1.3818264758651992)"
      ]
     },
     "execution_count": 300,
     "metadata": {},
     "output_type": "execute_result"
    }
   ],
   "source": [
    "np.mean(bootstrap_estimates)"
   ]
  },
  {
   "cell_type": "markdown",
   "id": "c4f54d20",
   "metadata": {},
   "source": [
    "First we use a Wald Estimator\n",
    "\n",
    "$$\n",
    "\\theta = \\frac{E[\\ln(\\textup{Conversion}) | \\textup{Higher budget}] - E[\\ln(\\textup{Conversion}) | \\textup{Lower budget}]}\n",
    "{E[\\ln(\\textup{Budget}) | \\textup{Higher Budget}] - E[\\ln\\textup{Budget} | \\textup{Lower Budget}]}\n",
    "$$\n",
    "\n",
    "Note, this is a linear estimator, but our model is non linear. So there will be some approximation error."
   ]
  },
  {
   "cell_type": "code",
   "execution_count": null,
   "id": "067d4769",
   "metadata": {},
   "outputs": [],
   "source": []
  },
  {
   "cell_type": "code",
   "execution_count": 8,
   "id": "5d908512",
   "metadata": {},
   "outputs": [
    {
     "name": "stdout",
     "output_type": "stream",
     "text": [
      "Estimated elasticity (up to same) is -1.06, (-2.76, 0.71)\n",
      "Estimated elasticity (same to down) is -3.65, (-4.74, -2.59)\n",
      "Estimated elasticity (up to down) is -2.44, (-3.20, -1.77)\n"
     ]
    }
   ],
   "source": [
    "def get_wald_estimate_simple(df: pd.DataFrame, Z1_name: str, Z0_name: str) -> float:\n",
    "    # Delta log conversion rate / Delta log budget\n",
    "    p1 = df.loc[df['assignment']==Z1_name]['conversion'].mean()\n",
    "    p0 = df.loc[df['assignment']==Z0_name]['conversion'].mean()\n",
    "    \n",
    "    delta_ln_conversion = np.log(p1) - np.log(p0)\n",
    "    delta_ln_budget = np.mean(np.log(df.loc[df.assignment==Z1_name].budget)) - \\\n",
    "                      np.mean(np.log(df.loc[df.assignment==Z0_name].budget))\n",
    "    \n",
    "    return delta_ln_conversion / delta_ln_budget\n",
    "\n",
    "\n",
    "Z1 = ['up', 'same', 'up']\n",
    "Z0 = ['same', 'down', 'down']\n",
    "for z1, z0 in zip(Z1, Z0):\n",
    "    wald_bs = [get_wald_estimate_simple(df.sample(n=10000, replace=True), z1, z0) for i in range(1000)]\n",
    "    print(f\"Estimated elasticity ({z1} to {z0}) is {np.mean(wald_bs):.2f}, ({np.quantile(wald_bs, 0.05):.2f}, {np.quantile(wald_bs, 0.95):.2f})\")"
   ]
  },
  {
   "cell_type": "code",
   "execution_count": 9,
   "id": "000e7314",
   "metadata": {},
   "outputs": [
    {
     "name": "stdout",
     "output_type": "stream",
     "text": [
      "Elasticity: -3\n",
      "IV Logit elasticity: -1.260, ([-3.84802476  1.32739887])\n",
      "Test of exogeneity (residual coef): -2.339\n",
      "P-value: 0.365\n",
      "Estimated elasticity is -2.79, (-3.58, -2.05)\n"
     ]
    }
   ],
   "source": [
    "def simple_iv_logit(df):\n",
    "    df['log_budget'] = np.log(df['budget'])\n",
    "    \n",
    "    # Create instrument dummies\n",
    "    df['up_dummy'] = (df['assignment'] == 'up').astype(int)\n",
    "    df['down_dummy'] = (df['assignment'] == 'down').astype(int)\n",
    "    \n",
    "    # First stage: log_budget ~ up_dummy + down_dummy\n",
    "    X_first = sm.add_constant(df[['up_dummy', 'down_dummy']])\n",
    "    first_stage = sm.OLS(df['log_budget'], X_first).fit()\n",
    "    df['residual_v1'] = first_stage.resid\n",
    "    \n",
    "    # Second stage logit\n",
    "    X_second = sm.add_constant(df[['log_budget', 'residual_v1']])\n",
    "    logit_model = Logit(df['conversion'], X_second).fit(disp=False)\n",
    "    \n",
    "    elasticity = logit_model.params['log_budget']\n",
    "    ci_elasticity = logit_model.conf_int(alpha=0.05).loc['log_budget'].values\n",
    "    return elasticity, logit_model, ci_elasticity\n",
    "\n",
    "# Usage\n",
    "print(f\"Elasticity: {elasticity}\")\n",
    "est_elasticity, model, ci = simple_iv_logit(df.sample(n=1000, replace=True))\n",
    "print(f\"IV Logit elasticity: {est_elasticity:.3f}, ({model.conf_int(alpha=0.05).loc['log_budget'].values})\")\n",
    "print(f\"Test of exogeneity (residual coef): {model.params['residual_v1']:.3f}\")\n",
    "print(f\"P-value: {model.pvalues['residual_v1']:.3f}\")\n",
    "\n",
    "iv_ests = [(e, True if m.pvalues['residual_v1']> 0.05 else False) for e, m, ci in [simple_iv_logit(df.sample(n=10000, replace=True)) for i in range(100)]]\n",
    "\n",
    "print(f\"Estimated elasticity is {np.mean([x[0] for x in iv_ests]):.2f}, ({np.quantile([x[0] for x in iv_ests], 0.05):.2f}, {np.quantile([x[0] for x in iv_ests], 0.95):.2f})\")"
   ]
  },
  {
   "cell_type": "markdown",
   "id": "90712718",
   "metadata": {},
   "source": [
    "## Exploiting estimates\n"
   ]
  },
  {
   "cell_type": "code",
   "execution_count": 10,
   "id": "6b9d0d9d",
   "metadata": {},
   "outputs": [
    {
     "data": {
      "text/plain": [
       "{'original': np.float64(985093.6589743372),\n",
       " 'simulated': np.float64(888244.6510297453)}"
      ]
     },
     "execution_count": 10,
     "metadata": {},
     "output_type": "execute_result"
    }
   ],
   "source": [
    "simulated_results = simulate_outcomes(df, alpha, elasticity, est_elasticity, -0.1) \n",
    "simulated_results"
   ]
  },
  {
   "cell_type": "markdown",
   "id": "88e13b64",
   "metadata": {},
   "source": [
    "By lowering revenue, we can raise revenue"
   ]
  },
  {
   "cell_type": "code",
   "execution_count": 11,
   "id": "1cdfcf05",
   "metadata": {},
   "outputs": [
    {
     "name": "stdout",
     "output_type": "stream",
     "text": [
      "Elasticity: -0.0\n",
      "IV Logit elasticity: 0.569, ([-0.36355157  1.50093122])\n",
      "Test of exogeneity (residual coef): -0.838\n",
      "P-value: 0.362\n",
      "Estimated elasticity is 0.52, (-0.25, 1.33)\n"
     ]
    },
    {
     "data": {
      "text/plain": [
       "{'original': np.float64(201607.62295949477),\n",
       " 'simulated': np.float64(231517.04710532047)}"
      ]
     },
     "execution_count": 11,
     "metadata": {},
     "output_type": "execute_result"
    }
   ],
   "source": [
    "alpha = -4\n",
    "elasticity = -0.00\n",
    "df = get_simulation(10000, 0.2, alpha, elasticity)\n",
    "print(f\"Elasticity: {elasticity}\")\n",
    "est_elasticity, model, ci = simple_iv_logit(df)\n",
    "print(f\"IV Logit elasticity: {est_elasticity:.3f}, ({model.conf_int(alpha=0.05).loc['log_budget'].values})\")\n",
    "print(f\"Test of exogeneity (residual coef): {model.params['residual_v1']:.3f}\")\n",
    "print(f\"P-value: {model.pvalues['residual_v1']:.3f}\")\n",
    "\n",
    "iv_ests = [(e, True if m.pvalues['residual_v1']> 0.05 else False) for e, m, ci in [simple_iv_logit(df.sample(n=10000, replace=True)) for i in range(100)]]\n",
    "\n",
    "print(f\"Estimated elasticity is {np.mean([x[0] for x in iv_ests]):.2f}, ({np.quantile([x[0] for x in iv_ests], 0.05):.2f}, {np.quantile([x[0] for x in iv_ests], 0.95):.2f})\")\n",
    "\n",
    "\n",
    "simulated_results = simulate_outcomes(df, alpha, elasticity, est_elasticity, 0.1) \n",
    "simulated_results"
   ]
  },
  {
   "cell_type": "code",
   "execution_count": 12,
   "id": "8c4ceb31",
   "metadata": {},
   "outputs": [
    {
     "name": "stdout",
     "output_type": "stream",
     "text": [
      "True elasticity is -0.1\n",
      "Baseline conversion rate 0.0292\n",
      "Raise prices to increase revenue\n"
     ]
    }
   ],
   "source": [
    "alpha = -3\n",
    "elasticity = -1/10\n",
    "print(f\"True elasticity is {elasticity}\")\n",
    "df = get_simulation(10000, 0.2, alpha, elasticity)\n",
    "print(f\"Baseline conversion rate {df.conversion.mean()}\")\n",
    "if abs(elasticity) < 1:\n",
    "    print(\"Raise prices to increase revenue\")\n",
    "else:\n",
    "    print(\"Lower prices to increase revenue\")"
   ]
  },
  {
   "cell_type": "code",
   "execution_count": 13,
   "id": "060f0406",
   "metadata": {},
   "outputs": [],
   "source": [
    "gt_params = [\n",
    "    (20, -5),\n",
    "    (15, -4),\n",
    "    (10, -3),\n",
    "    (5, -2),\n",
    "    (0, -1),\n",
    "    (-2, -1/2),\n",
    "    (-3, -1/10)\n",
    "]"
   ]
  },
  {
   "cell_type": "code",
   "execution_count": 364,
   "id": "888f32d5",
   "metadata": {},
   "outputs": [
    {
     "name": "stdout",
     "output_type": "stream",
     "text": [
      "Elasticity is -5\n",
      "Lower prices in 1.00 share of simulations\n",
      "Raise prices in 0.00 share of simulations\n",
      "Elasticity is -4\n",
      "Lower prices in 1.00 share of simulations\n",
      "Raise prices in 0.00 share of simulations\n",
      "Elasticity is -3\n",
      "Lower prices in 1.00 share of simulations\n",
      "Raise prices in 0.00 share of simulations\n",
      "Elasticity is -2\n",
      "Lower prices in 0.52 share of simulations\n",
      "Raise prices in 0.00 share of simulations\n",
      "Elasticity is -1\n",
      "Lower prices in 0.02 share of simulations\n",
      "Raise prices in 0.03 share of simulations\n",
      "Elasticity is -0.5\n",
      "Lower prices in 0.00 share of simulations\n",
      "Raise prices in 0.15 share of simulations\n",
      "Elasticity is -0.1\n",
      "Lower prices in 0.00 share of simulations\n",
      "Raise prices in 0.69 share of simulations\n"
     ]
    },
    {
     "data": {
      "application/vnd.microsoft.datawrangler.viewer.v0+json": {
       "columns": [
        {
         "name": "elasticity",
         "rawType": "float64",
         "type": "float"
        },
        {
         "name": "uplift",
         "rawType": "float64",
         "type": "float"
        }
       ],
       "ref": "586b53b2-8a6b-4cc5-aa57-34ae8071211a",
       "rows": [
        [
         "-5.0",
         "28089.289307967407"
        ],
        [
         "-4.0",
         "15582.050573392757"
        ],
        [
         "-3.0",
         "6768.329844278741"
        ],
        [
         "-2.0",
         "364.24368664052776"
        ],
        [
         "-1.0",
         "2584.9776483092046"
        ],
        [
         "-0.5",
         "4597.322005100355"
        ],
        [
         "-0.1",
         "7221.189765171023"
        ]
       ],
       "shape": {
        "columns": 1,
        "rows": 7
       }
      },
      "text/plain": [
       "elasticity\n",
       "-5.0    28089.289308\n",
       "-4.0    15582.050573\n",
       "-3.0     6768.329844\n",
       "-2.0      364.243687\n",
       "-1.0     2584.977648\n",
       "-0.5     4597.322005\n",
       "-0.1     7221.189765\n",
       "Name: uplift, dtype: float64"
      ]
     },
     "execution_count": 364,
     "metadata": {},
     "output_type": "execute_result"
    }
   ],
   "source": [
    "bs_results = []\n",
    "\n",
    "n_sims = 100\n",
    "for alpha, elasticity in gt_params:\n",
    "    print(f\"Elasticity is {elasticity}\")\n",
    "    raise_counter = 0\n",
    "    lower_counter = 0\n",
    "    for i in range(n_sims):\n",
    "        df = get_simulation(10000, 0.2, alpha, elasticity)\n",
    "        iv_est, model, ci = simple_iv_logit(df)\n",
    "        # sanity check\n",
    "        # iv_est = elasticity\n",
    "        # ci = [elasticity, elasticity] \n",
    "        if ci[1] < -1:\n",
    "            # upper bound of estimate is less than -1\n",
    "            # elastic, lower prices\n",
    "            sim_change = -0.1\n",
    "            lower_counter += 1\n",
    "        elif ci[0] > -1:\n",
    "            # lower bound of estimate is greater than -1\n",
    "            # inelastic, raise prices\n",
    "            sim_change = 0.1\n",
    "            raise_counter += 1\n",
    "        else:\n",
    "            # inconclusive\n",
    "            sim_change = 0\n",
    "        simulated_results = simulate_outcomes(df, alpha, elasticity, iv_est, sim_change) \n",
    "        simulated_results['iv_est'] = iv_est\n",
    "        simulated_results['elasticity'] = elasticity\n",
    "        simulated_results['budget_change'] = sim_change\n",
    "\n",
    "        bs_results.append(simulated_results)    \n",
    "\n",
    "    print(f\"Lower prices in {lower_counter / n_sims:.2f} share of simulations\")\n",
    "    print(f\"Raise prices in {raise_counter / n_sims:.2f} share of simulations\")\n",
    "\n",
    "df_bootstrap = pd.DataFrame(bs_results)\n",
    "df_bootstrap['uplift'] = df_bootstrap['simulated'] - df_bootstrap['original']\n",
    "df_bootstrap.groupby(\"elasticity\")['uplift'].mean()"
   ]
  },
  {
   "cell_type": "markdown",
   "id": "6ff2707d",
   "metadata": {},
   "source": [
    "We can increase revenue in every case, on expectation.\n",
    "\n",
    "Concerns\n",
    "\n",
    "- very hard to get practical estimates for relatively inelastic estimates\n",
    "- with 20% changes up, down we only get significance for around 1/2 estimates when elasticity in {-2, 1/2}\n",
    "- For elasticity < -3, we always decrease, correctly\n",
    "- For elasiticty = -0.1, we only increase 0.7 simulations"
   ]
  },
  {
   "cell_type": "code",
   "execution_count": null,
   "id": "ede6fc15",
   "metadata": {},
   "outputs": [],
   "source": []
  }
 ],
 "metadata": {
  "kernelspec": {
   "display_name": "conversion-elasticity",
   "language": "python",
   "name": "python3"
  },
  "language_info": {
   "codemirror_mode": {
    "name": "ipython",
    "version": 3
   },
   "file_extension": ".py",
   "mimetype": "text/x-python",
   "name": "python",
   "nbconvert_exporter": "python",
   "pygments_lexer": "ipython3",
   "version": "3.13.4"
  }
 },
 "nbformat": 4,
 "nbformat_minor": 5
}
